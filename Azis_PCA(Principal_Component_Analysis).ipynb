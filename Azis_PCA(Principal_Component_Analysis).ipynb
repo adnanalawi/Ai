{
  "nbformat": 4,
  "nbformat_minor": 0,
  "metadata": {
    "colab": {
      "provenance": [],
      "include_colab_link": true
    },
    "kernelspec": {
      "name": "python3",
      "display_name": "Python 3"
    },
    "language_info": {
      "name": "python"
    }
  },
  "cells": [
    {
      "cell_type": "markdown",
      "metadata": {
        "id": "view-in-github",
        "colab_type": "text"
      },
      "source": [
        "<a href=\"https://colab.research.google.com/github/heizsen/Ai/blob/main/Azis_PCA(Principal_Component_Analysis).ipynb\" target=\"_parent\"><img src=\"https://colab.research.google.com/assets/colab-badge.svg\" alt=\"Open In Colab\"/></a>"
      ]
    },
    {
      "cell_type": "markdown",
      "source": [
        "PCA stands for Principal Component Analysis. It's a popular technique used for dimensionality reduction in data analysis and machine learning. The primary goal of PCA is to reduce the dimensionality of a dataset while preserving as much variance as possible.\n",
        "\n",
        "Here's a breakdown of how PCA works:\n",
        "\n",
        "1. **Data Standardization**: Before applying PCA, it's essential to standardize the data to have a mean of 0 and a standard deviation of 1. This step ensures that all variables contribute equally to the analysis.\n",
        "\n",
        "2. **Covariance Matrix Computation**: PCA computes the covariance matrix of the standardized data. The covariance matrix represents the relationships between pairs of variables in the dataset.\n",
        "\n",
        "3. **Eigenvalue Decomposition**: PCA then decomposes the covariance matrix into its eigenvectors and eigenvalues. Eigenvectors represent the directions of maximum variance in the data, while eigenvalues represent the magnitude of variance along these directions.\n",
        "\n",
        "4. **Selection of Principal Components**: PCA sorts the eigenvectors based on their corresponding eigenvalues in descending order. These eigenvectors are called principal components. The number of principal components chosen is typically determined by the desired level of variance retained in the reduced-dimensional space.\n",
        "\n",
        "5. **Projection**: Finally, PCA projects the original data onto the subspace spanned by the selected principal components. This projection transforms the data into a lower-dimensional space while preserving the maximum variance.\n",
        "\n",
        "PCA is widely used for various purposes, including data visualization, noise reduction, feature extraction, and data compression. It's particularly beneficial in scenarios with high-dimensional data, such as image processing, genetics, finance, and text analysis, where reducing the dimensionality can lead to simpler and more efficient models."
      ],
      "metadata": {
        "id": "zfVp0gmXgwU0"
      }
    },
    {
      "cell_type": "code",
      "execution_count": null,
      "metadata": {
        "id": "KPivIma_Yydu"
      },
      "outputs": [],
      "source": [
        "import numpy as np\n",
        "import pandas as pd\n",
        "import matplotlib.pyplot as plt\n",
        "import seaborn as sns"
      ]
    },
    {
      "cell_type": "code",
      "source": [
        "df = pd.read_csv(\"https://raw.githubusercontent.com/DianCA26/Dataset/main/CarPrice_Assignment.csv\")"
      ],
      "metadata": {
        "id": "TI2xIMgIY3PI"
      },
      "execution_count": null,
      "outputs": []
    },
    {
      "cell_type": "code",
      "source": [
        "df.select_dtypes(include=np.number).columns.tolist()"
      ],
      "metadata": {
        "colab": {
          "base_uri": "https://localhost:8080/"
        },
        "id": "GREee6MUgM-H",
        "outputId": "e7753d3d-6bf2-45fa-aa04-7f1b82d65378"
      },
      "execution_count": null,
      "outputs": [
        {
          "output_type": "execute_result",
          "data": {
            "text/plain": [
              "['car_ID',\n",
              " 'symboling',\n",
              " 'wheelbase',\n",
              " 'carlength',\n",
              " 'carwidth',\n",
              " 'carheight',\n",
              " 'curbweight',\n",
              " 'enginesize',\n",
              " 'boreratio',\n",
              " 'stroke',\n",
              " 'compressionratio',\n",
              " 'horsepower',\n",
              " 'peakrpm',\n",
              " 'citympg',\n",
              " 'highwaympg',\n",
              " 'price']"
            ]
          },
          "metadata": {},
          "execution_count": 3
        }
      ]
    },
    {
      "cell_type": "code",
      "source": [
        "X = df[['symboling',\n",
        " 'wheelbase',\n",
        " 'carlength',\n",
        " 'carwidth',\n",
        " 'carheight',\n",
        " 'curbweight',\n",
        " 'enginesize',\n",
        " 'boreratio',\n",
        " 'stroke',\n",
        " 'compressionratio',\n",
        " 'horsepower',\n",
        " 'peakrpm',\n",
        " 'citympg',\n",
        " 'highwaympg']]\n",
        "y = df['price']"
      ],
      "metadata": {
        "id": "Z1s_g6FNY7Aw"
      },
      "execution_count": null,
      "outputs": []
    },
    {
      "cell_type": "code",
      "source": [
        "from sklearn.model_selection import train_test_split\n",
        "X_train, X_test, y_train, y_test = train_test_split(X, y, test_size=0.2, random_state=26)"
      ],
      "metadata": {
        "id": "pF_n8PulY_gR"
      },
      "execution_count": null,
      "outputs": []
    },
    {
      "cell_type": "code",
      "source": [
        "from sklearn.preprocessing import StandardScaler\n",
        "sc=StandardScaler()\n",
        "sc.fit(X_train)\n",
        "X_train_sc=sc.transform(X_train)\n",
        "X_test_sc=sc.transform(X_test)"
      ],
      "metadata": {
        "id": "w5IOTx9TZQ4B"
      },
      "execution_count": null,
      "outputs": []
    },
    {
      "cell_type": "code",
      "source": [
        "from sklearn.decomposition import PCA\n",
        "pca = PCA()\n",
        "pca.fit(X_train_sc)\n",
        "cumsum = np.cumsum(pca.explained_variance_ratio_)\n",
        "d = np.argmax(cumsum >= 0.95) + 1"
      ],
      "metadata": {
        "id": "M9GSBzrAkZXo"
      },
      "execution_count": null,
      "outputs": []
    },
    {
      "cell_type": "code",
      "source": [
        "plt.figure(figsize=(6,4))\n",
        "plt.plot(cumsum, linewidth=3)\n",
        "plt.axis([0, 14, 0, 1])\n",
        "plt.xlabel(\"Dimensions\")\n",
        "plt.ylabel(\"Explained Variance\")\n",
        "plt.plot([d, d], [0, 0.95], \"k:\")\n",
        "plt.plot([0, d], [0.95, 0.95], \"k:\")\n",
        "plt.plot(d, 0.95, \"ko\")\n",
        "plt.grid(True)\n",
        "plt.show()"
      ],
      "metadata": {
        "colab": {
          "base_uri": "https://localhost:8080/",
          "height": 393
        },
        "id": "P33QoarnkVMf",
        "outputId": "87e71ece-a2ed-4232-8593-60e7db29a3a3"
      },
      "execution_count": null,
      "outputs": [
        {
          "output_type": "display_data",
          "data": {
            "text/plain": [
              "<Figure size 600x400 with 1 Axes>"
            ],
            "image/png": "[encoded data removed]"
          },
          "metadata": {}
        }
      ]
    },
    {
      "cell_type": "code",
      "source": [
        "from sklearn.decomposition import KernelPCA\n",
        "\n",
        "Kpca=KernelPCA(n_components=4)\n",
        "Kpca.fit(X_train_sc)"
      ],
      "metadata": {
        "colab": {
          "base_uri": "https://localhost:8080/",
          "height": 74
        },
        "id": "2ggsRzY-Cq9z",
        "outputId": "ee4c4789-e661-4d51-cc49-9da5aad23379"
      },
      "execution_count": null,
      "outputs": [
        {
          "output_type": "execute_result",
          "data": {
            "text/plain": [
              "KernelPCA(n_components=4)"
            ],
            "text/html": [
              "<style>#sk-container-id-1 {color: black;background-color: white;}#sk-container-id-1 pre{padding: 0;}#sk-container-id-1 div.sk-toggleable {background-color: white;}#sk-container-id-1 label.sk-toggleable__label {cursor: pointer;display: block;width: 100%;margin-bottom: 0;padding: 0.3em;box-sizing: border-box;text-align: center;}#sk-container-id-1 label.sk-toggleable__label-arrow:before {content: \"▸\";float: left;margin-right: 0.25em;color: #696969;}#sk-container-id-1 label.sk-toggleable__label-arrow:hover:before {color: black;}#sk-container-id-1 div.sk-estimator:hover label.sk-toggleable__label-arrow:before {color: black;}#sk-container-id-1 div.sk-toggleable__content {max-height: 0;max-width: 0;overflow: hidden;text-align: left;background-color: #f0f8ff;}#sk-container-id-1 div.sk-toggleable__content pre {margin: 0.2em;color: black;border-radius: 0.25em;background-color: #f0f8ff;}#sk-container-id-1 input.sk-toggleable__control:checked~div.sk-toggleable__content {max-height: 200px;max-width: 100%;overflow: auto;}#sk-container-id-1 input.sk-toggleable__control:checked~label.sk-toggleable__label-arrow:before {content: \"▾\";}#sk-container-id-1 div.sk-estimator input.sk-toggleable__control:checked~label.sk-toggleable__label {background-color: #d4ebff;}#sk-container-id-1 div.sk-label input.sk-toggleable__control:checked~label.sk-toggleable__label {background-color: #d4ebff;}#sk-container-id-1 input.sk-hidden--visually {border: 0;clip: rect(1px 1px 1px 1px);clip: rect(1px, 1px, 1px, 1px);height: 1px;margin: -1px;overflow: hidden;padding: 0;position: absolute;width: 1px;}#sk-container-id-1 div.sk-estimator {font-family: monospace;background-color: #f0f8ff;border: 1px dotted black;border-radius: 0.25em;box-sizing: border-box;margin-bottom: 0.5em;}#sk-container-id-1 div.sk-estimator:hover {background-color: #d4ebff;}#sk-container-id-1 div.sk-parallel-item::after {content: \"\";width: 100%;border-bottom: 1px solid gray;flex-grow: 1;}#sk-container-id-1 div.sk-label:hover label.sk-toggleable__label {background-color: #d4ebff;}#sk-container-id-1 div.sk-serial::before {content: \"\";position: absolute;border-left: 1px solid gray;box-sizing: border-box;top: 0;bottom: 0;left: 50%;z-index: 0;}#sk-container-id-1 div.sk-serial {display: flex;flex-direction: column;align-items: center;background-color: white;padding-right: 0.2em;padding-left: 0.2em;position: relative;}#sk-container-id-1 div.sk-item {position: relative;z-index: 1;}#sk-container-id-1 div.sk-parallel {display: flex;align-items: stretch;justify-content: center;background-color: white;position: relative;}#sk-container-id-1 div.sk-item::before, #sk-container-id-1 div.sk-parallel-item::before {content: \"\";position: absolute;border-left: 1px solid gray;box-sizing: border-box;top: 0;bottom: 0;left: 50%;z-index: -1;}#sk-container-id-1 div.sk-parallel-item {display: flex;flex-direction: column;z-index: 1;position: relative;background-color: white;}#sk-container-id-1 div.sk-parallel-item:first-child::after {align-self: flex-end;width: 50%;}#sk-container-id-1 div.sk-parallel-item:last-child::after {align-self: flex-start;width: 50%;}#sk-container-id-1 div.sk-parallel-item:only-child::after {width: 0;}#sk-container-id-1 div.sk-dashed-wrapped {border: 1px dashed gray;margin: 0 0.4em 0.5em 0.4em;box-sizing: border-box;padding-bottom: 0.4em;background-color: white;}#sk-container-id-1 div.sk-label label {font-family: monospace;font-weight: bold;display: inline-block;line-height: 1.2em;}#sk-container-id-1 div.sk-label-container {text-align: center;}#sk-container-id-1 div.sk-container {/* jupyter's `normalize.less` sets `[hidden] { display: none; }` but bootstrap.min.css set `[hidden] { display: none !important; }` so we also need the `!important` here to be able to override the default hidden behavior on the sphinx rendered scikit-learn.org. See: https://github.com/scikit-learn/scikit-learn/issues/21755 */display: inline-block !important;position: relative;}#sk-container-id-1 div.sk-text-repr-fallback {display: none;}</style><div id=\"sk-container-id-1\" class=\"sk-top-container\"><div class=\"sk-text-repr-fallback\"><pre>KernelPCA(n_components=4)</pre><b>In a Jupyter environment, please rerun this cell to show the HTML representation or trust the notebook. <br />On GitHub, the HTML representation is unable to render, please try loading this page with nbviewer.org.</b></div><div class=\"sk-container\" hidden><div class=\"sk-item\"><div class=\"sk-estimator sk-toggleable\"><input class=\"sk-toggleable__control sk-hidden--visually\" id=\"sk-estimator-id-1\" type=\"checkbox\" checked><label for=\"sk-estimator-id-1\" class=\"sk-toggleable__label sk-toggleable__label-arrow\">KernelPCA</label><div class=\"sk-toggleable__content\"><pre>KernelPCA(n_components=4)</pre></div></div></div></div></div>"
            ]
          },
          "metadata": {},
          "execution_count": 9
        }
      ]
    },
    {
      "cell_type": "code",
      "source": [
        "pca = PCA(n_components=4)\n",
        "pca.fit(X_train_sc)\n",
        "X_reduced = pca.transform(X_train_sc)\n",
        "X_reduced_test = pca.transform(X_test_sc)"
      ],
      "metadata": {
        "id": "12HeODghiMbC"
      },
      "execution_count": null,
      "outputs": []
    },
    {
      "cell_type": "code",
      "source": [
        "from sklearn.svm import SVR\n",
        "model = SVR(kernel=\"poly\", degree=3,C=1000,epsilon=0.01)\n",
        "model.fit(X_reduced, y_train)\n",
        "y_train_pred = model.predict(X_reduced)\n",
        "y_test_pred = model.predict(X_reduced_test)"
      ],
      "metadata": {
        "id": "U7uKxyyKZCj-"
      },
      "execution_count": null,
      "outputs": []
    },
    {
      "cell_type": "code",
      "source": [
        "from sklearn.metrics import mean_absolute_error,mean_squared_error,r2_score\n",
        "\n",
        "print('MAE train = ', mean_absolute_error(y_train, y_train_pred))\n",
        "print('MAE test = ', mean_absolute_error(y_test, y_test_pred))\n",
        "\n",
        "print('MSE train = ', mean_squared_error(y_train, y_train_pred))\n",
        "print('MSE test = ', mean_squared_error(y_test, y_test_pred))\n",
        "\n",
        "print('RMSE train = ', np.sqrt(mean_squared_error(y_train, y_train_pred)))\n",
        "print('RMSE test = ', np.sqrt(mean_squared_error(y_test, y_test_pred)))\n",
        "\n",
        "print('r2score train = ', r2_score(y_train, y_train_pred))\n",
        "print('r2score test = ', r2_score(y_test, y_test_pred))\n"
      ],
      "metadata": {
        "colab": {
          "base_uri": "https://localhost:8080/"
        },
        "id": "2yZf-srFlKSR",
        "outputId": "0d2ae0cc-9cb5-4313-b758-c34e62106d15"
      },
      "execution_count": null,
      "outputs": [
        {
          "output_type": "stream",
          "name": "stdout",
          "text": [
            "MAE train =  2963.858414581467\n",
            "MAE test =  2922.098628054763\n",
            "MSE train =  25315751.66111914\n",
            "MSE test =  24458818.508527495\n",
            "RMSE train =  5031.476091677187\n",
            "RMSE test =  4945.585759900186\n",
            "r2score train =  0.6261687705401148\n",
            "r2score test =  0.4595685743385691\n"
          ]
        }
      ]
    },
    {
      "cell_type": "markdown",
      "source": [
        "# **Pipeline**"
      ],
      "metadata": {
        "id": "AQrrUn2FiNYJ"
      }
    },
    {
      "cell_type": "code",
      "source": [
        "from sklearn.pipeline import Pipeline"
      ],
      "metadata": {
        "id": "hbP4LqeRnwLe"
      },
      "execution_count": null,
      "outputs": []
    },
    {
      "cell_type": "code",
      "source": [
        "pipe = Pipeline([(\"scale\", StandardScaler()),\n",
        "                 (\"pca\",PCA(n_components=4)),\n",
        "                 (\"svr\", SVR(kernel='poly',degree=3,C=1000,epsilon=0.01))])\n",
        "pipe.fit(X_train,y_train)"
      ],
      "metadata": {
        "colab": {
          "base_uri": "https://localhost:8080/",
          "height": 158
        },
        "id": "OZK3jMhkZDSe",
        "outputId": "1f567e0b-15f3-4752-e954-d6840fb612f9"
      },
      "execution_count": null,
      "outputs": [
        {
          "output_type": "execute_result",
          "data": {
            "text/plain": [
              "Pipeline(steps=[('scale', StandardScaler()), ('pca', PCA(n_components=4)),\n",
              "                ('svr', SVR(C=1000, epsilon=0.01, kernel='poly'))])"
            ],
            "text/html": [
              "<style>#sk-container-id-2 {color: black;background-color: white;}#sk-container-id-2 pre{padding: 0;}#sk-container-id-2 div.sk-toggleable {background-color: white;}#sk-container-id-2 label.sk-toggleable__label {cursor: pointer;display: block;width: 100%;margin-bottom: 0;padding: 0.3em;box-sizing: border-box;text-align: center;}#sk-container-id-2 label.sk-toggleable__label-arrow:before {content: \"▸\";float: left;margin-right: 0.25em;color: #696969;}#sk-container-id-2 label.sk-toggleable__label-arrow:hover:before {color: black;}#sk-container-id-2 div.sk-estimator:hover label.sk-toggleable__label-arrow:before {color: black;}#sk-container-id-2 div.sk-toggleable__content {max-height: 0;max-width: 0;overflow: hidden;text-align: left;background-color: #f0f8ff;}#sk-container-id-2 div.sk-toggleable__content pre {margin: 0.2em;color: black;border-radius: 0.25em;background-color: #f0f8ff;}#sk-container-id-2 input.sk-toggleable__control:checked~div.sk-toggleable__content {max-height: 200px;max-width: 100%;overflow: auto;}#sk-container-id-2 input.sk-toggleable__control:checked~label.sk-toggleable__label-arrow:before {content: \"▾\";}#sk-container-id-2 div.sk-estimator input.sk-toggleable__control:checked~label.sk-toggleable__label {background-color: #d4ebff;}#sk-container-id-2 div.sk-label input.sk-toggleable__control:checked~label.sk-toggleable__label {background-color: #d4ebff;}#sk-container-id-2 input.sk-hidden--visually {border: 0;clip: rect(1px 1px 1px 1px);clip: rect(1px, 1px, 1px, 1px);height: 1px;margin: -1px;overflow: hidden;padding: 0;position: absolute;width: 1px;}#sk-container-id-2 div.sk-estimator {font-family: monospace;background-color: #f0f8ff;border: 1px dotted black;border-radius: 0.25em;box-sizing: border-box;margin-bottom: 0.5em;}#sk-container-id-2 div.sk-estimator:hover {background-color: #d4ebff;}#sk-container-id-2 div.sk-parallel-item::after {content: \"\";width: 100%;border-bottom: 1px solid gray;flex-grow: 1;}#sk-container-id-2 div.sk-label:hover label.sk-toggleable__label {background-color: #d4ebff;}#sk-container-id-2 div.sk-serial::before {content: \"\";position: absolute;border-left: 1px solid gray;box-sizing: border-box;top: 0;bottom: 0;left: 50%;z-index: 0;}#sk-container-id-2 div.sk-serial {display: flex;flex-direction: column;align-items: center;background-color: white;padding-right: 0.2em;padding-left: 0.2em;position: relative;}#sk-container-id-2 div.sk-item {position: relative;z-index: 1;}#sk-container-id-2 div.sk-parallel {display: flex;align-items: stretch;justify-content: center;background-color: white;position: relative;}#sk-container-id-2 div.sk-item::before, #sk-container-id-2 div.sk-parallel-item::before {content: \"\";position: absolute;border-left: 1px solid gray;box-sizing: border-box;top: 0;bottom: 0;left: 50%;z-index: -1;}#sk-container-id-2 div.sk-parallel-item {display: flex;flex-direction: column;z-index: 1;position: relative;background-color: white;}#sk-container-id-2 div.sk-parallel-item:first-child::after {align-self: flex-end;width: 50%;}#sk-container-id-2 div.sk-parallel-item:last-child::after {align-self: flex-start;width: 50%;}#sk-container-id-2 div.sk-parallel-item:only-child::after {width: 0;}#sk-container-id-2 div.sk-dashed-wrapped {border: 1px dashed gray;margin: 0 0.4em 0.5em 0.4em;box-sizing: border-box;padding-bottom: 0.4em;background-color: white;}#sk-container-id-2 div.sk-label label {font-family: monospace;font-weight: bold;display: inline-block;line-height: 1.2em;}#sk-container-id-2 div.sk-label-container {text-align: center;}#sk-container-id-2 div.sk-container {/* jupyter's `normalize.less` sets `[hidden] { display: none; }` but bootstrap.min.css set `[hidden] { display: none !important; }` so we also need the `!important` here to be able to override the default hidden behavior on the sphinx rendered scikit-learn.org. See: https://github.com/scikit-learn/scikit-learn/issues/21755 */display: inline-block !important;position: relative;}#sk-container-id-2 div.sk-text-repr-fallback {display: none;}</style><div id=\"sk-container-id-2\" class=\"sk-top-container\"><div class=\"sk-text-repr-fallback\"><pre>Pipeline(steps=[(&#x27;scale&#x27;, StandardScaler()), (&#x27;pca&#x27;, PCA(n_components=4)),\n",
              "                (&#x27;svr&#x27;, SVR(C=1000, epsilon=0.01, kernel=&#x27;poly&#x27;))])</pre><b>In a Jupyter environment, please rerun this cell to show the HTML representation or trust the notebook. <br />On GitHub, the HTML representation is unable to render, please try loading this page with nbviewer.org.</b></div><div class=\"sk-container\" hidden><div class=\"sk-item sk-dashed-wrapped\"><div class=\"sk-label-container\"><div class=\"sk-label sk-toggleable\"><input class=\"sk-toggleable__control sk-hidden--visually\" id=\"sk-estimator-id-2\" type=\"checkbox\" ><label for=\"sk-estimator-id-2\" class=\"sk-toggleable__label sk-toggleable__label-arrow\">Pipeline</label><div class=\"sk-toggleable__content\"><pre>Pipeline(steps=[(&#x27;scale&#x27;, StandardScaler()), (&#x27;pca&#x27;, PCA(n_components=4)),\n",
              "                (&#x27;svr&#x27;, SVR(C=1000, epsilon=0.01, kernel=&#x27;poly&#x27;))])</pre></div></div></div><div class=\"sk-serial\"><div class=\"sk-item\"><div class=\"sk-estimator sk-toggleable\"><input class=\"sk-toggleable__control sk-hidden--visually\" id=\"sk-estimator-id-3\" type=\"checkbox\" ><label for=\"sk-estimator-id-3\" class=\"sk-toggleable__label sk-toggleable__label-arrow\">StandardScaler</label><div class=\"sk-toggleable__content\"><pre>StandardScaler()</pre></div></div></div><div class=\"sk-item\"><div class=\"sk-estimator sk-toggleable\"><input class=\"sk-toggleable__control sk-hidden--visually\" id=\"sk-estimator-id-4\" type=\"checkbox\" ><label for=\"sk-estimator-id-4\" class=\"sk-toggleable__label sk-toggleable__label-arrow\">PCA</label><div class=\"sk-toggleable__content\"><pre>PCA(n_components=4)</pre></div></div></div><div class=\"sk-item\"><div class=\"sk-estimator sk-toggleable\"><input class=\"sk-toggleable__control sk-hidden--visually\" id=\"sk-estimator-id-5\" type=\"checkbox\" ><label for=\"sk-estimator-id-5\" class=\"sk-toggleable__label sk-toggleable__label-arrow\">SVR</label><div class=\"sk-toggleable__content\"><pre>SVR(C=1000, epsilon=0.01, kernel=&#x27;poly&#x27;)</pre></div></div></div></div></div></div></div>"
            ]
          },
          "metadata": {},
          "execution_count": 14
        }
      ]
    },
    {
      "cell_type": "code",
      "source": [
        "y_train_pred = pipe.predict(X_train)\n",
        "y_test_pred = pipe.predict(X_test)"
      ],
      "metadata": {
        "id": "7dw-Lk_sohuA"
      },
      "execution_count": null,
      "outputs": []
    },
    {
      "cell_type": "code",
      "source": [
        "print('MAE train = ', mean_absolute_error(y_train, y_train_pred))\n",
        "print('MAE test = ', mean_absolute_error(y_test, y_test_pred))\n",
        "\n",
        "print('MSE train = ', mean_squared_error(y_train, y_train_pred))\n",
        "print('MSE test = ', mean_squared_error(y_test, y_test_pred))\n",
        "\n",
        "print('RMSE train = ', np.sqrt(mean_squared_error(y_train, y_train_pred)))\n",
        "print('RMSE test = ', np.sqrt(mean_squared_error(y_test, y_test_pred)))\n",
        "\n",
        "print('r2score train = ', r2_score(y_train, y_train_pred))\n",
        "print('r2score test = ', r2_score(y_test, y_test_pred))\n"
      ],
      "metadata": {
        "colab": {
          "base_uri": "https://localhost:8080/"
        },
        "id": "f_XYfycKozx-",
        "outputId": "630a9773-b132-4e90-db4d-42e40cd68d93"
      },
      "execution_count": null,
      "outputs": [
        {
          "output_type": "stream",
          "name": "stdout",
          "text": [
            "MAE train =  2963.85841458147\n",
            "MAE test =  2922.0986280547663\n",
            "MSE train =  25315751.661119096\n",
            "MSE test =  24458818.508527484\n",
            "RMSE train =  5031.476091677183\n",
            "RMSE test =  4945.585759900185\n",
            "r2score train =  0.6261687705401155\n",
            "r2score test =  0.45956857433856946\n"
          ]
        }
      ]
    },
    {
      "cell_type": "markdown",
      "source": [
        "# **GridSearch**"
      ],
      "metadata": {
        "id": "s42ZIJhOoNRc"
      }
    },
    {
      "cell_type": "code",
      "source": [
        "from sklearn.model_selection import GridSearchCV"
      ],
      "metadata": {
        "id": "H3baX726l03A"
      },
      "execution_count": null,
      "outputs": []
    },
    {
      "cell_type": "code",
      "source": [
        "param_grid = [{'kernel': ['rbf'],\n",
        "               'C': [0.001, 0.01, 0.1, 1, 10, 100],\n",
        "               'gamma': [0.001, 0.01, 0.1, 1, 10, 100]},\n",
        "              {'kernel': ['linear'],\n",
        "               'C': [0.001, 0.01, 0.1, 1, 10, 100]},\n",
        "              {'kernel': ['poly'],\n",
        "               'degree': [2,3,4,5,6,7,8],\n",
        "               'epsilon': [0.01, 0.02, 0.05, 1, 10, 100, 1000],\n",
        "               'C': [0.001, 0.01, 0.1, 1, 10, 100, 1000, 10000, 100000]}]"
      ],
      "metadata": {
        "id": "_uHaiElLl5YZ"
      },
      "execution_count": null,
      "outputs": []
    },
    {
      "cell_type": "code",
      "source": [
        "grid_search = GridSearchCV(SVR(), param_grid, cv=5, scoring=\"r2\")\n",
        "grid_search.fit(X_reduced, y_train)\n",
        "print(\"Best parameters: {}\".format(grid_search.best_params_))\n",
        "print(\"Best cross-validation score: {:.2f}\".format(grid_search.best_score_))"
      ],
      "metadata": {
        "colab": {
          "base_uri": "https://localhost:8080/"
        },
        "id": "FIkvF2iil95C",
        "outputId": "19d16c43-90ac-475e-912a-8626a1fca27d"
      },
      "execution_count": null,
      "outputs": [
        {
          "output_type": "stream",
          "name": "stdout",
          "text": [
            "Best parameters: {'C': 100, 'kernel': 'linear'}\n",
            "Best cross-validation score: 0.62\n"
          ]
        }
      ]
    },
    {
      "cell_type": "code",
      "source": [
        "y_train_pred=grid_search.best_estimator_.predict(X_reduced)\n",
        "y_test_pred=grid_search.best_estimator_.predict(X_reduced_test)"
      ],
      "metadata": {
        "id": "S1wPVKEUnSsy"
      },
      "execution_count": null,
      "outputs": []
    },
    {
      "cell_type": "code",
      "source": [
        "print('MAE train = ', mean_absolute_error(y_train, y_train_pred))\n",
        "print('MAE test = ', mean_absolute_error(y_test, y_test_pred))\n",
        "\n",
        "print('MSE train = ', mean_squared_error(y_train, y_train_pred))\n",
        "print('MSE test = ', mean_squared_error(y_test, y_test_pred))\n",
        "\n",
        "print('RMSE train = ', np.sqrt(mean_squared_error(y_train, y_train_pred)))\n",
        "print('RMSE test = ', np.sqrt(mean_squared_error(y_test, y_test_pred)))\n",
        "\n",
        "print('r2score train = ', r2_score(y_train, y_train_pred))\n",
        "print('r2score test = ', r2_score(y_test, y_test_pred))"
      ],
      "metadata": {
        "colab": {
          "base_uri": "https://localhost:8080/"
        },
        "id": "8rUOHpJ5nZDV",
        "outputId": "e0e1581e-e75b-4e3b-fd6f-fbacf4937513"
      },
      "execution_count": null,
      "outputs": [
        {
          "output_type": "stream",
          "name": "stdout",
          "text": [
            "MAE train =  2800.7847660437337\n",
            "MAE test =  2722.011648744014\n",
            "MSE train =  21885906.367292963\n",
            "MSE test =  12821662.261170948\n",
            "RMSE train =  4678.237527883013\n",
            "RMSE test =  3580.7348772522864\n",
            "r2score train =  0.6768164187005076\n",
            "r2score test =  0.716698122080667\n"
          ]
        }
      ]
    },
    {
      "cell_type": "markdown",
      "source": [
        "# **Gridsearch_pipe**"
      ],
      "metadata": {
        "id": "GBSt7PvRrTiH"
      }
    },
    {
      "cell_type": "code",
      "source": [
        "pipe = Pipeline([(\"scale\", StandardScaler()),\n",
        "                 (\"pca\",PCA()),\n",
        "                 (\"clf\", SVR(kernel='poly',degree=3,C=1000,epsilon=0.01))])"
      ],
      "metadata": {
        "id": "8SDvbUgHGsrL"
      },
      "execution_count": null,
      "outputs": []
    },
    {
      "cell_type": "code",
      "source": [
        "param_grid = [{'kernel': ['rbf'],\n",
        "               'C': [0.001, 0.01, 0.1, 1, 10, 100],\n",
        "               'gamma': [0.001, 0.01, 0.1, 1, 10, 100]},\n",
        "              {'kernel': ['linear'],\n",
        "               'C': [0.001, 0.01, 0.1, 1, 10, 100]},\n",
        "              {'kernel': ['poly'],\n",
        "               'degree': [2,3,4,5,6,7,8],\n",
        "               'epsilon': [0.01, 0.02, 0.05, 1, 10, 100, 1000],\n",
        "               'C': [0.001, 0.01, 0.1, 1, 10, 100, 1000, 10000, 100000]}]"
      ],
      "metadata": {
        "id": "SBmxIk9DGk4G"
      },
      "execution_count": null,
      "outputs": []
    },
    {
      "cell_type": "code",
      "source": [
        "param_grid2 = [{'pca__n_components':[2,3,4,5,6,7]}]"
      ],
      "metadata": {
        "id": "GTL0FMjsq8ZY"
      },
      "execution_count": null,
      "outputs": []
    },
    {
      "cell_type": "code",
      "source": [
        "grid_search_pipe = GridSearchCV(pipe, param_grid=param_grid2, cv=5, scoring=\"r2\")\n",
        "grid_search_pipe.fit(X_train,y_train)"
      ],
      "metadata": {
        "colab": {
          "base_uri": "https://localhost:8080/",
          "height": 184
        },
        "id": "iIWBC-enquVF",
        "outputId": "30a433c4-bb5a-4779-cf48-aa37850ce12f"
      },
      "execution_count": null,
      "outputs": [
        {
          "output_type": "execute_result",
          "data": {
            "text/plain": [
              "GridSearchCV(cv=5,\n",
              "             estimator=Pipeline(steps=[('scale', StandardScaler()),\n",
              "                                       ('pca', PCA()),\n",
              "                                       ('clf',\n",
              "                                        SVR(C=1000, epsilon=0.01,\n",
              "                                            kernel='poly'))]),\n",
              "             param_grid=[{'pca__n_components': [2, 3, 4, 5, 6, 7]}],\n",
              "             scoring='r2')"
            ],
            "text/html": [
              "<style>#sk-container-id-3 {color: black;background-color: white;}#sk-container-id-3 pre{padding: 0;}#sk-container-id-3 div.sk-toggleable {background-color: white;}#sk-container-id-3 label.sk-toggleable__label {cursor: pointer;display: block;width: 100%;margin-bottom: 0;padding: 0.3em;box-sizing: border-box;text-align: center;}#sk-container-id-3 label.sk-toggleable__label-arrow:before {content: \"▸\";float: left;margin-right: 0.25em;color: #696969;}#sk-container-id-3 label.sk-toggleable__label-arrow:hover:before {color: black;}#sk-container-id-3 div.sk-estimator:hover label.sk-toggleable__label-arrow:before {color: black;}#sk-container-id-3 div.sk-toggleable__content {max-height: 0;max-width: 0;overflow: hidden;text-align: left;background-color: #f0f8ff;}#sk-container-id-3 div.sk-toggleable__content pre {margin: 0.2em;color: black;border-radius: 0.25em;background-color: #f0f8ff;}#sk-container-id-3 input.sk-toggleable__control:checked~div.sk-toggleable__content {max-height: 200px;max-width: 100%;overflow: auto;}#sk-container-id-3 input.sk-toggleable__control:checked~label.sk-toggleable__label-arrow:before {content: \"▾\";}#sk-container-id-3 div.sk-estimator input.sk-toggleable__control:checked~label.sk-toggleable__label {background-color: #d4ebff;}#sk-container-id-3 div.sk-label input.sk-toggleable__control:checked~label.sk-toggleable__label {background-color: #d4ebff;}#sk-container-id-3 input.sk-hidden--visually {border: 0;clip: rect(1px 1px 1px 1px);clip: rect(1px, 1px, 1px, 1px);height: 1px;margin: -1px;overflow: hidden;padding: 0;position: absolute;width: 1px;}#sk-container-id-3 div.sk-estimator {font-family: monospace;background-color: #f0f8ff;border: 1px dotted black;border-radius: 0.25em;box-sizing: border-box;margin-bottom: 0.5em;}#sk-container-id-3 div.sk-estimator:hover {background-color: #d4ebff;}#sk-container-id-3 div.sk-parallel-item::after {content: \"\";width: 100%;border-bottom: 1px solid gray;flex-grow: 1;}#sk-container-id-3 div.sk-label:hover label.sk-toggleable__label {background-color: #d4ebff;}#sk-container-id-3 div.sk-serial::before {content: \"\";position: absolute;border-left: 1px solid gray;box-sizing: border-box;top: 0;bottom: 0;left: 50%;z-index: 0;}#sk-container-id-3 div.sk-serial {display: flex;flex-direction: column;align-items: center;background-color: white;padding-right: 0.2em;padding-left: 0.2em;position: relative;}#sk-container-id-3 div.sk-item {position: relative;z-index: 1;}#sk-container-id-3 div.sk-parallel {display: flex;align-items: stretch;justify-content: center;background-color: white;position: relative;}#sk-container-id-3 div.sk-item::before, #sk-container-id-3 div.sk-parallel-item::before {content: \"\";position: absolute;border-left: 1px solid gray;box-sizing: border-box;top: 0;bottom: 0;left: 50%;z-index: -1;}#sk-container-id-3 div.sk-parallel-item {display: flex;flex-direction: column;z-index: 1;position: relative;background-color: white;}#sk-container-id-3 div.sk-parallel-item:first-child::after {align-self: flex-end;width: 50%;}#sk-container-id-3 div.sk-parallel-item:last-child::after {align-self: flex-start;width: 50%;}#sk-container-id-3 div.sk-parallel-item:only-child::after {width: 0;}#sk-container-id-3 div.sk-dashed-wrapped {border: 1px dashed gray;margin: 0 0.4em 0.5em 0.4em;box-sizing: border-box;padding-bottom: 0.4em;background-color: white;}#sk-container-id-3 div.sk-label label {font-family: monospace;font-weight: bold;display: inline-block;line-height: 1.2em;}#sk-container-id-3 div.sk-label-container {text-align: center;}#sk-container-id-3 div.sk-container {/* jupyter's `normalize.less` sets `[hidden] { display: none; }` but bootstrap.min.css set `[hidden] { display: none !important; }` so we also need the `!important` here to be able to override the default hidden behavior on the sphinx rendered scikit-learn.org. See: https://github.com/scikit-learn/scikit-learn/issues/21755 */display: inline-block !important;position: relative;}#sk-container-id-3 div.sk-text-repr-fallback {display: none;}</style><div id=\"sk-container-id-3\" class=\"sk-top-container\"><div class=\"sk-text-repr-fallback\"><pre>GridSearchCV(cv=5,\n",
              "             estimator=Pipeline(steps=[(&#x27;scale&#x27;, StandardScaler()),\n",
              "                                       (&#x27;pca&#x27;, PCA()),\n",
              "                                       (&#x27;clf&#x27;,\n",
              "                                        SVR(C=1000, epsilon=0.01,\n",
              "                                            kernel=&#x27;poly&#x27;))]),\n",
              "             param_grid=[{&#x27;pca__n_components&#x27;: [2, 3, 4, 5, 6, 7]}],\n",
              "             scoring=&#x27;r2&#x27;)</pre><b>In a Jupyter environment, please rerun this cell to show the HTML representation or trust the notebook. <br />On GitHub, the HTML representation is unable to render, please try loading this page with nbviewer.org.</b></div><div class=\"sk-container\" hidden><div class=\"sk-item sk-dashed-wrapped\"><div class=\"sk-label-container\"><div class=\"sk-label sk-toggleable\"><input class=\"sk-toggleable__control sk-hidden--visually\" id=\"sk-estimator-id-6\" type=\"checkbox\" ><label for=\"sk-estimator-id-6\" class=\"sk-toggleable__label sk-toggleable__label-arrow\">GridSearchCV</label><div class=\"sk-toggleable__content\"><pre>GridSearchCV(cv=5,\n",
              "             estimator=Pipeline(steps=[(&#x27;scale&#x27;, StandardScaler()),\n",
              "                                       (&#x27;pca&#x27;, PCA()),\n",
              "                                       (&#x27;clf&#x27;,\n",
              "                                        SVR(C=1000, epsilon=0.01,\n",
              "                                            kernel=&#x27;poly&#x27;))]),\n",
              "             param_grid=[{&#x27;pca__n_components&#x27;: [2, 3, 4, 5, 6, 7]}],\n",
              "             scoring=&#x27;r2&#x27;)</pre></div></div></div><div class=\"sk-parallel\"><div class=\"sk-parallel-item\"><div class=\"sk-item\"><div class=\"sk-label-container\"><div class=\"sk-label sk-toggleable\"><input class=\"sk-toggleable__control sk-hidden--visually\" id=\"sk-estimator-id-7\" type=\"checkbox\" ><label for=\"sk-estimator-id-7\" class=\"sk-toggleable__label sk-toggleable__label-arrow\">estimator: Pipeline</label><div class=\"sk-toggleable__content\"><pre>Pipeline(steps=[(&#x27;scale&#x27;, StandardScaler()), (&#x27;pca&#x27;, PCA()),\n",
              "                (&#x27;clf&#x27;, SVR(C=1000, epsilon=0.01, kernel=&#x27;poly&#x27;))])</pre></div></div></div><div class=\"sk-serial\"><div class=\"sk-item\"><div class=\"sk-serial\"><div class=\"sk-item\"><div class=\"sk-estimator sk-toggleable\"><input class=\"sk-toggleable__control sk-hidden--visually\" id=\"sk-estimator-id-8\" type=\"checkbox\" ><label for=\"sk-estimator-id-8\" class=\"sk-toggleable__label sk-toggleable__label-arrow\">StandardScaler</label><div class=\"sk-toggleable__content\"><pre>StandardScaler()</pre></div></div></div><div class=\"sk-item\"><div class=\"sk-estimator sk-toggleable\"><input class=\"sk-toggleable__control sk-hidden--visually\" id=\"sk-estimator-id-9\" type=\"checkbox\" ><label for=\"sk-estimator-id-9\" class=\"sk-toggleable__label sk-toggleable__label-arrow\">PCA</label><div class=\"sk-toggleable__content\"><pre>PCA()</pre></div></div></div><div class=\"sk-item\"><div class=\"sk-estimator sk-toggleable\"><input class=\"sk-toggleable__control sk-hidden--visually\" id=\"sk-estimator-id-10\" type=\"checkbox\" ><label for=\"sk-estimator-id-10\" class=\"sk-toggleable__label sk-toggleable__label-arrow\">SVR</label><div class=\"sk-toggleable__content\"><pre>SVR(C=1000, epsilon=0.01, kernel=&#x27;poly&#x27;)</pre></div></div></div></div></div></div></div></div></div></div></div></div>"
            ]
          },
          "metadata": {},
          "execution_count": 25
        }
      ]
    },
    {
      "cell_type": "code",
      "source": [
        "print(\"Best parameters: {}\".format(grid_search_pipe.best_params_))\n",
        "print(\"Best cross-validation score: {:.2f}\".format(grid_search_pipe.best_score_))"
      ],
      "metadata": {
        "colab": {
          "base_uri": "https://localhost:8080/"
        },
        "id": "c2fWSvdtsTFA",
        "outputId": "0666bd20-999e-4906-8615-1e0f98ff1bdc"
      },
      "execution_count": null,
      "outputs": [
        {
          "output_type": "stream",
          "name": "stdout",
          "text": [
            "Best parameters: {'pca__n_components': 2}\n",
            "Best cross-validation score: 0.47\n"
          ]
        }
      ]
    },
    {
      "cell_type": "code",
      "source": [
        "new=grid_search_pipe.best_estimator_"
      ],
      "metadata": {
        "id": "XveCH6BOcfOR"
      },
      "execution_count": null,
      "outputs": []
    },
    {
      "cell_type": "code",
      "source": [
        "new.predict(X_train)"
      ],
      "metadata": {
        "id": "hfmVX3m3cssT",
        "colab": {
          "base_uri": "https://localhost:8080/"
        },
        "outputId": "14865d78-25d0-4f94-a8cd-0d6ebbcd57f6"
      },
      "execution_count": null,
      "outputs": [
        {
          "output_type": "execute_result",
          "data": {
            "text/plain": [
              "array([ 10239.32536518,  11546.14194387,  12838.41305213,  17488.16591105,\n",
              "        11210.09623767,  11359.03325308,   8104.13365443,  11207.47112809,\n",
              "        11282.34792932,  12629.81748846,  14582.23137801,  35549.97850745,\n",
              "        11214.2842947 ,   1094.18183533,   4755.78983363,  10774.01851892,\n",
              "        11682.52163012,  11503.55304191,  11320.4184714 ,  11150.76040811,\n",
              "         9609.70665284,  11032.78954106,  11324.06471042,  10743.88548234,\n",
              "       -20611.65541897,   5383.40918458,   7274.05921572,  12891.36901929,\n",
              "        11419.55729383,  13411.39653373,  18148.94110416,  11175.27436327,\n",
              "        12771.33956937,  13348.73428074,  14062.89026036,  11249.01316831,\n",
              "        14328.46881727,  18751.16694076,  14442.62038478,  26180.16381789,\n",
              "        10696.67002003,  10391.12369676,  12483.52145165,  11313.16492526,\n",
              "         9889.69320051,   9721.05471246,   5355.25618839,  64762.72746991,\n",
              "         9626.16038352,   9581.28910978,  12001.86121477,  18096.56832894,\n",
              "         5265.0306075 ,  10970.66148128,  12870.83631634,  45262.55837873,\n",
              "        11245.59728351,  10992.78178862,   9541.17407432,  11114.6698269 ,\n",
              "        14597.37290389,  11853.40851435,  12984.76662742,  36882.71437916,\n",
              "         6040.54156385,  12419.32407833,  11364.45148029,   9957.80279001,\n",
              "        16338.88702855,  11696.29410793,  18096.56832894,  11257.57471669,\n",
              "        11136.43005497,   9608.58209306,  11372.42176307,  11253.96358905,\n",
              "         6992.79845543,  24260.2579747 ,  15040.58158318,   3270.90964216,\n",
              "        12256.33646323,   9659.54757508,  12800.39179099,   5810.28741488,\n",
              "        11096.98443969,  11276.63392539,  11251.27780672,  12820.32815236,\n",
              "         5359.87426827,   7157.86922755,  10749.16845513,  13031.96752938,\n",
              "        13014.42341477,  11212.90501302,  10804.95381486,   9898.01108377,\n",
              "        11261.06427076,  11157.18001295,  12804.26020145,  11251.27780672,\n",
              "         6819.6461741 ,  12808.1619614 ,   6992.79845543,   8871.71246346,\n",
              "         9309.18317524,  10584.46224982,   8120.90017605,   5758.89962686,\n",
              "        11312.32540218,  10941.95890386,  11297.20415313,  10597.5386525 ,\n",
              "        10894.28008856,   8575.22382743,   9848.11271216,  14602.87292309,\n",
              "         9898.01108377,   9652.95568497,   7046.51654208,  18137.78441829,\n",
              "        31600.01684747,  11912.60157436,  13673.05222279,   5265.0306075 ,\n",
              "        11202.36824784,  10235.7367525 ,  11216.30535934,   8565.7702924 ,\n",
              "        10256.40302209,  11250.74846873,  13408.69054731,   5295.14848931,\n",
              "        19370.63632905,  10870.46931362,  17728.63270015,  12997.48858849,\n",
              "        11403.83310728,  13728.16522054,  35549.97850745,  13352.98660998,\n",
              "        12800.39179099,  10860.80645927,   8914.06585102,  11321.42722991,\n",
              "        11228.16017156,   7897.98946289,  11272.28114299,  19085.90627831,\n",
              "        12897.98654311,  14699.85184857,  13007.90206233,  11096.10791592,\n",
              "        11258.98993573,  10467.17530004,   9209.2050233 ,  12720.56604171,\n",
              "         8140.27685064,   6891.39448774,  13371.44856919,  11245.68305539,\n",
              "        10730.0262653 ,  12878.02526247,  11156.13431412,   9190.1378655 ])"
            ]
          },
          "metadata": {},
          "execution_count": 28
        }
      ]
    },
    {
      "cell_type": "code",
      "source": [
        "y_train_pred=grid_search_pipe.best_estimator_.predict(X_train)\n",
        "y_test_pred=grid_search_pipe.best_estimator_.predict(X_test)"
      ],
      "metadata": {
        "id": "1CwufXl2rtaF"
      },
      "execution_count": null,
      "outputs": []
    },
    {
      "cell_type": "code",
      "source": [
        "print('MAE train = ', mean_absolute_error(y_train, y_train_pred))\n",
        "print('MAE test = ', mean_absolute_error(y_test, y_test_pred))\n",
        "\n",
        "print('MSE train = ', mean_squared_error(y_train, y_train_pred))\n",
        "print('MSE test = ', mean_squared_error(y_test, y_test_pred))\n",
        "\n",
        "print('RMSE train = ', np.sqrt(mean_squared_error(y_train, y_train_pred)))\n",
        "print('RMSE test = ', np.sqrt(mean_squared_error(y_test, y_test_pred)))\n",
        "\n",
        "print('r2score train = ', r2_score(y_train, y_train_pred))\n",
        "print('r2score test = ', r2_score(y_test, y_test_pred))"
      ],
      "metadata": {
        "colab": {
          "base_uri": "https://localhost:8080/"
        },
        "id": "sr2M7iitrxLD",
        "outputId": "e7a8a406-f816-4f88-85f0-3e67611dbd6b"
      },
      "execution_count": null,
      "outputs": [
        {
          "output_type": "stream",
          "name": "stdout",
          "text": [
            "MAE train =  3550.161488157546\n",
            "MAE test =  3332.0737064860473\n",
            "MSE train =  31227044.827429976\n",
            "MSE test =  21241373.068044383\n",
            "RMSE train =  5588.116393511321\n",
            "RMSE test =  4608.836411508265\n",
            "r2score train =  0.5388782163570554\n",
            "r2score test =  0.530659850713261\n"
          ]
        }
      ]
    }
  ]
}