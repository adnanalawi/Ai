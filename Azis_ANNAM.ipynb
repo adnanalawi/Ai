{
  "nbformat": 4,
  "nbformat_minor": 0,
  "metadata": {
    "orig_nbformat": 2,
    "colab": {
      "provenance": [],
      "include_colab_link": true
    },
    "language_info": {
      "name": "python"
    },
    "kernelspec": {
      "name": "python3",
      "display_name": "Python 3"
    }
  },
  "cells": [
    {
      "cell_type": "markdown",
      "metadata": {
        "id": "view-in-github",
        "colab_type": "text"
      },
      "source": [
        "<a href=\"https://colab.research.google.com/github/heizsen/Ai/blob/main/Azis_ANNAM.ipynb\" target=\"_parent\"><img src=\"https://colab.research.google.com/assets/colab-badge.svg\" alt=\"Open In Colab\"/></a>"
      ]
    },
    {
      "cell_type": "markdown",
      "metadata": {
        "id": "AZHepuOHNJft"
      },
      "source": [
        "# Artificial Neural Network Landscape"
      ]
    },
    {
      "cell_type": "markdown",
      "metadata": {
        "id": "CgzX4razl9EB"
      },
      "source": [
        "Today mentoring session, we will learn about:\n",
        "\n",
        "\n",
        "* Simple model of biological neuron\n",
        "* Perceptron\n",
        "* NN Structure and elements\n",
        "* Network for classification\n",
        "\n"
      ]
    },
    {
      "cell_type": "markdown",
      "metadata": {
        "id": "YSa4aQHpvRCC"
      },
      "source": [
        "## Setup"
      ]
    },
    {
      "cell_type": "code",
      "metadata": {
        "id": "HfegH_qsNJf6"
      },
      "source": [
        "# Python ≥3.5 is required\n",
        "import sys\n",
        "\n",
        "\n",
        "# Scikit-Learn ≥0.20 is required\n",
        "import sklearn\n",
        "\n",
        "\n",
        "import tensorflow as tf\n",
        "\n",
        "# Common imports\n",
        "import numpy as np\n",
        "import os\n",
        "\n",
        "# to make this notebook's output stable across runs\n",
        "np.random.seed(42)\n",
        "\n",
        "# To plot pretty figures\n",
        "%matplotlib inline\n",
        "import matplotlib.pyplot as plt"
      ],
      "execution_count": null,
      "outputs": []
    },
    {
      "cell_type": "markdown",
      "metadata": {
        "id": "REBVx8TMRm2q"
      },
      "source": [
        "# Perceptrons"
      ]
    },
    {
      "cell_type": "markdown",
      "metadata": {
        "id": "ijyzN4Togq_J"
      },
      "source": [
        "Perceptron take a weighted summation of inputs, and apply an activation function to produce the output. Simplistically, we can think Perceptron unit as a Logistic classifier."
      ]
    },
    {
      "cell_type": "markdown",
      "metadata": {
        "id": "oVXzsgrGRm2r"
      },
      "source": [
        "**Note**: we set `max_iter` and `tol` explicitly to avoid warnings about the fact that their default value will change in future versions of Scikit-Learn."
      ]
    },
    {
      "cell_type": "markdown",
      "metadata": {
        "id": "flyQbenBhHxh"
      },
      "source": [
        "For this experiment, we use the Iris dataset and convert it into a binary classifier."
      ]
    },
    {
      "cell_type": "code",
      "metadata": {
        "id": "-P0sBM9LRm2r"
      },
      "source": [
        "# import numpy as np\n",
        "# from sklearn.datasets import load_iris\n",
        "# from sklearn.linear_model import Perceptron\n",
        "\n",
        "# iris = load_iris()\n",
        "# X = iris.data[:, (2, 3)]  # petal length, petal width\n",
        "# y = (iris.target == 0).astype(np.int)\n",
        "\n",
        "# per_clf = Perceptron(max_iter=1000, tol=1e-3, random_state=42)\n",
        "# per_clf.fit(X, y)\n",
        "\n",
        "# #y_pred = per_clf.predict([[2, 0.5]])"
      ],
      "execution_count": null,
      "outputs": []
    },
    {
      "cell_type": "code",
      "metadata": {
        "id": "3Ljm9DG7Rm2s"
      },
      "source": [
        "#y_pred"
      ],
      "execution_count": null,
      "outputs": []
    },
    {
      "cell_type": "code",
      "metadata": {
        "id": "0YmjfH9VRm2t"
      },
      "source": [
        "# a = -per_clf.coef_[0][0] / per_clf.coef_[0][1]\n",
        "# b = -per_clf.intercept_ / per_clf.coef_[0][1]\n",
        "\n",
        "# axes = [0, 5, 0, 2]\n",
        "\n",
        "# x0, x1 = np.meshgrid(\n",
        "#         np.linspace(axes[0], axes[1], 500).reshape(-1, 1),\n",
        "#         np.linspace(axes[2], axes[3], 200).reshape(-1, 1),\n",
        "#     )\n",
        "# X_new = np.c_[x0.ravel(), x1.ravel()]\n",
        "# y_predict = per_clf.predict(X_new)\n",
        "# zz = y_predict.reshape(x0.shape)\n",
        "\n",
        "# plt.figure(figsize=(10, 4))\n",
        "# plt.plot(X[y==0, 0], X[y==0, 1], \"bs\", label=\"Not Iris-Setosa\")\n",
        "# plt.plot(X[y==1, 0], X[y==1, 1], \"yo\", label=\"Iris-Setosa\")\n",
        "\n",
        "# plt.plot([axes[0], axes[1]], [a * axes[0] + b, a * axes[1] + b], \"k-\", linewidth=3)\n",
        "# from matplotlib.colors import ListedColormap\n",
        "# custom_cmap = ListedColormap(['#9898ff', '#fafab0'])\n",
        "\n",
        "# plt.contourf(x0, x1, zz, cmap=custom_cmap)\n",
        "# plt.xlabel(\"Petal length\", fontsize=14)\n",
        "# plt.ylabel(\"Petal width\", fontsize=14)\n",
        "# plt.legend(loc=\"lower right\", fontsize=14)\n",
        "# plt.axis(axes)\n",
        "\n",
        "# plt.show()"
      ],
      "execution_count": null,
      "outputs": []
    },
    {
      "cell_type": "markdown",
      "metadata": {
        "id": "_SwXxY3yq2m-"
      },
      "source": [
        "## ANN Structure and Elements"
      ]
    },
    {
      "cell_type": "markdown",
      "metadata": {
        "id": "UVQc2uBBq5EB"
      },
      "source": [
        "Artificial Neural Network (ANN or simply called NN) is a mathematical model that tries to mimic how brain works. It is a further development of perceptron, where NN consist of perceptrons stacked together into a layer, and multiple layers are cascaded sequentially to build a network."
      ]
    },
    {
      "cell_type": "markdown",
      "metadata": {
        "id": "HyIXzvhErV8X"
      },
      "source": [
        "### Network Architecture"
      ]
    },
    {
      "cell_type": "markdown",
      "metadata": {
        "id": "cxuPGxI8JCLU"
      },
      "source": [
        "Network Architecture define how the layers and the neurons are constructed in our network."
      ]
    },
    {
      "cell_type": "markdown",
      "metadata": {
        "id": "1tmXo9wCRm2u"
      },
      "source": [
        "### Activation functions"
      ]
    },
    {
      "cell_type": "markdown",
      "metadata": {
        "id": "6JGKTbmbh1IB"
      },
      "source": [
        "Activation function is an important part of neural network. Activation function enable us to introduce non-linearity to the model, and as we already learned that non-linearity enable more complex with better capacity to learn."
      ]
    },
    {
      "cell_type": "code",
      "metadata": {
        "id": "tCJCGteORm2u"
      },
      "source": [
        "def sigmoid(z):\n",
        "    return 1 / (1 + np.exp(-z))\n",
        "\n",
        "def relu(z):\n",
        "    return np.maximum(0, z)\n",
        "\n",
        "def derivative(f, z, eps=0.000001):\n",
        "    return (f(z + eps) - f(z - eps))/(2 * eps)"
      ],
      "execution_count": null,
      "outputs": []
    },
    {
      "cell_type": "code",
      "metadata": {
        "id": "4EpHXCs8Rm2v",
        "colab": {
          "base_uri": "https://localhost:8080/",
          "height": 392
        },
        "outputId": "455f5b3e-15de-41a1-84e2-6100e500b7e4"
      },
      "source": [
        "z = np.linspace(-5, 5, 200)\n",
        "\n",
        "plt.figure(figsize=(11,4))\n",
        "\n",
        "plt.subplot(121)\n",
        "plt.plot(z, np.sign(z), \"r-\", linewidth=1, label=\"Step\")\n",
        "plt.plot(z, sigmoid(z), \"g--\", linewidth=2, label=\"Sigmoid\")\n",
        "plt.plot(z, np.tanh(z), \"b-\", linewidth=2, label=\"Tanh\")\n",
        "plt.plot(z, relu(z), \"m-.\", linewidth=2, label=\"ReLU\")\n",
        "plt.grid(True)\n",
        "plt.legend(loc=\"center right\", fontsize=14)\n",
        "plt.title(\"Activation functions\", fontsize=14)\n",
        "plt.axis([-5, 5, -1.2, 1.2])\n",
        "\n",
        "plt.subplot(122)\n",
        "plt.plot(z, derivative(np.sign, z), \"r-\", linewidth=1, label=\"Step\")\n",
        "plt.plot(0, 0, \"ro\", markersize=5)\n",
        "plt.plot(0, 0, \"rx\", markersize=10)\n",
        "plt.plot(z, derivative(sigmoid, z), \"g--\", linewidth=2, label=\"Sigmoid\")\n",
        "plt.plot(z, derivative(np.tanh, z), \"b-\", linewidth=2, label=\"Tanh\")\n",
        "plt.plot(z, derivative(relu, z), \"m-.\", linewidth=2, label=\"ReLU\")\n",
        "plt.grid(True)\n",
        "#plt.legend(loc=\"center right\", fontsize=14)\n",
        "plt.title(\"Derivatives\", fontsize=14)\n",
        "plt.axis([-5, 5, -0.2, 1.2])\n",
        "\n",
        "#save_fig(\"activation_functions_plot\")\n",
        "plt.show()"
      ],
      "execution_count": null,
      "outputs": [
        {
          "output_type": "display_data",
          "data": {
            "text/plain": [
              "<Figure size 1100x400 with 2 Axes>"
            ],
            "image/png": "[encoded data removed]"
          },
          "metadata": {}
        }
      ]
    },
    {
      "cell_type": "markdown",
      "metadata": {
        "id": "AuNwvJgnwga8"
      },
      "source": [
        "Sigmoid activation function is intended to mimic the Heaviside function in a derivable function."
      ]
    },
    {
      "cell_type": "code",
      "metadata": {
        "id": "73gT_OX_Rm2v"
      },
      "source": [
        "def heaviside(z):\n",
        "    return (z >= 0).astype(z.dtype)\n",
        "\n",
        "def mlp_xor(x1, x2, activation=heaviside):\n",
        "    return activation(-activation(x1 + x2 - 1.5) + activation(x1 + x2 - 0.5) - 0.5)"
      ],
      "execution_count": null,
      "outputs": []
    },
    {
      "cell_type": "code",
      "metadata": {
        "scrolled": true,
        "id": "2721rewJRm2w",
        "colab": {
          "base_uri": "https://localhost:8080/",
          "height": 392
        },
        "outputId": "643c256f-35a3-4bd6-fb32-91bca79d0c42"
      },
      "source": [
        "x1s = np.linspace(-0.2, 1.2, 100)\n",
        "x2s = np.linspace(-0.2, 1.2, 100)\n",
        "x1, x2 = np.meshgrid(x1s, x2s)\n",
        "\n",
        "z1 = mlp_xor(x1, x2, activation=heaviside)\n",
        "z2 = mlp_xor(x1, x2, activation=sigmoid)\n",
        "\n",
        "plt.figure(figsize=(10,4))\n",
        "\n",
        "plt.subplot(121)\n",
        "plt.contourf(x1, x2, z1)\n",
        "plt.plot([0, 1], [0, 1], \"gs\", markersize=20)\n",
        "plt.plot([0, 1], [1, 0], \"y^\", markersize=20)\n",
        "plt.title(\"Activation function: heaviside\", fontsize=14)\n",
        "plt.grid(True)\n",
        "\n",
        "plt.subplot(122)\n",
        "plt.contourf(x1, x2, z2)\n",
        "plt.plot([0, 1], [0, 1], \"gs\", markersize=20)\n",
        "plt.plot([0, 1], [1, 0], \"y^\", markersize=20)\n",
        "plt.title(\"Activation function: sigmoid\", fontsize=14)\n",
        "plt.grid(True)"
      ],
      "execution_count": null,
      "outputs": [
        {
          "output_type": "display_data",
          "data": {
            "text/plain": [
              "<Figure size 1000x400 with 2 Axes>"
            ],
            "image/png": "[encoded data removed]"
          },
          "metadata": {}
        }
      ]
    },
    {
      "cell_type": "markdown",
      "metadata": {
        "id": "lBUFfdauqg6n"
      },
      "source": [
        "Now, let's try to create a network that we can use as image classifier."
      ]
    },
    {
      "cell_type": "markdown",
      "metadata": {
        "id": "KIK9Mz1sqwXa"
      },
      "source": []
    },
    {
      "cell_type": "code",
      "metadata": {
        "id": "FfShzs55qv3y"
      },
      "source": [],
      "execution_count": null,
      "outputs": []
    },
    {
      "cell_type": "markdown",
      "metadata": {
        "id": "xZYd6sE1Rm2w"
      },
      "source": [
        "# Building an Image Classifier"
      ]
    },
    {
      "cell_type": "markdown",
      "metadata": {
        "id": "xo9ud3aARm2w"
      },
      "source": [
        "First let's import TensorFlow and Keras."
      ]
    },
    {
      "cell_type": "code",
      "metadata": {
        "id": "twGHHhEPRm2x"
      },
      "source": [
        "import tensorflow as tf\n",
        "from tensorflow import keras"
      ],
      "execution_count": null,
      "outputs": []
    },
    {
      "cell_type": "code",
      "metadata": {
        "id": "q-QoODV7Rm2x",
        "colab": {
          "base_uri": "https://localhost:8080/",
          "height": 35
        },
        "outputId": "8718c25e-fe1b-470f-e851-580c549ddfed"
      },
      "source": [
        "tf.__version__"
      ],
      "execution_count": null,
      "outputs": [
        {
          "output_type": "execute_result",
          "data": {
            "text/plain": [
              "'2.15.0'"
            ],
            "application/vnd.google.colaboratory.intrinsic+json": {
              "type": "string"
            }
          },
          "metadata": {},
          "execution_count": 57
        }
      ]
    },
    {
      "cell_type": "code",
      "metadata": {
        "id": "EG84Ch9yRm2x"
      },
      "source": [
        "# keras.__version__"
      ],
      "execution_count": null,
      "outputs": []
    },
    {
      "cell_type": "markdown",
      "metadata": {
        "id": "szRy0MsCUYGH"
      },
      "source": [
        "The second version is the version of the Keras API implemented by tf.keras. Note that\n",
        "it ends with -tf, highlighting the fact that tf.keras implements the Keras API, plus\n",
        "some extra TensorFlow-specific features.\n",
        "\n",
        "Now let’s use tf.keras! We’ll start by building a simple image classifier."
      ]
    },
    {
      "cell_type": "markdown",
      "metadata": {
        "id": "o-B1cjN_UiYg"
      },
      "source": [
        "## Building an Image Classifier Using the Sequential API\n",
        "\n",
        "First, we need to load a dataset. In this chapter we will tackle Fashion MNIST, which\n",
        "is a drop-in replacement of MNIST. It has the exact same\n",
        "format as MNIST (70,000 grayscale images of 28 × 28 pixels each, with 10 classes),\n",
        "but the images represent fashion items rather than handwritten digits, so each class is\n",
        "more diverse, and the problem turns out to be significantly more challenging than\n",
        "MNIST. For example, a simple linear model reaches about 92% accuracy on MNIST,\n",
        "but only about 83% on Fashion MNIST."
      ]
    },
    {
      "cell_type": "markdown",
      "metadata": {
        "id": "P6FhNnqzRm2y"
      },
      "source": [
        "Let's start by loading the fashion MNIST dataset. Keras has a number of functions to load popular datasets in `keras.datasets`. The dataset is already split for you between a training set and a test set, but it can be useful to split the training set further to have a validation set:"
      ]
    },
    {
      "cell_type": "code",
      "metadata": {
        "id": "U7KSraJ2Rm2y"
      },
      "source": [
        "fashion_mnist = keras.datasets.fashion_mnist\n",
        "(X_train_full, y_train_full), (X_test, y_test) = fashion_mnist.load_data()"
      ],
      "execution_count": null,
      "outputs": []
    },
    {
      "cell_type": "markdown",
      "metadata": {
        "id": "zPaWi7Y6Rm2z"
      },
      "source": [
        "When loading MNIST or Fashion MNIST using Keras rather than Scikit-Learn, one\n",
        "important difference is that every image is represented as a 28 × 28 array rather than\n",
        "a 1D array of size 784. Moreover, the pixel intensities are represented as integers\n",
        "(from 0 to 255) rather than floats (from 0.0 to 255.0). Let’s take a look at the shape\n",
        "and data type of the training set:"
      ]
    },
    {
      "cell_type": "code",
      "metadata": {
        "id": "QuuS28l6Rm2z",
        "colab": {
          "base_uri": "https://localhost:8080/"
        },
        "outputId": "aeb885f4-95d1-45bb-9afd-1c709b61dcde"
      },
      "source": [
        "X_train_full.shape"
      ],
      "execution_count": null,
      "outputs": [
        {
          "output_type": "execute_result",
          "data": {
            "text/plain": [
              "(60000, 28, 28)"
            ]
          },
          "metadata": {},
          "execution_count": 60
        }
      ]
    },
    {
      "cell_type": "markdown",
      "metadata": {
        "id": "eZXNRw88Rm20"
      },
      "source": [
        "Each pixel intensity is represented as a byte (0 to 255):"
      ]
    },
    {
      "cell_type": "code",
      "metadata": {
        "id": "GNuLxZdCRm20",
        "colab": {
          "base_uri": "https://localhost:8080/"
        },
        "outputId": "2ea4c7f5-6b51-4bf4-9a75-cbf07d96b51d"
      },
      "source": [
        "X_train_full.dtype"
      ],
      "execution_count": null,
      "outputs": [
        {
          "output_type": "execute_result",
          "data": {
            "text/plain": [
              "dtype('uint8')"
            ]
          },
          "metadata": {},
          "execution_count": 61
        }
      ]
    },
    {
      "cell_type": "markdown",
      "metadata": {
        "id": "y1AaGdjbRm21"
      },
      "source": [
        "Note that the dataset is already split into a training set and a test set, but there is no\n",
        "validation set, so we’ll create one now. Additionally, since we are going to train the\n",
        "neural network using Gradient Descent, we must scale the input features. For simplic‐\n",
        "ity, we’ll scale the pixel intensities down to the 0–1 range by dividing them by 255.0\n",
        "(this also converts them to floats):"
      ]
    },
    {
      "cell_type": "code",
      "metadata": {
        "id": "a3bOz1QKRm21"
      },
      "source": [
        "X_valid, X_train = X_train_full[:5000] / 255., X_train_full[5000:] / 255.\n",
        "y_valid, y_train = y_train_full[:5000], y_train_full[5000:]\n",
        "X_test = X_test / 255."
      ],
      "execution_count": null,
      "outputs": []
    },
    {
      "cell_type": "markdown",
      "metadata": {
        "id": "oSlmipj_Rm21"
      },
      "source": [
        "You can plot an image using Matplotlib's `imshow()` function, with a `'binary'`\n",
        " color map:"
      ]
    },
    {
      "cell_type": "code",
      "metadata": {
        "id": "nFEU8KBMRm22",
        "colab": {
          "base_uri": "https://localhost:8080/",
          "height": 406
        },
        "outputId": "de143f2d-7435-4e9e-82d5-d7bdd4b3062a"
      },
      "source": [
        "plt.imshow(X_train[0], cmap=\"binary\")\n",
        "plt.axis('off')\n",
        "plt.show()"
      ],
      "execution_count": null,
      "outputs": [
        {
          "output_type": "display_data",
          "data": {
            "text/plain": [
              "<Figure size 640x480 with 1 Axes>"
            ],
            "image/png": "[encoded data removed]"
          },
          "metadata": {}
        }
      ]
    },
    {
      "cell_type": "markdown",
      "metadata": {
        "id": "7j91hNSvRm22"
      },
      "source": [
        "The labels are the class IDs (represented as uint8), from 0 to 9:"
      ]
    },
    {
      "cell_type": "code",
      "metadata": {
        "id": "l52jwm9wRm22",
        "colab": {
          "base_uri": "https://localhost:8080/"
        },
        "outputId": "c5601dcf-c1cb-4b1f-8c93-0ebac95efbc0"
      },
      "source": [
        "y_train"
      ],
      "execution_count": null,
      "outputs": [
        {
          "output_type": "execute_result",
          "data": {
            "text/plain": [
              "array([4, 0, 7, ..., 3, 0, 5], dtype=uint8)"
            ]
          },
          "metadata": {},
          "execution_count": 64
        }
      ]
    },
    {
      "cell_type": "markdown",
      "metadata": {
        "id": "M_5vdfQXRm22"
      },
      "source": [
        "Here are the corresponding class names:"
      ]
    },
    {
      "cell_type": "code",
      "metadata": {
        "id": "LoPmnYgGRm23"
      },
      "source": [
        "class_names = [\"T-shirt/top\", \"Trouser\", \"Pullover\", \"Dress\", \"Coat\",\n",
        "               \"Sandal\", \"Shirt\", \"Sneaker\", \"Bag\", \"Ankle boot\"]"
      ],
      "execution_count": null,
      "outputs": []
    },
    {
      "cell_type": "markdown",
      "metadata": {
        "id": "tnfA-rNVRm23"
      },
      "source": [
        "So the first image in the training set is a coat:"
      ]
    },
    {
      "cell_type": "code",
      "metadata": {
        "id": "ypJwpohFRm23",
        "colab": {
          "base_uri": "https://localhost:8080/",
          "height": 35
        },
        "outputId": "f631136f-5b13-4462-fc81-607a561d0f72"
      },
      "source": [
        "class_names[y_train[0]]"
      ],
      "execution_count": null,
      "outputs": [
        {
          "output_type": "execute_result",
          "data": {
            "text/plain": [
              "'Coat'"
            ],
            "application/vnd.google.colaboratory.intrinsic+json": {
              "type": "string"
            }
          },
          "metadata": {},
          "execution_count": 66
        }
      ]
    },
    {
      "cell_type": "markdown",
      "metadata": {
        "id": "sh0oH789Rm23"
      },
      "source": [
        "The validation set contains 5,000 images, and the test set contains 10,000 images:"
      ]
    },
    {
      "cell_type": "code",
      "metadata": {
        "id": "dvHzqbJBRm24",
        "colab": {
          "base_uri": "https://localhost:8080/"
        },
        "outputId": "ed57c936-7281-4b15-b7b5-0e0f641c98c4"
      },
      "source": [
        "X_valid.shape"
      ],
      "execution_count": null,
      "outputs": [
        {
          "output_type": "execute_result",
          "data": {
            "text/plain": [
              "(5000, 28, 28)"
            ]
          },
          "metadata": {},
          "execution_count": 67
        }
      ]
    },
    {
      "cell_type": "code",
      "metadata": {
        "id": "3038XYi4Rm24",
        "colab": {
          "base_uri": "https://localhost:8080/"
        },
        "outputId": "ebf9067c-1828-4953-f990-3b9984c9e1ac"
      },
      "source": [
        "X_test.shape"
      ],
      "execution_count": null,
      "outputs": [
        {
          "output_type": "execute_result",
          "data": {
            "text/plain": [
              "(10000, 28, 28)"
            ]
          },
          "metadata": {},
          "execution_count": 68
        }
      ]
    },
    {
      "cell_type": "markdown",
      "metadata": {
        "id": "rawdeVyVRm24"
      },
      "source": [
        "Let's take a look at a sample of the images in the dataset:"
      ]
    },
    {
      "cell_type": "code",
      "metadata": {
        "id": "f6kfsBM5Rm24",
        "colab": {
          "base_uri": "https://localhost:8080/",
          "height": 428
        },
        "outputId": "03cf793c-f243-4e26-9c19-6565afc2de7c"
      },
      "source": [
        "n_rows = 4\n",
        "n_cols = 10\n",
        "plt.figure(figsize=(n_cols * 1.2, n_rows * 1.2))\n",
        "for row in range(n_rows):\n",
        "    for col in range(n_cols):\n",
        "        index = n_cols * row + col\n",
        "        plt.subplot(n_rows, n_cols, index + 1)\n",
        "        plt.imshow(X_train[index], cmap=\"binary\", interpolation=\"nearest\")\n",
        "        plt.axis('off')\n",
        "        plt.title(class_names[y_train[index]], fontsize=12)\n",
        "plt.subplots_adjust(wspace=0.2, hspace=0.5)\n",
        "plt.show()"
      ],
      "execution_count": null,
      "outputs": [
        {
          "output_type": "display_data",
          "data": {
            "text/plain": [
              "<Figure size 1200x480 with 40 Axes>"
            ],
            "image/png": "[encoded data removed]"
          },
          "metadata": {}
        }
      ]
    },
    {
      "cell_type": "markdown",
      "metadata": {
        "id": "_b3sspCtYvwM"
      },
      "source": [
        "## Creating the model using the Sequential API\n",
        "\n",
        "Now let’s build the neural network! Here is a classification MLP with two hidden\n",
        "layers:"
      ]
    },
    {
      "cell_type": "code",
      "metadata": {
        "id": "Dk-ELOiORm25"
      },
      "source": [
        "model = keras.models.Sequential()\n",
        "model.add(keras.layers.Flatten(input_shape=[28, 28]))\n",
        "model.add(keras.layers.Dense(300, activation=\"relu\"))\n",
        "model.add(keras.layers.Dense(100, activation=\"relu\"))\n",
        "model.add(keras.layers.Dense(10, activation=\"softmax\"))"
      ],
      "execution_count": null,
      "outputs": []
    },
    {
      "cell_type": "markdown",
      "metadata": {
        "id": "oVx9l_frYzHt"
      },
      "source": [
        "Let’s go through this code line by line:\n",
        "\n",
        "- The first line creates a Sequential model. This is the simplest kind of Keras\n",
        "model for neural networks that are just composed of a single stack of layers connected sequentially. This is called the Sequential API.\n",
        "- Next, we build the first layer and add it to the model. It is a Flatten layer whose\n",
        "role is to convert each input image into a 1D array: if it receives input data X, it\n",
        "computes X.reshape(-1, 1). This layer does not have any parameters; it is just\n",
        "there to do some simple preprocessing. Since it is the first layer in the model, you\n",
        "should specify the input_shape, which doesn’t include the batch size, only the\n",
        "shape of the instances. Alternatively, you could add a keras.layers.InputLayer\n",
        "as the first layer, setting input_shape=[28,28].\n",
        "- Next we add a Dense hidden layer with 300 neurons. It will use the ReLU activation function. Each Dense layer manages its own weight matrix, containing all the\n",
        "connection weights between the neurons and their inputs. It also manages a vector of bias terms (one per neuron).\n",
        "- Then we add a second Dense hidden layer with 100 neurons, also using the ReLU\n",
        "activation function.\n",
        "- Finally, we add a Dense output layer with 10 neurons (one per class), using the\n",
        "softmax activation function (because the classes are exclusive)."
      ]
    },
    {
      "cell_type": "code",
      "metadata": {
        "id": "mwt29kUfRm25"
      },
      "source": [
        "keras.backend.clear_session()\n",
        "np.random.seed(42)\n",
        "tf.random.set_seed(42)"
      ],
      "execution_count": null,
      "outputs": []
    },
    {
      "cell_type": "markdown",
      "metadata": {
        "id": "sejSj5KzZKES"
      },
      "source": [
        "Instead of adding the layers one by one as we just did, you can pass a list of layers\n",
        "when creating the Sequential model:"
      ]
    },
    {
      "cell_type": "code",
      "metadata": {
        "id": "FtdTteP8Rm25"
      },
      "source": [
        "model = keras.models.Sequential([\n",
        "    keras.layers.Flatten(input_shape=[28, 28]),\n",
        "    keras.layers.Dense(300, activation=\"relu\"),\n",
        "    keras.layers.Dense(100, activation=\"relu\"),\n",
        "    keras.layers.Dense(10, activation=\"softmax\")\n",
        "])"
      ],
      "execution_count": null,
      "outputs": []
    },
    {
      "cell_type": "code",
      "metadata": {
        "id": "lVYENwUFRm25",
        "colab": {
          "base_uri": "https://localhost:8080/"
        },
        "outputId": "a99d25d6-b0c5-411e-f73a-2b3575fb8493"
      },
      "source": [
        "model.layers"
      ],
      "execution_count": null,
      "outputs": [
        {
          "output_type": "execute_result",
          "data": {
            "text/plain": [
              "[<keras.src.layers.reshaping.flatten.Flatten at 0x794df55ee080>,\n",
              " <keras.src.layers.core.dense.Dense at 0x794dc1d665f0>,\n",
              " <keras.src.layers.core.dense.Dense at 0x794dc1d67460>,\n",
              " <keras.src.layers.core.dense.Dense at 0x794dc1d66e30>]"
            ]
          },
          "metadata": {},
          "execution_count": 73
        }
      ]
    },
    {
      "cell_type": "markdown",
      "metadata": {
        "id": "nUR1F8gMZSJH"
      },
      "source": [
        "The model’s summary() method displays all the model’s layers, including each layer’s\n",
        "name (which is automatically generated unless you set it when creating the layer), its\n",
        "output shape (None means the batch size can be anything), and its number of parameters. The summary ends with the total number of parameters, including trainable and\n",
        "non-trainable parameters. Here we only have trainable parameters."
      ]
    },
    {
      "cell_type": "code",
      "metadata": {
        "id": "2NPQu3dsRm25",
        "colab": {
          "base_uri": "https://localhost:8080/"
        },
        "outputId": "6ae49100-fb58-41a1-838f-58db5ce25f3c"
      },
      "source": [
        "model.summary()"
      ],
      "execution_count": null,
      "outputs": [
        {
          "output_type": "stream",
          "name": "stdout",
          "text": [
            "Model: \"sequential\"\n",
            "_________________________________________________________________\n",
            " Layer (type)                Output Shape              Param #   \n",
            "=================================================================\n",
            " flatten (Flatten)           (None, 784)               0         \n",
            "                                                                 \n",
            " dense (Dense)               (None, 300)               235500    \n",
            "                                                                 \n",
            " dense_1 (Dense)             (None, 100)               30100     \n",
            "                                                                 \n",
            " dense_2 (Dense)             (None, 10)                1010      \n",
            "                                                                 \n",
            "=================================================================\n",
            "Total params: 266610 (1.02 MB)\n",
            "Trainable params: 266610 (1.02 MB)\n",
            "Non-trainable params: 0 (0.00 Byte)\n",
            "_________________________________________________________________\n"
          ]
        }
      ]
    },
    {
      "cell_type": "markdown",
      "metadata": {
        "id": "t2DEfmM6Zrxb"
      },
      "source": [
        "Note that Dense layers often have a lot of parameters. For example, the first hidden\n",
        "layer has 784 × 300 connection weights, plus 300 bias terms, which adds up to\n",
        "235,500 parameters! This gives the model quite a lot of flexibility to fit the training\n",
        "data, but it also means that the model runs the risk of overfitting, especially when you\n",
        "do not have a lot of training data."
      ]
    },
    {
      "cell_type": "code",
      "metadata": {
        "id": "jhm0I42rRm26",
        "colab": {
          "base_uri": "https://localhost:8080/",
          "height": 533
        },
        "outputId": "31ed94f3-b0e4-47f0-f452-32cd79a1e2d7"
      },
      "source": [
        "keras.utils.plot_model(model, \"my_fashion_mnist_model.png\", show_shapes=True)"
      ],
      "execution_count": null,
      "outputs": [
        {
          "output_type": "execute_result",
          "data": {
            "image/png": "[encoded data removed]",
            "text/plain": [
              "<IPython.core.display.Image object>"
            ]
          },
          "metadata": {},
          "execution_count": 75
        }
      ]
    },
    {
      "cell_type": "code",
      "metadata": {
        "id": "wE07IM4_Rm26",
        "colab": {
          "base_uri": "https://localhost:8080/",
          "height": 35
        },
        "outputId": "f547a6a0-2a16-4a00-e15c-ce622db632c5"
      },
      "source": [
        "hidden1 = model.layers[1]\n",
        "hidden1.name"
      ],
      "execution_count": null,
      "outputs": [
        {
          "output_type": "execute_result",
          "data": {
            "text/plain": [
              "'dense'"
            ],
            "application/vnd.google.colaboratory.intrinsic+json": {
              "type": "string"
            }
          },
          "metadata": {},
          "execution_count": 76
        }
      ]
    },
    {
      "cell_type": "code",
      "metadata": {
        "id": "54kiPSOSRm26",
        "colab": {
          "base_uri": "https://localhost:8080/"
        },
        "outputId": "a3315dae-4083-4c31-baf2-01bd7951e34a"
      },
      "source": [
        "model.get_layer(hidden1.name) is hidden1"
      ],
      "execution_count": null,
      "outputs": [
        {
          "output_type": "execute_result",
          "data": {
            "text/plain": [
              "True"
            ]
          },
          "metadata": {},
          "execution_count": 77
        }
      ]
    },
    {
      "cell_type": "code",
      "metadata": {
        "id": "bCTlSb5tRm26"
      },
      "source": [
        "weights, biases = hidden1.get_weights()"
      ],
      "execution_count": null,
      "outputs": []
    },
    {
      "cell_type": "code",
      "metadata": {
        "id": "lBCEOJD-Rm26",
        "colab": {
          "base_uri": "https://localhost:8080/"
        },
        "outputId": "9c9fb0a0-a74d-4450-b430-2036064079b8"
      },
      "source": [
        "weights"
      ],
      "execution_count": null,
      "outputs": [
        {
          "output_type": "execute_result",
          "data": {
            "text/plain": [
              "array([[-0.02105437, -0.02045951, -0.0308879 , ...,  0.0187247 ,\n",
              "        -0.03926735, -0.06383111],\n",
              "       [ 0.04671413, -0.06577714,  0.03087325, ..., -0.0237131 ,\n",
              "        -0.02920699, -0.0502747 ],\n",
              "       [-0.03205087,  0.01331197,  0.02851002, ..., -0.05284371,\n",
              "         0.05304509,  0.03264046],\n",
              "       ...,\n",
              "       [-0.00918113, -0.05186997,  0.02871485, ...,  0.04380438,\n",
              "        -0.05173181,  0.06117149],\n",
              "       [ 0.02130419, -0.02433511, -0.00825552, ...,  0.07407574,\n",
              "         0.04070834,  0.00481428],\n",
              "       [-0.02265825, -0.00060207,  0.01229662, ...,  0.01991519,\n",
              "        -0.06999279, -0.0596372 ]], dtype=float32)"
            ]
          },
          "metadata": {},
          "execution_count": 79
        }
      ]
    },
    {
      "cell_type": "code",
      "metadata": {
        "id": "k8TO-EYORm27",
        "colab": {
          "base_uri": "https://localhost:8080/"
        },
        "outputId": "d451730d-46dc-4beb-cd2f-86b9d0258081"
      },
      "source": [
        "weights.shape"
      ],
      "execution_count": null,
      "outputs": [
        {
          "output_type": "execute_result",
          "data": {
            "text/plain": [
              "(784, 300)"
            ]
          },
          "metadata": {},
          "execution_count": 80
        }
      ]
    },
    {
      "cell_type": "code",
      "metadata": {
        "id": "WCaxsFvzRm27",
        "colab": {
          "base_uri": "https://localhost:8080/"
        },
        "outputId": "489b5052-0115-4a3e-b30c-2951256148ef"
      },
      "source": [
        "biases"
      ],
      "execution_count": null,
      "outputs": [
        {
          "output_type": "execute_result",
          "data": {
            "text/plain": [
              "array([0., 0., 0., 0., 0., 0., 0., 0., 0., 0., 0., 0., 0., 0., 0., 0., 0.,\n",
              "       0., 0., 0., 0., 0., 0., 0., 0., 0., 0., 0., 0., 0., 0., 0., 0., 0.,\n",
              "       0., 0., 0., 0., 0., 0., 0., 0., 0., 0., 0., 0., 0., 0., 0., 0., 0.,\n",
              "       0., 0., 0., 0., 0., 0., 0., 0., 0., 0., 0., 0., 0., 0., 0., 0., 0.,\n",
              "       0., 0., 0., 0., 0., 0., 0., 0., 0., 0., 0., 0., 0., 0., 0., 0., 0.,\n",
              "       0., 0., 0., 0., 0., 0., 0., 0., 0., 0., 0., 0., 0., 0., 0., 0., 0.,\n",
              "       0., 0., 0., 0., 0., 0., 0., 0., 0., 0., 0., 0., 0., 0., 0., 0., 0.,\n",
              "       0., 0., 0., 0., 0., 0., 0., 0., 0., 0., 0., 0., 0., 0., 0., 0., 0.,\n",
              "       0., 0., 0., 0., 0., 0., 0., 0., 0., 0., 0., 0., 0., 0., 0., 0., 0.,\n",
              "       0., 0., 0., 0., 0., 0., 0., 0., 0., 0., 0., 0., 0., 0., 0., 0., 0.,\n",
              "       0., 0., 0., 0., 0., 0., 0., 0., 0., 0., 0., 0., 0., 0., 0., 0., 0.,\n",
              "       0., 0., 0., 0., 0., 0., 0., 0., 0., 0., 0., 0., 0., 0., 0., 0., 0.,\n",
              "       0., 0., 0., 0., 0., 0., 0., 0., 0., 0., 0., 0., 0., 0., 0., 0., 0.,\n",
              "       0., 0., 0., 0., 0., 0., 0., 0., 0., 0., 0., 0., 0., 0., 0., 0., 0.,\n",
              "       0., 0., 0., 0., 0., 0., 0., 0., 0., 0., 0., 0., 0., 0., 0., 0., 0.,\n",
              "       0., 0., 0., 0., 0., 0., 0., 0., 0., 0., 0., 0., 0., 0., 0., 0., 0.,\n",
              "       0., 0., 0., 0., 0., 0., 0., 0., 0., 0., 0., 0., 0., 0., 0., 0., 0.,\n",
              "       0., 0., 0., 0., 0., 0., 0., 0., 0., 0., 0.], dtype=float32)"
            ]
          },
          "metadata": {},
          "execution_count": 81
        }
      ]
    },
    {
      "cell_type": "code",
      "metadata": {
        "id": "LkJKEGoZRm27",
        "colab": {
          "base_uri": "https://localhost:8080/"
        },
        "outputId": "832d11a5-aa4e-4b7f-d437-753474762a91"
      },
      "source": [
        "biases.shape"
      ],
      "execution_count": null,
      "outputs": [
        {
          "output_type": "execute_result",
          "data": {
            "text/plain": [
              "(300,)"
            ]
          },
          "metadata": {},
          "execution_count": 82
        }
      ]
    },
    {
      "cell_type": "markdown",
      "metadata": {
        "id": "l-lQ3bUaZ6Q0"
      },
      "source": [
        "## Compiling the model\n",
        "\n",
        "After a model is created, you must call its compile() method to specify the loss function and the optimizer to use. Optionally, you can specify a list of extra metrics to\n",
        "compute during training and evaluation:"
      ]
    },
    {
      "cell_type": "code",
      "metadata": {
        "id": "kGV69DuxRm27"
      },
      "source": [
        "model.compile(loss=\"sparse_categorical_crossentropy\",\n",
        "              optimizer=\"sgd\",\n",
        "              metrics=[\"accuracy\"])"
      ],
      "execution_count": null,
      "outputs": []
    },
    {
      "cell_type": "markdown",
      "metadata": {
        "id": "lqGNd4g6Rm28"
      },
      "source": [
        "This is equivalent to:"
      ]
    },
    {
      "cell_type": "markdown",
      "metadata": {
        "id": "T7-FjGQaRm28"
      },
      "source": [
        "```python\n",
        "model.compile(loss=keras.losses.sparse_categorical_crossentropy,\n",
        "              optimizer=keras.optimizers.SGD(),\n",
        "              metrics=[keras.metrics.sparse_categorical_accuracy])\n",
        "```"
      ]
    },
    {
      "cell_type": "markdown",
      "metadata": {
        "id": "iu2GvG1qaWYn"
      },
      "source": [
        "This code requires some explanation. First, we use the \"sparse_categorical_cross\n",
        "entropy\" loss because we have sparse labels (i.e., for each instance, there is just a target class index, from 0 to 9 in this case), and the classes are exclusive. If instead we\n",
        "had one target probability per class for each instance (such as one-hot vectors, e.g.\n",
        "`[0., 0., 0., 1., 0., 0., 0., 0., 0., 0.]` to represent class 3), then we would\n",
        "need to use the \"categorical_crossentropy\" loss instead. If we were doing binary\n",
        "classification (with one or more binary labels), then we would use the \"sigmoid\" (i.e.,\n",
        "logistic) activation function in the output layer instead of the \"softmax\" activation\n",
        "function, and we would use the \"binary_crossentropy\" loss.\n",
        "\n",
        "Regarding the optimizer, \"sgd\" means that we will train the model using simple Stochastic Gradient Descent. In other words, Keras will perform the backpropagation\n",
        "algorithm described earlier (i.e., reverse-mode autodiff plus Gradient Descent)."
      ]
    },
    {
      "cell_type": "markdown",
      "metadata": {
        "id": "4VeBPULTak8C"
      },
      "source": [
        "Finally, since this is a classifier, it’s useful to measure its \"accuracy\" during training\n",
        "and evaluation.\n",
        "\n",
        "## Training and evaluating the model\n",
        "\n",
        "Now the model is ready to be trained. For this we simply need to call its fit()\n",
        "method:"
      ]
    },
    {
      "cell_type": "code",
      "metadata": {
        "id": "G9CJ7mOkRm28",
        "colab": {
          "base_uri": "https://localhost:8080/"
        },
        "outputId": "49ad11a6-fe54-40a8-b50b-542e044f4662"
      },
      "source": [
        "history = model.fit(X_train, y_train, epochs=5,\n",
        "                    validation_data=(X_valid, y_valid))"
      ],
      "execution_count": null,
      "outputs": [
        {
          "output_type": "stream",
          "name": "stdout",
          "text": [
            "Epoch 1/5\n",
            "1719/1719 [==============================] - 10s 6ms/step - loss: 0.7217 - accuracy: 0.7616 - val_loss: 0.5241 - val_accuracy: 0.8214\n",
            "Epoch 2/5\n",
            "1719/1719 [==============================] - 9s 5ms/step - loss: 0.4883 - accuracy: 0.8291 - val_loss: 0.4371 - val_accuracy: 0.8496\n",
            "Epoch 3/5\n",
            "1719/1719 [==============================] - 9s 5ms/step - loss: 0.4422 - accuracy: 0.8452 - val_loss: 0.5397 - val_accuracy: 0.7968\n",
            "Epoch 4/5\n",
            "1719/1719 [==============================] - 8s 5ms/step - loss: 0.4155 - accuracy: 0.8549 - val_loss: 0.3969 - val_accuracy: 0.8650\n",
            "Epoch 5/5\n",
            "1719/1719 [==============================] - 9s 5ms/step - loss: 0.3975 - accuracy: 0.8612 - val_loss: 0.3785 - val_accuracy: 0.8700\n"
          ]
        }
      ]
    },
    {
      "cell_type": "markdown",
      "metadata": {
        "id": "N3lR7NJjrOgV"
      },
      "source": [
        "We pass it the input features (X_train) and the target classes (y_train), as well as the\n",
        "number of epochs to train (or else it would default to just 1, which would definitely\n",
        "not be enough to converge to a good solution). We also pass a validation set (this is\n",
        "optional). Keras will measure the loss and the extra metrics on this set at the end of\n",
        "each epoch, which is very useful to see how well the model really performs. If the performance on the training set is much better than on the validation set, your model is probably overfitting the training set (or there is a bug, such as a data mismatch\n",
        "between the training set and the validation set).\n",
        "\n",
        "And that’s it! The neural network is trained. At each epoch during training, Keras\n",
        "displays the number of instances processed so far (along with a progress bar), the\n",
        "mean training time per sample, and the loss and accuracy (or any other extra metrics\n",
        "you asked for) on both the training set and the validation set. You can see that the\n",
        "training loss went down, which is a good sign, and the validation accuracy reached\n",
        "89.26% after 30 epochs. That’s not too far from the training accuracy, so there does\n",
        "not seem to be much overfitting going on.\n",
        "\n",
        "If the training set was very skewed, with some classes being overrepresented and others underrepresented, it would be useful to set the class_weight argument when\n",
        "calling the fit() method, which would give a larger weight to underrepresented\n",
        "classes and a lower weight to overrepresented classes. These weights would be used by\n",
        "Keras when computing the loss. If you need per-instance weights, set the sam\n",
        "ple_weight argument (if both class_weight and sample_weight are provided, Keras\n",
        "multiplies them). Per-instance weights could be useful if some instances were labeled\n",
        "by experts while others were labeled using a crowdsourcing platform: you might want\n",
        "to give more weight to the former. You can also provide sample weights (but not class\n",
        "weights) for the validation set by adding them as a third item in the validation_data\n",
        "tuple."
      ]
    },
    {
      "cell_type": "code",
      "metadata": {
        "id": "2mLmuhAQRm28",
        "colab": {
          "base_uri": "https://localhost:8080/"
        },
        "outputId": "bbb0c55c-ca51-4d91-f38b-64b337522714"
      },
      "source": [
        "history.params"
      ],
      "execution_count": null,
      "outputs": [
        {
          "output_type": "execute_result",
          "data": {
            "text/plain": [
              "{'verbose': 1, 'epochs': 5, 'steps': 1719}"
            ]
          },
          "metadata": {},
          "execution_count": 85
        }
      ]
    },
    {
      "cell_type": "markdown",
      "metadata": {
        "id": "vKdsofOmrMmP"
      },
      "source": [
        "The fit() method returns a History object containing the training parameters\n",
        "(history.params), the list of epochs it went through (history.epoch), and most\n",
        "importantly a dictionary (history.history) containing the loss and extra metrics it\n",
        "measured at the end of each epoch on the training set and on the validation set (if\n",
        "any). If you use this dictionary to create a pandas DataFrame and call its plot()\n",
        "method,"
      ]
    },
    {
      "cell_type": "code",
      "metadata": {
        "id": "0Juv5gWsRm29",
        "colab": {
          "base_uri": "https://localhost:8080/"
        },
        "outputId": "11927822-9604-4df1-da9d-50f2213be590"
      },
      "source": [
        "print(history.epoch)"
      ],
      "execution_count": null,
      "outputs": [
        {
          "output_type": "stream",
          "name": "stdout",
          "text": [
            "[0, 1, 2, 3, 4]\n"
          ]
        }
      ]
    },
    {
      "cell_type": "code",
      "metadata": {
        "id": "_fEkSf3hRm29",
        "colab": {
          "base_uri": "https://localhost:8080/"
        },
        "outputId": "5503f6a7-f914-4a46-ec50-7d200d78e04d"
      },
      "source": [
        "history.history.keys()"
      ],
      "execution_count": null,
      "outputs": [
        {
          "output_type": "execute_result",
          "data": {
            "text/plain": [
              "dict_keys(['loss', 'accuracy', 'val_loss', 'val_accuracy'])"
            ]
          },
          "metadata": {},
          "execution_count": 87
        }
      ]
    },
    {
      "cell_type": "code",
      "metadata": {
        "id": "Nz4XBuLdRm29",
        "colab": {
          "base_uri": "https://localhost:8080/",
          "height": 451
        },
        "outputId": "c821b9a9-b026-4ae6-f579-d5a8ab62f801"
      },
      "source": [
        "import pandas as pd\n",
        "\n",
        "pd.DataFrame(history.history).plot(figsize=(8, 5))\n",
        "plt.grid(True)\n",
        "plt.gca().set_ylim(0, 1)\n",
        "plt.show()"
      ],
      "execution_count": null,
      "outputs": [
        {
          "output_type": "display_data",
          "data": {
            "text/plain": [
              "<Figure size 800x500 with 1 Axes>"
            ],
            "image/png": "[encoded data removed]"
          },
          "metadata": {}
        }
      ]
    },
    {
      "cell_type": "markdown",
      "metadata": {
        "id": "u9wlUe1Xa5sD"
      },
      "source": [
        "You can see that both the training accuracy and the validation accuracy steadily\n",
        "increase during training, while the training loss and the validation loss decrease.\n",
        "Good! Moreover, the validation curves are close to the training curves, which means\n",
        "that there is not too much overfitting. In this particular case, the model looks like it\n",
        "performed better on the validation set than on the training set at the beginning of\n",
        "training. But that’s not the case: indeed, the validation error is computed at the end of\n",
        "each epoch, while the training error is computed using a running mean during each\n",
        "epoch. So the training curve should be shifted by half an epoch to the left. If you do\n",
        "that, you will see that the training and validation curves overlap almost perfectly at\n",
        "the beginning of training.\n",
        "\n",
        "The training set performance ends up beating the validation performance, as is gen‐\n",
        "erally the case when you train for long enough. You can tell that the model has not\n",
        "quite converged yet, as the validation loss is still going down, so you should probably\n",
        "continue training. It’s as simple as calling the fit() method again, since Keras just\n",
        "continues training where it left off (you should be able to reach close to 89% validation accuracy).\n",
        "If you are not satisfied with the performance of your model, you should go back and\n",
        "tune the hyperparameters. The first one to check is the learning rate. If that doesn’t\n",
        "help, try another optimizer (and always retune the learning rate after changing any\n",
        "hyperparameter). If the performance is still not great, then try tuning model hyperparameters such as the number of layers, the number of neurons per layer, and the\n",
        "types of activation functions to use for each hidden layer. You can also try tuning\n",
        "other hyperparameters, such as the batch size (it can be set in the fit() method using\n",
        "the batch_size argument, which defaults to 32). We will get back to hyperparameter\n",
        "tuning at the end of this chapter. Once you are satisfied with your model’s validation\n",
        "accuracy, you should evaluate it on the test set to estimate the generalization error\n",
        "before you deploy the model to production. You can easily do this using the evalu\n",
        "ate() method (it also supports several other arguments, such as batch_size and\n",
        "sample_weight; please check the documentation for more details):"
      ]
    },
    {
      "cell_type": "code",
      "metadata": {
        "id": "a0MERkYIRm2-",
        "colab": {
          "base_uri": "https://localhost:8080/"
        },
        "outputId": "12f992a6-b6c7-4410-b25e-0e623dd60c7b"
      },
      "source": [
        "model.evaluate(X_test, y_test)"
      ],
      "execution_count": null,
      "outputs": [
        {
          "output_type": "stream",
          "name": "stdout",
          "text": [
            "313/313 [==============================] - 1s 3ms/step - loss: 0.4173 - accuracy: 0.8532\n"
          ]
        },
        {
          "output_type": "execute_result",
          "data": {
            "text/plain": [
              "[0.4172613322734833, 0.8532000184059143]"
            ]
          },
          "metadata": {},
          "execution_count": 89
        }
      ]
    },
    {
      "cell_type": "markdown",
      "metadata": {
        "id": "yMSsy7t-bV3g"
      },
      "source": [
        "it is common to get slightly lower performance on the test set\n",
        "than on the validation set, because the hyperparameters are tuned on the validation\n",
        "set, not the test set (however, in this example, we did not do any hyperparameter tun‐\n",
        "ing, so the lower accuracy is just bad luck). Remember to resist the temptation to\n",
        "tweak the hyperparameters on the test set, or else your estimate of the generalization\n",
        "error will be too optimistic.\n",
        "\n",
        "## Using the model to make predictions\n",
        "\n",
        "Next, we can use the model’s predict() method to make predictions on new instan‐\n",
        "ces. Since we don’t have actual new instances, we will just use the first three instances\n",
        "of the test set:"
      ]
    },
    {
      "cell_type": "code",
      "metadata": {
        "id": "ZsUgghftRm2-",
        "colab": {
          "base_uri": "https://localhost:8080/"
        },
        "outputId": "8933f5ac-0451-42a3-a750-ee30e2e07dab"
      },
      "source": [
        "X_new = X_test[:3]\n",
        "y_proba = model.predict(X_new)\n",
        "y_proba.round(2)"
      ],
      "execution_count": null,
      "outputs": [
        {
          "output_type": "stream",
          "name": "stdout",
          "text": [
            "1/1 [==============================] - 0s 61ms/step\n"
          ]
        },
        {
          "output_type": "execute_result",
          "data": {
            "text/plain": [
              "array([[0.  , 0.  , 0.  , 0.  , 0.  , 0.09, 0.  , 0.2 , 0.01, 0.7 ],\n",
              "       [0.  , 0.  , 0.97, 0.  , 0.01, 0.  , 0.02, 0.  , 0.  , 0.  ],\n",
              "       [0.  , 1.  , 0.  , 0.  , 0.  , 0.  , 0.  , 0.  , 0.  , 0.  ]],\n",
              "      dtype=float32)"
            ]
          },
          "metadata": {},
          "execution_count": 90
        }
      ]
    },
    {
      "cell_type": "markdown",
      "metadata": {
        "id": "Wq8YhGPGqnFq"
      },
      "source": [
        "As you can see, for each instance the model estimates one probability per class, from\n",
        "class 0 to class 9. For example, for the first image it estimates that the probability of\n",
        "class 9 (ankle boot) is 96%, the probability of class 5 (sandal) is 3%, the probability of\n",
        "class 7 (sneaker) is 1%, and the probabilities of the other classes are negligible. In\n",
        "other words, it “believes” the first image is footwear, most likely ankle boots but possibly sandals or sneakers. If you only care about the class with the highest estimated\n",
        "probability (even if that probability is quite low), then you can use the pre\n",
        "dict_classes() method instead:"
      ]
    },
    {
      "cell_type": "markdown",
      "metadata": {
        "id": "uNjP9wB0Rm2-"
      },
      "source": [
        "**Warning**: `model.predict_classes(X_new)` is deprecated. It is replaced with `np.argmax(model.predict(X_new), axis=-1)`."
      ]
    },
    {
      "cell_type": "code",
      "metadata": {
        "id": "mNlmxbJZRm2_",
        "colab": {
          "base_uri": "https://localhost:8080/"
        },
        "outputId": "602163c0-21be-4614-bbb2-efbcd531a15a"
      },
      "source": [
        "#y_pred = model.predict_classes(X_new) # deprecated\n",
        "y_pred = np.argmax(model.predict(X_new), axis=-1)\n",
        "y_pred"
      ],
      "execution_count": null,
      "outputs": [
        {
          "output_type": "stream",
          "name": "stdout",
          "text": [
            "1/1 [==============================] - 0s 21ms/step\n"
          ]
        },
        {
          "output_type": "execute_result",
          "data": {
            "text/plain": [
              "array([9, 2, 1])"
            ]
          },
          "metadata": {},
          "execution_count": 91
        }
      ]
    },
    {
      "cell_type": "code",
      "metadata": {
        "id": "s5OBT96sRm2_",
        "colab": {
          "base_uri": "https://localhost:8080/"
        },
        "outputId": "c93e34e4-1012-4165-ee14-6da4a0f19655"
      },
      "source": [
        "np.array(class_names)[y_pred]"
      ],
      "execution_count": null,
      "outputs": [
        {
          "output_type": "execute_result",
          "data": {
            "text/plain": [
              "array(['Ankle boot', 'Pullover', 'Trouser'], dtype='<U11')"
            ]
          },
          "metadata": {},
          "execution_count": 92
        }
      ]
    },
    {
      "cell_type": "markdown",
      "metadata": {
        "id": "nL9CucRzq2Gc"
      },
      "source": [
        "Here, the classifier actually classified all three images correctly."
      ]
    },
    {
      "cell_type": "code",
      "metadata": {
        "id": "ynkR-b0ORm2_",
        "colab": {
          "base_uri": "https://localhost:8080/"
        },
        "outputId": "11f9afb6-981e-48d1-ee13-f5b9863e5971"
      },
      "source": [
        "y_new = y_test[:3]\n",
        "y_new"
      ],
      "execution_count": null,
      "outputs": [
        {
          "output_type": "execute_result",
          "data": {
            "text/plain": [
              "array([9, 2, 1], dtype=uint8)"
            ]
          },
          "metadata": {},
          "execution_count": 93
        }
      ]
    },
    {
      "cell_type": "code",
      "metadata": {
        "id": "RTv8eKGgRm2_",
        "colab": {
          "base_uri": "https://localhost:8080/",
          "height": 223
        },
        "outputId": "6b78f973-6149-44dd-ce88-9235fe2fa231"
      },
      "source": [
        "plt.figure(figsize=(7.2, 2.4))\n",
        "for index, image in enumerate(X_new):\n",
        "    plt.subplot(1, 3, index + 1)\n",
        "    plt.imshow(image, cmap=\"binary\", interpolation=\"nearest\")\n",
        "    plt.axis('off')\n",
        "    plt.title(class_names[y_test[index]], fontsize=12)\n",
        "plt.subplots_adjust(wspace=0.2, hspace=0.5)\n",
        "plt.show()"
      ],
      "execution_count": null,
      "outputs": [
        {
          "output_type": "display_data",
          "data": {
            "text/plain": [
              "<Figure size 720x240 with 3 Axes>"
            ],
            "image/png": "[encoded data removed]"
          },
          "metadata": {}
        }
      ]
    }
  ]
}