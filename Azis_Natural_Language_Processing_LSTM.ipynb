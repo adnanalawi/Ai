{
  "cells": [
    {
      "cell_type": "markdown",
      "metadata": {
        "id": "view-in-github",
        "colab_type": "text"
      },
      "source": [
        "<a href=\"https://colab.research.google.com/github/heizsen/Ai/blob/main/Azis_Natural_Language_Processing_LSTM.ipynb\" target=\"_parent\"><img src=\"https://colab.research.google.com/assets/colab-badge.svg\" alt=\"Open In Colab\"/></a>"
      ]
    },
    {
      "cell_type": "code",
      "execution_count": null,
      "metadata": {
        "colab": {
          "base_uri": "https://localhost:8080/"
        },
        "id": "dk1Bl2tHRhKJ",
        "outputId": "fcc60f65-5345-45d0-a6aa-f1b28580a34d"
      },
      "outputs": [
        {
          "output_type": "stream",
          "name": "stdout",
          "text": [
            "\u001b[?25l     \u001b[90m━━━━━━━━━━━━━━━━━━━━━━━━━━━━━━━━━━━━━━━━\u001b[0m \u001b[32m0.0/210.6 kB\u001b[0m \u001b[31m?\u001b[0m eta \u001b[36m-:--:--\u001b[0m\r\u001b[2K     \u001b[91m━━━━━━━━━━━\u001b[0m\u001b[91m╸\u001b[0m\u001b[90m━━━━━━━━━━━━━━━━━━━━━━━━━━━━\u001b[0m \u001b[32m61.4/210.6 kB\u001b[0m \u001b[31m2.2 MB/s\u001b[0m eta \u001b[36m0:00:01\u001b[0m\r\u001b[2K     \u001b[90m━━━━━━━━━━━━━━━━━━━━━━━━━━━━━━━━━━━━━━━━\u001b[0m \u001b[32m210.6/210.6 kB\u001b[0m \u001b[31m3.2 MB/s\u001b[0m eta \u001b[36m0:00:00\u001b[0m\n",
            "\u001b[?25h"
          ]
        },
        {
          "output_type": "stream",
          "name": "stderr",
          "text": [
            "[nltk_data] Downloading package stopwords to /root/nltk_data...\n",
            "[nltk_data]   Unzipping corpora/stopwords.zip.\n",
            "[nltk_data] Downloading package punkt to /root/nltk_data...\n",
            "[nltk_data]   Unzipping tokenizers/punkt.zip.\n"
          ]
        },
        {
          "output_type": "execute_result",
          "data": {
            "text/plain": [
              "True"
            ]
          },
          "metadata": {},
          "execution_count": 1
        }
      ],
      "source": [
        "!pip install -q pysastrawi\n",
        "import nltk\n",
        "import pandas as pd\n",
        "import matplotlib.pyplot as plt\n",
        "import numpy as np\n",
        "\n",
        "nltk.download('stopwords')\n",
        "nltk.download('punkt')"
      ]
    },
    {
      "cell_type": "code",
      "execution_count": null,
      "metadata": {
        "colab": {
          "base_uri": "https://localhost:8080/",
          "height": 206
        },
        "id": "aXYXmO_bWvAg",
        "outputId": "49201d80-3708-4df4-f129-55644b3136bd"
      },
      "outputs": [
        {
          "output_type": "execute_result",
          "data": {
            "text/plain": [
              "     sentimen                                               text\n",
              "0  |positive|  |@PrincessSuperC Hai Cici tersayang! Cuma mau ...\n",
              "1  |positive|  |@Msdebramaye Saya mendengar tentang kontes it...\n",
              "2  |positive|  |UNC!!! Pemenang NCAA!! Franklin St.: I ADA DI...\n",
              "3  |positive|  |@DivHumas_Polri: Hoax dan Ujaran Kebencian da...\n",
              "4  |positive|  |@DivHumas_Polri: Polri : Reuni 212 Berjalan K..."
            ],
            "text/html": [
              "\n",
              "  <div id=\"df-1dff5cf1-9341-45cb-adde-b252b7963722\" class=\"colab-df-container\">\n",
              "    <div>\n",
              "<style scoped>\n",
              "    .dataframe tbody tr th:only-of-type {\n",
              "        vertical-align: middle;\n",
              "    }\n",
              "\n",
              "    .dataframe tbody tr th {\n",
              "        vertical-align: top;\n",
              "    }\n",
              "\n",
              "    .dataframe thead th {\n",
              "        text-align: right;\n",
              "    }\n",
              "</style>\n",
              "<table border=\"1\" class=\"dataframe\">\n",
              "  <thead>\n",
              "    <tr style=\"text-align: right;\">\n",
              "      <th></th>\n",
              "      <th>sentimen</th>\n",
              "      <th>text</th>\n",
              "    </tr>\n",
              "  </thead>\n",
              "  <tbody>\n",
              "    <tr>\n",
              "      <th>0</th>\n",
              "      <td>|positive|</td>\n",
              "      <td>|@PrincessSuperC Hai Cici tersayang! Cuma mau ...</td>\n",
              "    </tr>\n",
              "    <tr>\n",
              "      <th>1</th>\n",
              "      <td>|positive|</td>\n",
              "      <td>|@Msdebramaye Saya mendengar tentang kontes it...</td>\n",
              "    </tr>\n",
              "    <tr>\n",
              "      <th>2</th>\n",
              "      <td>|positive|</td>\n",
              "      <td>|UNC!!! Pemenang NCAA!! Franklin St.: I ADA DI...</td>\n",
              "    </tr>\n",
              "    <tr>\n",
              "      <th>3</th>\n",
              "      <td>|positive|</td>\n",
              "      <td>|@DivHumas_Polri: Hoax dan Ujaran Kebencian da...</td>\n",
              "    </tr>\n",
              "    <tr>\n",
              "      <th>4</th>\n",
              "      <td>|positive|</td>\n",
              "      <td>|@DivHumas_Polri: Polri : Reuni 212 Berjalan K...</td>\n",
              "    </tr>\n",
              "  </tbody>\n",
              "</table>\n",
              "</div>\n",
              "    <div class=\"colab-df-buttons\">\n",
              "\n",
              "  <div class=\"colab-df-container\">\n",
              "    <button class=\"colab-df-convert\" onclick=\"convertToInteractive('df-1dff5cf1-9341-45cb-adde-b252b7963722')\"\n",
              "            title=\"Convert this dataframe to an interactive table.\"\n",
              "            style=\"display:none;\">\n",
              "\n",
              "  <svg xmlns=\"http://www.w3.org/2000/svg\" height=\"24px\" viewBox=\"0 -960 960 960\">\n",
              "    <path d=\"M120-120v-720h720v720H120Zm60-500h600v-160H180v160Zm220 220h160v-160H400v160Zm0 220h160v-160H400v160ZM180-400h160v-160H180v160Zm440 0h160v-160H620v160ZM180-180h160v-160H180v160Zm440 0h160v-160H620v160Z\"/>\n",
              "  </svg>\n",
              "    </button>\n",
              "\n",
              "  <style>\n",
              "    .colab-df-container {\n",
              "      display:flex;\n",
              "      gap: 12px;\n",
              "    }\n",
              "\n",
              "    .colab-df-convert {\n",
              "      background-color: #E8F0FE;\n",
              "      border: none;\n",
              "      border-radius: 50%;\n",
              "      cursor: pointer;\n",
              "      display: none;\n",
              "      fill: #1967D2;\n",
              "      height: 32px;\n",
              "      padding: 0 0 0 0;\n",
              "      width: 32px;\n",
              "    }\n",
              "\n",
              "    .colab-df-convert:hover {\n",
              "      background-color: #E2EBFA;\n",
              "      box-shadow: 0px 1px 2px rgba(60, 64, 67, 0.3), 0px 1px 3px 1px rgba(60, 64, 67, 0.15);\n",
              "      fill: #174EA6;\n",
              "    }\n",
              "\n",
              "    .colab-df-buttons div {\n",
              "      margin-bottom: 4px;\n",
              "    }\n",
              "\n",
              "    [theme=dark] .colab-df-convert {\n",
              "      background-color: #3B4455;\n",
              "      fill: #D2E3FC;\n",
              "    }\n",
              "\n",
              "    [theme=dark] .colab-df-convert:hover {\n",
              "      background-color: #434B5C;\n",
              "      box-shadow: 0px 1px 3px 1px rgba(0, 0, 0, 0.15);\n",
              "      filter: drop-shadow(0px 1px 2px rgba(0, 0, 0, 0.3));\n",
              "      fill: #FFFFFF;\n",
              "    }\n",
              "  </style>\n",
              "\n",
              "    <script>\n",
              "      const buttonEl =\n",
              "        document.querySelector('#df-1dff5cf1-9341-45cb-adde-b252b7963722 button.colab-df-convert');\n",
              "      buttonEl.style.display =\n",
              "        google.colab.kernel.accessAllowed ? 'block' : 'none';\n",
              "\n",
              "      async function convertToInteractive(key) {\n",
              "        const element = document.querySelector('#df-1dff5cf1-9341-45cb-adde-b252b7963722');\n",
              "        const dataTable =\n",
              "          await google.colab.kernel.invokeFunction('convertToInteractive',\n",
              "                                                    [key], {});\n",
              "        if (!dataTable) return;\n",
              "\n",
              "        const docLinkHtml = 'Like what you see? Visit the ' +\n",
              "          '<a target=\"_blank\" href=https://colab.research.google.com/notebooks/data_table.ipynb>data table notebook</a>'\n",
              "          + ' to learn more about interactive tables.';\n",
              "        element.innerHTML = '';\n",
              "        dataTable['output_type'] = 'display_data';\n",
              "        await google.colab.output.renderOutput(dataTable, element);\n",
              "        const docLink = document.createElement('div');\n",
              "        docLink.innerHTML = docLinkHtml;\n",
              "        element.appendChild(docLink);\n",
              "      }\n",
              "    </script>\n",
              "  </div>\n",
              "\n",
              "\n",
              "<div id=\"df-dc6bf108-1c58-48af-ae26-9ac957010adb\">\n",
              "  <button class=\"colab-df-quickchart\" onclick=\"quickchart('df-dc6bf108-1c58-48af-ae26-9ac957010adb')\"\n",
              "            title=\"Suggest charts\"\n",
              "            style=\"display:none;\">\n",
              "\n",
              "<svg xmlns=\"http://www.w3.org/2000/svg\" height=\"24px\"viewBox=\"0 0 24 24\"\n",
              "     width=\"24px\">\n",
              "    <g>\n",
              "        <path d=\"M19 3H5c-1.1 0-2 .9-2 2v14c0 1.1.9 2 2 2h14c1.1 0 2-.9 2-2V5c0-1.1-.9-2-2-2zM9 17H7v-7h2v7zm4 0h-2V7h2v10zm4 0h-2v-4h2v4z\"/>\n",
              "    </g>\n",
              "</svg>\n",
              "  </button>\n",
              "\n",
              "<style>\n",
              "  .colab-df-quickchart {\n",
              "      --bg-color: #E8F0FE;\n",
              "      --fill-color: #1967D2;\n",
              "      --hover-bg-color: #E2EBFA;\n",
              "      --hover-fill-color: #174EA6;\n",
              "      --disabled-fill-color: #AAA;\n",
              "      --disabled-bg-color: #DDD;\n",
              "  }\n",
              "\n",
              "  [theme=dark] .colab-df-quickchart {\n",
              "      --bg-color: #3B4455;\n",
              "      --fill-color: #D2E3FC;\n",
              "      --hover-bg-color: #434B5C;\n",
              "      --hover-fill-color: #FFFFFF;\n",
              "      --disabled-bg-color: #3B4455;\n",
              "      --disabled-fill-color: #666;\n",
              "  }\n",
              "\n",
              "  .colab-df-quickchart {\n",
              "    background-color: var(--bg-color);\n",
              "    border: none;\n",
              "    border-radius: 50%;\n",
              "    cursor: pointer;\n",
              "    display: none;\n",
              "    fill: var(--fill-color);\n",
              "    height: 32px;\n",
              "    padding: 0;\n",
              "    width: 32px;\n",
              "  }\n",
              "\n",
              "  .colab-df-quickchart:hover {\n",
              "    background-color: var(--hover-bg-color);\n",
              "    box-shadow: 0 1px 2px rgba(60, 64, 67, 0.3), 0 1px 3px 1px rgba(60, 64, 67, 0.15);\n",
              "    fill: var(--button-hover-fill-color);\n",
              "  }\n",
              "\n",
              "  .colab-df-quickchart-complete:disabled,\n",
              "  .colab-df-quickchart-complete:disabled:hover {\n",
              "    background-color: var(--disabled-bg-color);\n",
              "    fill: var(--disabled-fill-color);\n",
              "    box-shadow: none;\n",
              "  }\n",
              "\n",
              "  .colab-df-spinner {\n",
              "    border: 2px solid var(--fill-color);\n",
              "    border-color: transparent;\n",
              "    border-bottom-color: var(--fill-color);\n",
              "    animation:\n",
              "      spin 1s steps(1) infinite;\n",
              "  }\n",
              "\n",
              "  @keyframes spin {\n",
              "    0% {\n",
              "      border-color: transparent;\n",
              "      border-bottom-color: var(--fill-color);\n",
              "      border-left-color: var(--fill-color);\n",
              "    }\n",
              "    20% {\n",
              "      border-color: transparent;\n",
              "      border-left-color: var(--fill-color);\n",
              "      border-top-color: var(--fill-color);\n",
              "    }\n",
              "    30% {\n",
              "      border-color: transparent;\n",
              "      border-left-color: var(--fill-color);\n",
              "      border-top-color: var(--fill-color);\n",
              "      border-right-color: var(--fill-color);\n",
              "    }\n",
              "    40% {\n",
              "      border-color: transparent;\n",
              "      border-right-color: var(--fill-color);\n",
              "      border-top-color: var(--fill-color);\n",
              "    }\n",
              "    60% {\n",
              "      border-color: transparent;\n",
              "      border-right-color: var(--fill-color);\n",
              "    }\n",
              "    80% {\n",
              "      border-color: transparent;\n",
              "      border-right-color: var(--fill-color);\n",
              "      border-bottom-color: var(--fill-color);\n",
              "    }\n",
              "    90% {\n",
              "      border-color: transparent;\n",
              "      border-bottom-color: var(--fill-color);\n",
              "    }\n",
              "  }\n",
              "</style>\n",
              "\n",
              "  <script>\n",
              "    async function quickchart(key) {\n",
              "      const quickchartButtonEl =\n",
              "        document.querySelector('#' + key + ' button');\n",
              "      quickchartButtonEl.disabled = true;  // To prevent multiple clicks.\n",
              "      quickchartButtonEl.classList.add('colab-df-spinner');\n",
              "      try {\n",
              "        const charts = await google.colab.kernel.invokeFunction(\n",
              "            'suggestCharts', [key], {});\n",
              "      } catch (error) {\n",
              "        console.error('Error during call to suggestCharts:', error);\n",
              "      }\n",
              "      quickchartButtonEl.classList.remove('colab-df-spinner');\n",
              "      quickchartButtonEl.classList.add('colab-df-quickchart-complete');\n",
              "    }\n",
              "    (() => {\n",
              "      let quickchartButtonEl =\n",
              "        document.querySelector('#df-dc6bf108-1c58-48af-ae26-9ac957010adb button');\n",
              "      quickchartButtonEl.style.display =\n",
              "        google.colab.kernel.accessAllowed ? 'block' : 'none';\n",
              "    })();\n",
              "  </script>\n",
              "</div>\n",
              "    </div>\n",
              "  </div>\n"
            ],
            "application/vnd.google.colaboratory.intrinsic+json": {
              "type": "dataframe",
              "variable_name": "data",
              "summary": "{\n  \"name\": \"data\",\n  \"rows\": 3709,\n  \"fields\": [\n    {\n      \"column\": \"sentimen\",\n      \"properties\": {\n        \"dtype\": \"category\",\n        \"num_unique_values\": 4,\n        \"samples\": [\n          \"|neutral|\",\n          \"|netral|\",\n          \"|positive|\"\n        ],\n        \"semantic_type\": \"\",\n        \"description\": \"\"\n      }\n    },\n    {\n      \"column\": \"text\",\n      \"properties\": {\n        \"dtype\": \"string\",\n        \"num_unique_values\": 3481,\n        \"samples\": [\n          \"|tak layak|\",\n          \"|kemasukan setan|\",\n          \"|kram|\"\n        ],\n        \"semantic_type\": \"\",\n        \"description\": \"\"\n      }\n    }\n  ]\n}"
            }
          },
          "metadata": {},
          "execution_count": 2
        }
      ],
      "source": [
        "data = pd.read_csv(\"https://raw.githubusercontent.com/IanNarsa/sentiment-analysis/master/data/testSentimen.csv\",header=None).rename({0:'sentimen',1:'text'},axis=1)\n",
        "data.head()"
      ]
    },
    {
      "cell_type": "markdown",
      "metadata": {
        "id": "UbOU7Zh_RmXK"
      },
      "source": [
        "# Text Preprocessing"
      ]
    },
    {
      "cell_type": "code",
      "execution_count": null,
      "metadata": {
        "colab": {
          "base_uri": "https://localhost:8080/"
        },
        "id": "pC_hTb5sXKay",
        "outputId": "83d92207-6143-42cb-c002-b5f6697fdbcb"
      },
      "outputs": [
        {
          "name": "stdout",
          "output_type": "stream",
          "text": [
            "|@PrincessSuperC Hai Cici tersayang! Cuma mau memberitaukan kalau saya cinta kamu! OH! Dan akan berkunjung secepatnya? Fantasi berkendari 5 Mei!!!!|\n"
          ]
        }
      ],
      "source": [
        "print(data.text[0])"
      ]
    },
    {
      "cell_type": "markdown",
      "metadata": {
        "id": "LnkGfAvlYKG0"
      },
      "source": [
        "## Case Folding\n",
        "\n",
        "- Ubah teks ke lowercase\n",
        "- Menghilangkan tanda baca\n",
        "- Menghilangkan karakter yang tidak diperlukan\n",
        "- Menghilangkan stopwords\n",
        "- Stemming"
      ]
    },
    {
      "cell_type": "code",
      "execution_count": null,
      "metadata": {
        "colab": {
          "base_uri": "https://localhost:8080/",
          "height": 35
        },
        "id": "qLob-5tpZMR_",
        "outputId": "d1c67680-3abe-473a-ba66-d7629b1db7cd"
      },
      "outputs": [
        {
          "data": {
            "application/vnd.google.colaboratory.intrinsic+json": {
              "type": "string"
            },
            "text/plain": [
              "'|@princesssuperc hai cici tersayang! cuma mau memberitaukan kalau saya cinta kamu! oh! dan akan berkunjung secepatnya? fantasi berkendari 5 mei!!!!|'"
            ]
          },
          "execution_count": 31,
          "metadata": {},
          "output_type": "execute_result"
        }
      ],
      "source": [
        "#Ubah teks ke lowercase\n",
        "\n",
        "teks = data.text[0]\n",
        "teks_lower = teks.lower()\n",
        "teks_lower"
      ]
    },
    {
      "cell_type": "code",
      "execution_count": null,
      "metadata": {
        "colab": {
          "base_uri": "https://localhost:8080/",
          "height": 35
        },
        "id": "vLlefGWcaMmL",
        "outputId": "81a451e2-0bef-472c-8d6c-0b480d984f86"
      },
      "outputs": [
        {
          "data": {
            "application/vnd.google.colaboratory.intrinsic+json": {
              "type": "string"
            },
            "text/plain": [
              "'princesssuperc hai cici tersayang cuma mau memberitaukan kalau saya cinta kamu oh dan akan berkunjung secepatnya fantasi berkendari 5 mei'"
            ]
          },
          "execution_count": 32,
          "metadata": {},
          "output_type": "execute_result"
        }
      ],
      "source": [
        "#Menghilangkan tanda baca\n",
        "import string\n",
        "\n",
        "teks_punc = teks_lower.translate(str.maketrans(\"\",\"\",string.punctuation))\n",
        "teks_punc"
      ]
    },
    {
      "cell_type": "code",
      "execution_count": null,
      "metadata": {
        "colab": {
          "base_uri": "https://localhost:8080/",
          "height": 35
        },
        "id": "7UEoRKKcWces",
        "outputId": "a4c78ec0-4a4d-448a-a8a9-2078eebf4428"
      },
      "outputs": [
        {
          "data": {
            "application/vnd.google.colaboratory.intrinsic+json": {
              "type": "string"
            },
            "text/plain": [
              "'!\"#$%&\\'()*+,-./:;<=>?@[\\\\]^_`{|}~'"
            ]
          },
          "execution_count": 33,
          "metadata": {},
          "output_type": "execute_result"
        }
      ],
      "source": [
        "string.punctuation"
      ]
    },
    {
      "cell_type": "code",
      "execution_count": null,
      "metadata": {
        "colab": {
          "base_uri": "https://localhost:8080/",
          "height": 35
        },
        "id": "4aFhHT_Idyu0",
        "outputId": "ed4af82b-2a0a-4478-fd7c-4b97446d61aa"
      },
      "outputs": [
        {
          "data": {
            "application/vnd.google.colaboratory.intrinsic+json": {
              "type": "string"
            },
            "text/plain": [
              "'hai cici tersayang cuma mau memberitaukan kalau saya cinta kamu oh dan akan berkunjung secepatnya fantasi berkendari mei'"
            ]
          },
          "execution_count": 34,
          "metadata": {},
          "output_type": "execute_result"
        }
      ],
      "source": [
        "#Tanda @ pada username hilang, sehingga nanti kita tidak bisa menghapus username dengan mudah karena tidak diperlukan\n",
        "\n",
        "import re\n",
        "\n",
        "teks_punc = re.sub(\"@[A-Za-z0-9_]+\",\" \", teks_lower) #Menghilangkan mention\n",
        "teks = re.sub(\"#[A-Za-z0-9_]+\",\" \", teks) #Menghilangkan hashtag\n",
        "teks_punc = re.sub(r\"\\\\n\",\" \",teks_punc) #Menghilangkan \\n\n",
        "teks_punc = teks_punc.strip()\n",
        "teks_punc = re.sub(r\"http\\S+\", \" \", teks_punc) #Menghilangkan link\n",
        "teks_punc = re.sub(r\"www.\\S+\", \" \", teks_punc) #Menghilangkan link\n",
        "teks_punc = re.sub(\"[^A-Za-z\\s']\",\" \", teks_punc) #Menghilangkan yang bukan huruf\n",
        "teks_punc = re.sub(\"rt\",\" \",teks_punc) #Menghilangkan RT\n",
        "teks_punc = ' '.join(teks_punc.split())\n",
        "teks_punc"
      ]
    },
    {
      "cell_type": "code",
      "execution_count": null,
      "metadata": {
        "colab": {
          "base_uri": "https://localhost:8080/",
          "height": 35
        },
        "id": "T4cY4tqHYg0N",
        "outputId": "08dd87fa-d3f3-406a-a229-03562f94a4fd"
      },
      "outputs": [
        {
          "data": {
            "application/vnd.google.colaboratory.intrinsic+json": {
              "type": "string"
            },
            "text/plain": [
              "'enter/newline -> \\n'"
            ]
          },
          "execution_count": 35,
          "metadata": {},
          "output_type": "execute_result"
        }
      ],
      "source": [
        "\"spasi -> \\s\"\n",
        "\"tab -> \\t\"\n",
        "\"enter/newline -> \\n\""
      ]
    },
    {
      "cell_type": "code",
      "execution_count": null,
      "metadata": {
        "colab": {
          "base_uri": "https://localhost:8080/",
          "height": 35
        },
        "id": "_9WX56Xhf0hq",
        "outputId": "30285155-c84d-4aa4-f6f1-1de545d7ab33"
      },
      "outputs": [
        {
          "data": {
            "application/vnd.google.colaboratory.intrinsic+json": {
              "type": "string"
            },
            "text/plain": [
              "'hai cici tersayang cuma mau memberitaukan kalau saya cinta kamu oh dan akan berkunjung secepatnya fantasi berkendari mei'"
            ]
          },
          "execution_count": 36,
          "metadata": {},
          "output_type": "execute_result"
        }
      ],
      "source": [
        "teks_punc"
      ]
    },
    {
      "cell_type": "code",
      "execution_count": null,
      "metadata": {
        "colab": {
          "base_uri": "https://localhost:8080/",
          "height": 35
        },
        "id": "glC_nzo7m1n9",
        "outputId": "294458b4-673e-4e90-a54b-743cd44cac7e"
      },
      "outputs": [
        {
          "data": {
            "application/vnd.google.colaboratory.intrinsic+json": {
              "type": "string"
            },
            "text/plain": [
              "'hai cici tersayang memberitaukan cinta berkunjung secepatnya fantasi berkendari mei'"
            ]
          },
          "execution_count": 37,
          "metadata": {},
          "output_type": "execute_result"
        }
      ],
      "source": [
        "#Menghilangkan stopwords\n",
        "\n",
        "from nltk.corpus import stopwords\n",
        "from nltk.tokenize import word_tokenize\n",
        "\n",
        "stpwds_id = list(set(stopwords.words('indonesian')))\n",
        "stpwds_id.append('oh')\n",
        "\n",
        "tokens = word_tokenize(teks_punc)\n",
        "\n",
        "teks_stopwords = ' '.join([word for word in tokens if word not in stpwds_id])\n",
        "teks_stopwords"
      ]
    },
    {
      "cell_type": "code",
      "execution_count": null,
      "metadata": {
        "colab": {
          "base_uri": "https://localhost:8080/"
        },
        "id": "2Kh2XpN1ZiAp",
        "outputId": "2f5313a1-51ef-44d8-f1de-60cc8e3a9e18"
      },
      "outputs": [
        {
          "data": {
            "text/plain": [
              "['hai',\n",
              " 'cici',\n",
              " 'tersayang',\n",
              " 'cuma',\n",
              " 'mau',\n",
              " 'memberitaukan',\n",
              " 'kalau',\n",
              " 'saya',\n",
              " 'cinta',\n",
              " 'kamu',\n",
              " 'oh',\n",
              " 'dan',\n",
              " 'akan',\n",
              " 'berkunjung',\n",
              " 'secepatnya',\n",
              " 'fantasi',\n",
              " 'berkendari',\n",
              " 'mei']"
            ]
          },
          "execution_count": 38,
          "metadata": {},
          "output_type": "execute_result"
        }
      ],
      "source": [
        "tokens"
      ]
    },
    {
      "cell_type": "code",
      "execution_count": null,
      "metadata": {
        "colab": {
          "base_uri": "https://localhost:8080/",
          "height": 35
        },
        "id": "YNf2oVqOp01E",
        "outputId": "9dc66959-5b54-4412-f3a5-f6890ef4e991"
      },
      "outputs": [
        {
          "data": {
            "application/vnd.google.colaboratory.intrinsic+json": {
              "type": "string"
            },
            "text/plain": [
              "'hai cici sayang memberitaukan cinta kunjung cepat fantasi berkendari mei'"
            ]
          },
          "execution_count": 39,
          "metadata": {},
          "output_type": "execute_result"
        }
      ],
      "source": [
        "#Stemming\n",
        "\n",
        "from Sastrawi.Stemmer.StemmerFactory import StemmerFactory\n",
        "\n",
        "factory = StemmerFactory()\n",
        "stemmer = factory.create_stemmer()\n",
        "\n",
        "teks_stemm   = stemmer.stem(teks_stopwords)\n",
        "teks_stemm"
      ]
    },
    {
      "cell_type": "code",
      "execution_count": null,
      "metadata": {
        "colab": {
          "base_uri": "https://localhost:8080/",
          "height": 35
        },
        "id": "PpqNGU_5Tf78",
        "outputId": "bf5e74cb-d14f-410f-8c38-9dbd292ecfa8"
      },
      "outputs": [
        {
          "data": {
            "application/vnd.google.colaboratory.intrinsic+json": {
              "type": "string"
            },
            "text/plain": [
              "'hai cici sayang sapu cinta oh kunjung cepat fantasi kendara mei'"
            ]
          },
          "execution_count": 40,
          "metadata": {},
          "output_type": "execute_result"
        }
      ],
      "source": [
        "stemmer.stem('hai cici tersayang menyapu cinta oh kunjung cepat fantasi berkendara mei')"
      ]
    },
    {
      "cell_type": "code",
      "execution_count": null,
      "metadata": {
        "id": "n9lCL4i2qLkT"
      },
      "outputs": [],
      "source": [
        "#Buat fungsi supaya bisa diterapkan pada dataframe\n",
        "\n",
        "def text_proses(teks):\n",
        "  teks = teks.lower()\n",
        "  teks = re.sub(\"@[A-Za-z0-9_]+\",\" \", teks) #Menghilangkan mention\n",
        "  teks = re.sub(\"#[A-Za-z0-9_]+\",\" \", teks) #Menghilangkan hashtag\n",
        "  teks = re.sub(r\"\\\\n\",\" \",teks) #Menghilangkan \\n\n",
        "  teks = teks.strip()\n",
        "  teks = re.sub(r\"http\\S+\", \" \", teks) #Menghilangkan link\n",
        "  teks = re.sub(r\"www.\\S+\", \" \", teks) #Menghilangkan link\n",
        "  teks = re.sub(\"[^A-Za-z\\s']\",\" \", teks) #Menghilangkan yang bukan huruf\n",
        "  teks = re.sub(\"rt\",\" \",teks) #Menghilangkan RT\n",
        "  tokens = word_tokenize(teks)\n",
        "  teks = ' '.join([word for word in tokens if word not in stpwds_id])\n",
        "  teks = stemmer.stem(teks)\n",
        "  return teks"
      ]
    },
    {
      "cell_type": "code",
      "execution_count": null,
      "metadata": {
        "colab": {
          "base_uri": "https://localhost:8080/",
          "height": 424
        },
        "id": "vpdmOzRiq7VV",
        "outputId": "1e4bcc86-6e67-42eb-bcdf-c758c03fd8c2"
      },
      "outputs": [
        {
          "data": {
            "application/vnd.google.colaboratory.intrinsic+json": {
              "summary": "{\n  \"name\": \"data\",\n  \"rows\": 3709,\n  \"fields\": [\n    {\n      \"column\": \"sentimen\",\n      \"properties\": {\n        \"dtype\": \"category\",\n        \"num_unique_values\": 4,\n        \"samples\": [\n          \"|neutral|\",\n          \"|netral|\",\n          \"|positive|\"\n        ],\n        \"semantic_type\": \"\",\n        \"description\": \"\"\n      }\n    },\n    {\n      \"column\": \"text\",\n      \"properties\": {\n        \"dtype\": \"string\",\n        \"num_unique_values\": 3481,\n        \"samples\": [\n          \"|tak layak|\",\n          \"|kemasukan setan|\",\n          \"|kram|\"\n        ],\n        \"semantic_type\": \"\",\n        \"description\": \"\"\n      }\n    },\n    {\n      \"column\": \"text_processed\",\n      \"properties\": {\n        \"dtype\": \"string\",\n        \"num_unique_values\": 2375,\n        \"samples\": [\n          \"komitmen\",\n          \"bera i\",\n          \"gimana nih cepat kerja orang yg bersebrangan sepe i si ade armando xe x xa\"\n        ],\n        \"semantic_type\": \"\",\n        \"description\": \"\"\n      }\n    }\n  ]\n}",
              "type": "dataframe",
              "variable_name": "data"
            },
            "text/html": [
              "\n",
              "  <div id=\"df-c0e2e90f-dbde-4c6f-9b0b-43c95aa5cb9d\" class=\"colab-df-container\">\n",
              "    <div>\n",
              "<style scoped>\n",
              "    .dataframe tbody tr th:only-of-type {\n",
              "        vertical-align: middle;\n",
              "    }\n",
              "\n",
              "    .dataframe tbody tr th {\n",
              "        vertical-align: top;\n",
              "    }\n",
              "\n",
              "    .dataframe thead th {\n",
              "        text-align: right;\n",
              "    }\n",
              "</style>\n",
              "<table border=\"1\" class=\"dataframe\">\n",
              "  <thead>\n",
              "    <tr style=\"text-align: right;\">\n",
              "      <th></th>\n",
              "      <th>sentimen</th>\n",
              "      <th>text</th>\n",
              "      <th>text_processed</th>\n",
              "    </tr>\n",
              "  </thead>\n",
              "  <tbody>\n",
              "    <tr>\n",
              "      <th>0</th>\n",
              "      <td>|positive|</td>\n",
              "      <td>|@PrincessSuperC Hai Cici tersayang! Cuma mau ...</td>\n",
              "      <td>hai cici sayang memberitaukan cinta kunjung ce...</td>\n",
              "    </tr>\n",
              "    <tr>\n",
              "      <th>1</th>\n",
              "      <td>|positive|</td>\n",
              "      <td>|@Msdebramaye Saya mendengar tentang kontes it...</td>\n",
              "      <td>dengar kontes selamat teman</td>\n",
              "    </tr>\n",
              "    <tr>\n",
              "      <th>2</th>\n",
              "      <td>|positive|</td>\n",
              "      <td>|UNC!!! Pemenang NCAA!! Franklin St.: I ADA DI...</td>\n",
              "      <td>unc menang ncaa franklin st i sana seru baik</td>\n",
              "    </tr>\n",
              "    <tr>\n",
              "      <th>3</th>\n",
              "      <td>|positive|</td>\n",
              "      <td>|@DivHumas_Polri: Hoax dan Ujaran Kebencian da...</td>\n",
              "      <td>hoax ujar benci ancam satu lapor janban sebar ...</td>\n",
              "    </tr>\n",
              "    <tr>\n",
              "      <th>4</th>\n",
              "      <td>|positive|</td>\n",
              "      <td>|@DivHumas_Polri: Polri : Reuni 212 Berjalan K...</td>\n",
              "      <td>polri reuni jalan kondusif</td>\n",
              "    </tr>\n",
              "    <tr>\n",
              "      <th>...</th>\n",
              "      <td>...</td>\n",
              "      <td>...</td>\n",
              "      <td>...</td>\n",
              "    </tr>\n",
              "    <tr>\n",
              "      <th>3704</th>\n",
              "      <td>|positive|</td>\n",
              "      <td>|yay|</td>\n",
              "      <td>yay</td>\n",
              "    </tr>\n",
              "    <tr>\n",
              "      <th>3705</th>\n",
              "      <td>|positive|</td>\n",
              "      <td>|yeah|</td>\n",
              "      <td>yeah</td>\n",
              "    </tr>\n",
              "    <tr>\n",
              "      <th>3706</th>\n",
              "      <td>|positive|</td>\n",
              "      <td>|yihaa|</td>\n",
              "      <td>yihaa</td>\n",
              "    </tr>\n",
              "    <tr>\n",
              "      <th>3707</th>\n",
              "      <td>|negative|</td>\n",
              "      <td>|dungu|</td>\n",
              "      <td>dungu</td>\n",
              "    </tr>\n",
              "    <tr>\n",
              "      <th>3708</th>\n",
              "      <td>|netral|</td>\n",
              "      <td>|islam|</td>\n",
              "      <td>islam</td>\n",
              "    </tr>\n",
              "  </tbody>\n",
              "</table>\n",
              "<p>3709 rows × 3 columns</p>\n",
              "</div>\n",
              "    <div class=\"colab-df-buttons\">\n",
              "\n",
              "  <div class=\"colab-df-container\">\n",
              "    <button class=\"colab-df-convert\" onclick=\"convertToInteractive('df-c0e2e90f-dbde-4c6f-9b0b-43c95aa5cb9d')\"\n",
              "            title=\"Convert this dataframe to an interactive table.\"\n",
              "            style=\"display:none;\">\n",
              "\n",
              "  <svg xmlns=\"http://www.w3.org/2000/svg\" height=\"24px\" viewBox=\"0 -960 960 960\">\n",
              "    <path d=\"M120-120v-720h720v720H120Zm60-500h600v-160H180v160Zm220 220h160v-160H400v160Zm0 220h160v-160H400v160ZM180-400h160v-160H180v160Zm440 0h160v-160H620v160ZM180-180h160v-160H180v160Zm440 0h160v-160H620v160Z\"/>\n",
              "  </svg>\n",
              "    </button>\n",
              "\n",
              "  <style>\n",
              "    .colab-df-container {\n",
              "      display:flex;\n",
              "      gap: 12px;\n",
              "    }\n",
              "\n",
              "    .colab-df-convert {\n",
              "      background-color: #E8F0FE;\n",
              "      border: none;\n",
              "      border-radius: 50%;\n",
              "      cursor: pointer;\n",
              "      display: none;\n",
              "      fill: #1967D2;\n",
              "      height: 32px;\n",
              "      padding: 0 0 0 0;\n",
              "      width: 32px;\n",
              "    }\n",
              "\n",
              "    .colab-df-convert:hover {\n",
              "      background-color: #E2EBFA;\n",
              "      box-shadow: 0px 1px 2px rgba(60, 64, 67, 0.3), 0px 1px 3px 1px rgba(60, 64, 67, 0.15);\n",
              "      fill: #174EA6;\n",
              "    }\n",
              "\n",
              "    .colab-df-buttons div {\n",
              "      margin-bottom: 4px;\n",
              "    }\n",
              "\n",
              "    [theme=dark] .colab-df-convert {\n",
              "      background-color: #3B4455;\n",
              "      fill: #D2E3FC;\n",
              "    }\n",
              "\n",
              "    [theme=dark] .colab-df-convert:hover {\n",
              "      background-color: #434B5C;\n",
              "      box-shadow: 0px 1px 3px 1px rgba(0, 0, 0, 0.15);\n",
              "      filter: drop-shadow(0px 1px 2px rgba(0, 0, 0, 0.3));\n",
              "      fill: #FFFFFF;\n",
              "    }\n",
              "  </style>\n",
              "\n",
              "    <script>\n",
              "      const buttonEl =\n",
              "        document.querySelector('#df-c0e2e90f-dbde-4c6f-9b0b-43c95aa5cb9d button.colab-df-convert');\n",
              "      buttonEl.style.display =\n",
              "        google.colab.kernel.accessAllowed ? 'block' : 'none';\n",
              "\n",
              "      async function convertToInteractive(key) {\n",
              "        const element = document.querySelector('#df-c0e2e90f-dbde-4c6f-9b0b-43c95aa5cb9d');\n",
              "        const dataTable =\n",
              "          await google.colab.kernel.invokeFunction('convertToInteractive',\n",
              "                                                    [key], {});\n",
              "        if (!dataTable) return;\n",
              "\n",
              "        const docLinkHtml = 'Like what you see? Visit the ' +\n",
              "          '<a target=\"_blank\" href=https://colab.research.google.com/notebooks/data_table.ipynb>data table notebook</a>'\n",
              "          + ' to learn more about interactive tables.';\n",
              "        element.innerHTML = '';\n",
              "        dataTable['output_type'] = 'display_data';\n",
              "        await google.colab.output.renderOutput(dataTable, element);\n",
              "        const docLink = document.createElement('div');\n",
              "        docLink.innerHTML = docLinkHtml;\n",
              "        element.appendChild(docLink);\n",
              "      }\n",
              "    </script>\n",
              "  </div>\n",
              "\n",
              "\n",
              "<div id=\"df-174dec96-2185-45fe-b93c-9dd67f2a004e\">\n",
              "  <button class=\"colab-df-quickchart\" onclick=\"quickchart('df-174dec96-2185-45fe-b93c-9dd67f2a004e')\"\n",
              "            title=\"Suggest charts\"\n",
              "            style=\"display:none;\">\n",
              "\n",
              "<svg xmlns=\"http://www.w3.org/2000/svg\" height=\"24px\"viewBox=\"0 0 24 24\"\n",
              "     width=\"24px\">\n",
              "    <g>\n",
              "        <path d=\"M19 3H5c-1.1 0-2 .9-2 2v14c0 1.1.9 2 2 2h14c1.1 0 2-.9 2-2V5c0-1.1-.9-2-2-2zM9 17H7v-7h2v7zm4 0h-2V7h2v10zm4 0h-2v-4h2v4z\"/>\n",
              "    </g>\n",
              "</svg>\n",
              "  </button>\n",
              "\n",
              "<style>\n",
              "  .colab-df-quickchart {\n",
              "      --bg-color: #E8F0FE;\n",
              "      --fill-color: #1967D2;\n",
              "      --hover-bg-color: #E2EBFA;\n",
              "      --hover-fill-color: #174EA6;\n",
              "      --disabled-fill-color: #AAA;\n",
              "      --disabled-bg-color: #DDD;\n",
              "  }\n",
              "\n",
              "  [theme=dark] .colab-df-quickchart {\n",
              "      --bg-color: #3B4455;\n",
              "      --fill-color: #D2E3FC;\n",
              "      --hover-bg-color: #434B5C;\n",
              "      --hover-fill-color: #FFFFFF;\n",
              "      --disabled-bg-color: #3B4455;\n",
              "      --disabled-fill-color: #666;\n",
              "  }\n",
              "\n",
              "  .colab-df-quickchart {\n",
              "    background-color: var(--bg-color);\n",
              "    border: none;\n",
              "    border-radius: 50%;\n",
              "    cursor: pointer;\n",
              "    display: none;\n",
              "    fill: var(--fill-color);\n",
              "    height: 32px;\n",
              "    padding: 0;\n",
              "    width: 32px;\n",
              "  }\n",
              "\n",
              "  .colab-df-quickchart:hover {\n",
              "    background-color: var(--hover-bg-color);\n",
              "    box-shadow: 0 1px 2px rgba(60, 64, 67, 0.3), 0 1px 3px 1px rgba(60, 64, 67, 0.15);\n",
              "    fill: var(--button-hover-fill-color);\n",
              "  }\n",
              "\n",
              "  .colab-df-quickchart-complete:disabled,\n",
              "  .colab-df-quickchart-complete:disabled:hover {\n",
              "    background-color: var(--disabled-bg-color);\n",
              "    fill: var(--disabled-fill-color);\n",
              "    box-shadow: none;\n",
              "  }\n",
              "\n",
              "  .colab-df-spinner {\n",
              "    border: 2px solid var(--fill-color);\n",
              "    border-color: transparent;\n",
              "    border-bottom-color: var(--fill-color);\n",
              "    animation:\n",
              "      spin 1s steps(1) infinite;\n",
              "  }\n",
              "\n",
              "  @keyframes spin {\n",
              "    0% {\n",
              "      border-color: transparent;\n",
              "      border-bottom-color: var(--fill-color);\n",
              "      border-left-color: var(--fill-color);\n",
              "    }\n",
              "    20% {\n",
              "      border-color: transparent;\n",
              "      border-left-color: var(--fill-color);\n",
              "      border-top-color: var(--fill-color);\n",
              "    }\n",
              "    30% {\n",
              "      border-color: transparent;\n",
              "      border-left-color: var(--fill-color);\n",
              "      border-top-color: var(--fill-color);\n",
              "      border-right-color: var(--fill-color);\n",
              "    }\n",
              "    40% {\n",
              "      border-color: transparent;\n",
              "      border-right-color: var(--fill-color);\n",
              "      border-top-color: var(--fill-color);\n",
              "    }\n",
              "    60% {\n",
              "      border-color: transparent;\n",
              "      border-right-color: var(--fill-color);\n",
              "    }\n",
              "    80% {\n",
              "      border-color: transparent;\n",
              "      border-right-color: var(--fill-color);\n",
              "      border-bottom-color: var(--fill-color);\n",
              "    }\n",
              "    90% {\n",
              "      border-color: transparent;\n",
              "      border-bottom-color: var(--fill-color);\n",
              "    }\n",
              "  }\n",
              "</style>\n",
              "\n",
              "  <script>\n",
              "    async function quickchart(key) {\n",
              "      const quickchartButtonEl =\n",
              "        document.querySelector('#' + key + ' button');\n",
              "      quickchartButtonEl.disabled = true;  // To prevent multiple clicks.\n",
              "      quickchartButtonEl.classList.add('colab-df-spinner');\n",
              "      try {\n",
              "        const charts = await google.colab.kernel.invokeFunction(\n",
              "            'suggestCharts', [key], {});\n",
              "      } catch (error) {\n",
              "        console.error('Error during call to suggestCharts:', error);\n",
              "      }\n",
              "      quickchartButtonEl.classList.remove('colab-df-spinner');\n",
              "      quickchartButtonEl.classList.add('colab-df-quickchart-complete');\n",
              "    }\n",
              "    (() => {\n",
              "      let quickchartButtonEl =\n",
              "        document.querySelector('#df-174dec96-2185-45fe-b93c-9dd67f2a004e button');\n",
              "      quickchartButtonEl.style.display =\n",
              "        google.colab.kernel.accessAllowed ? 'block' : 'none';\n",
              "    })();\n",
              "  </script>\n",
              "</div>\n",
              "    </div>\n",
              "  </div>\n"
            ],
            "text/plain": [
              "        sentimen                                               text  \\\n",
              "0     |positive|  |@PrincessSuperC Hai Cici tersayang! Cuma mau ...   \n",
              "1     |positive|  |@Msdebramaye Saya mendengar tentang kontes it...   \n",
              "2     |positive|  |UNC!!! Pemenang NCAA!! Franklin St.: I ADA DI...   \n",
              "3     |positive|  |@DivHumas_Polri: Hoax dan Ujaran Kebencian da...   \n",
              "4     |positive|  |@DivHumas_Polri: Polri : Reuni 212 Berjalan K...   \n",
              "...          ...                                                ...   \n",
              "3704  |positive|                                              |yay|   \n",
              "3705  |positive|                                             |yeah|   \n",
              "3706  |positive|                                            |yihaa|   \n",
              "3707  |negative|                                            |dungu|   \n",
              "3708    |netral|                                            |islam|   \n",
              "\n",
              "                                         text_processed  \n",
              "0     hai cici sayang memberitaukan cinta kunjung ce...  \n",
              "1                           dengar kontes selamat teman  \n",
              "2          unc menang ncaa franklin st i sana seru baik  \n",
              "3     hoax ujar benci ancam satu lapor janban sebar ...  \n",
              "4                            polri reuni jalan kondusif  \n",
              "...                                                 ...  \n",
              "3704                                                yay  \n",
              "3705                                               yeah  \n",
              "3706                                              yihaa  \n",
              "3707                                              dungu  \n",
              "3708                                              islam  \n",
              "\n",
              "[3709 rows x 3 columns]"
            ]
          },
          "execution_count": 42,
          "metadata": {},
          "output_type": "execute_result"
        }
      ],
      "source": [
        "data['text_processed'] = data['text'].apply(lambda x: text_proses(x))\n",
        "data"
      ]
    },
    {
      "cell_type": "code",
      "execution_count": null,
      "metadata": {
        "colab": {
          "base_uri": "https://localhost:8080/"
        },
        "id": "eJWn1AO-VuId",
        "outputId": "3786769e-27f9-4c0d-9958-c1e73165a5b7"
      },
      "outputs": [
        {
          "data": {
            "text/plain": [
              "array(['|positive|', '|neutral|', '|negative|', '|netral|'], dtype=object)"
            ]
          },
          "execution_count": 43,
          "metadata": {},
          "output_type": "execute_result"
        }
      ],
      "source": [
        "data.sentimen.unique()"
      ]
    },
    {
      "cell_type": "code",
      "execution_count": null,
      "metadata": {
        "colab": {
          "base_uri": "https://localhost:8080/",
          "height": 424
        },
        "id": "PWAS8S19soO_",
        "outputId": "5f7f5ea4-a6a2-4305-8003-143151f78946"
      },
      "outputs": [
        {
          "data": {
            "application/vnd.google.colaboratory.intrinsic+json": {
              "summary": "{\n  \"name\": \"data\",\n  \"rows\": 3709,\n  \"fields\": [\n    {\n      \"column\": \"sentimen\",\n      \"properties\": {\n        \"dtype\": \"category\",\n        \"num_unique_values\": 4,\n        \"samples\": [\n          \"|neutral|\",\n          \"|netral|\",\n          \"|positive|\"\n        ],\n        \"semantic_type\": \"\",\n        \"description\": \"\"\n      }\n    },\n    {\n      \"column\": \"text\",\n      \"properties\": {\n        \"dtype\": \"string\",\n        \"num_unique_values\": 3481,\n        \"samples\": [\n          \"|tak layak|\",\n          \"|kemasukan setan|\",\n          \"|kram|\"\n        ],\n        \"semantic_type\": \"\",\n        \"description\": \"\"\n      }\n    },\n    {\n      \"column\": \"text_processed\",\n      \"properties\": {\n        \"dtype\": \"string\",\n        \"num_unique_values\": 2375,\n        \"samples\": [\n          \"komitmen\",\n          \"bera i\",\n          \"gimana nih cepat kerja orang yg bersebrangan sepe i si ade armando xe x xa\"\n        ],\n        \"semantic_type\": \"\",\n        \"description\": \"\"\n      }\n    },\n    {\n      \"column\": \"label\",\n      \"properties\": {\n        \"dtype\": \"number\",\n        \"std\": 0,\n        \"min\": 0,\n        \"max\": 2,\n        \"num_unique_values\": 3,\n        \"samples\": [\n          2,\n          1,\n          0\n        ],\n        \"semantic_type\": \"\",\n        \"description\": \"\"\n      }\n    }\n  ]\n}",
              "type": "dataframe",
              "variable_name": "data"
            },
            "text/html": [
              "\n",
              "  <div id=\"df-bad0bd8b-ea69-4645-a3be-174f3c2798d8\" class=\"colab-df-container\">\n",
              "    <div>\n",
              "<style scoped>\n",
              "    .dataframe tbody tr th:only-of-type {\n",
              "        vertical-align: middle;\n",
              "    }\n",
              "\n",
              "    .dataframe tbody tr th {\n",
              "        vertical-align: top;\n",
              "    }\n",
              "\n",
              "    .dataframe thead th {\n",
              "        text-align: right;\n",
              "    }\n",
              "</style>\n",
              "<table border=\"1\" class=\"dataframe\">\n",
              "  <thead>\n",
              "    <tr style=\"text-align: right;\">\n",
              "      <th></th>\n",
              "      <th>sentimen</th>\n",
              "      <th>text</th>\n",
              "      <th>text_processed</th>\n",
              "      <th>label</th>\n",
              "    </tr>\n",
              "  </thead>\n",
              "  <tbody>\n",
              "    <tr>\n",
              "      <th>0</th>\n",
              "      <td>|positive|</td>\n",
              "      <td>|@PrincessSuperC Hai Cici tersayang! Cuma mau ...</td>\n",
              "      <td>hai cici sayang memberitaukan cinta kunjung ce...</td>\n",
              "      <td>2</td>\n",
              "    </tr>\n",
              "    <tr>\n",
              "      <th>1</th>\n",
              "      <td>|positive|</td>\n",
              "      <td>|@Msdebramaye Saya mendengar tentang kontes it...</td>\n",
              "      <td>dengar kontes selamat teman</td>\n",
              "      <td>2</td>\n",
              "    </tr>\n",
              "    <tr>\n",
              "      <th>2</th>\n",
              "      <td>|positive|</td>\n",
              "      <td>|UNC!!! Pemenang NCAA!! Franklin St.: I ADA DI...</td>\n",
              "      <td>unc menang ncaa franklin st i sana seru baik</td>\n",
              "      <td>2</td>\n",
              "    </tr>\n",
              "    <tr>\n",
              "      <th>3</th>\n",
              "      <td>|positive|</td>\n",
              "      <td>|@DivHumas_Polri: Hoax dan Ujaran Kebencian da...</td>\n",
              "      <td>hoax ujar benci ancam satu lapor janban sebar ...</td>\n",
              "      <td>2</td>\n",
              "    </tr>\n",
              "    <tr>\n",
              "      <th>4</th>\n",
              "      <td>|positive|</td>\n",
              "      <td>|@DivHumas_Polri: Polri : Reuni 212 Berjalan K...</td>\n",
              "      <td>polri reuni jalan kondusif</td>\n",
              "      <td>2</td>\n",
              "    </tr>\n",
              "    <tr>\n",
              "      <th>...</th>\n",
              "      <td>...</td>\n",
              "      <td>...</td>\n",
              "      <td>...</td>\n",
              "      <td>...</td>\n",
              "    </tr>\n",
              "    <tr>\n",
              "      <th>3704</th>\n",
              "      <td>|positive|</td>\n",
              "      <td>|yay|</td>\n",
              "      <td>yay</td>\n",
              "      <td>2</td>\n",
              "    </tr>\n",
              "    <tr>\n",
              "      <th>3705</th>\n",
              "      <td>|positive|</td>\n",
              "      <td>|yeah|</td>\n",
              "      <td>yeah</td>\n",
              "      <td>2</td>\n",
              "    </tr>\n",
              "    <tr>\n",
              "      <th>3706</th>\n",
              "      <td>|positive|</td>\n",
              "      <td>|yihaa|</td>\n",
              "      <td>yihaa</td>\n",
              "      <td>2</td>\n",
              "    </tr>\n",
              "    <tr>\n",
              "      <th>3707</th>\n",
              "      <td>|negative|</td>\n",
              "      <td>|dungu|</td>\n",
              "      <td>dungu</td>\n",
              "      <td>0</td>\n",
              "    </tr>\n",
              "    <tr>\n",
              "      <th>3708</th>\n",
              "      <td>|netral|</td>\n",
              "      <td>|islam|</td>\n",
              "      <td>islam</td>\n",
              "      <td>1</td>\n",
              "    </tr>\n",
              "  </tbody>\n",
              "</table>\n",
              "<p>3709 rows × 4 columns</p>\n",
              "</div>\n",
              "    <div class=\"colab-df-buttons\">\n",
              "\n",
              "  <div class=\"colab-df-container\">\n",
              "    <button class=\"colab-df-convert\" onclick=\"convertToInteractive('df-bad0bd8b-ea69-4645-a3be-174f3c2798d8')\"\n",
              "            title=\"Convert this dataframe to an interactive table.\"\n",
              "            style=\"display:none;\">\n",
              "\n",
              "  <svg xmlns=\"http://www.w3.org/2000/svg\" height=\"24px\" viewBox=\"0 -960 960 960\">\n",
              "    <path d=\"M120-120v-720h720v720H120Zm60-500h600v-160H180v160Zm220 220h160v-160H400v160Zm0 220h160v-160H400v160ZM180-400h160v-160H180v160Zm440 0h160v-160H620v160ZM180-180h160v-160H180v160Zm440 0h160v-160H620v160Z\"/>\n",
              "  </svg>\n",
              "    </button>\n",
              "\n",
              "  <style>\n",
              "    .colab-df-container {\n",
              "      display:flex;\n",
              "      gap: 12px;\n",
              "    }\n",
              "\n",
              "    .colab-df-convert {\n",
              "      background-color: #E8F0FE;\n",
              "      border: none;\n",
              "      border-radius: 50%;\n",
              "      cursor: pointer;\n",
              "      display: none;\n",
              "      fill: #1967D2;\n",
              "      height: 32px;\n",
              "      padding: 0 0 0 0;\n",
              "      width: 32px;\n",
              "    }\n",
              "\n",
              "    .colab-df-convert:hover {\n",
              "      background-color: #E2EBFA;\n",
              "      box-shadow: 0px 1px 2px rgba(60, 64, 67, 0.3), 0px 1px 3px 1px rgba(60, 64, 67, 0.15);\n",
              "      fill: #174EA6;\n",
              "    }\n",
              "\n",
              "    .colab-df-buttons div {\n",
              "      margin-bottom: 4px;\n",
              "    }\n",
              "\n",
              "    [theme=dark] .colab-df-convert {\n",
              "      background-color: #3B4455;\n",
              "      fill: #D2E3FC;\n",
              "    }\n",
              "\n",
              "    [theme=dark] .colab-df-convert:hover {\n",
              "      background-color: #434B5C;\n",
              "      box-shadow: 0px 1px 3px 1px rgba(0, 0, 0, 0.15);\n",
              "      filter: drop-shadow(0px 1px 2px rgba(0, 0, 0, 0.3));\n",
              "      fill: #FFFFFF;\n",
              "    }\n",
              "  </style>\n",
              "\n",
              "    <script>\n",
              "      const buttonEl =\n",
              "        document.querySelector('#df-bad0bd8b-ea69-4645-a3be-174f3c2798d8 button.colab-df-convert');\n",
              "      buttonEl.style.display =\n",
              "        google.colab.kernel.accessAllowed ? 'block' : 'none';\n",
              "\n",
              "      async function convertToInteractive(key) {\n",
              "        const element = document.querySelector('#df-bad0bd8b-ea69-4645-a3be-174f3c2798d8');\n",
              "        const dataTable =\n",
              "          await google.colab.kernel.invokeFunction('convertToInteractive',\n",
              "                                                    [key], {});\n",
              "        if (!dataTable) return;\n",
              "\n",
              "        const docLinkHtml = 'Like what you see? Visit the ' +\n",
              "          '<a target=\"_blank\" href=https://colab.research.google.com/notebooks/data_table.ipynb>data table notebook</a>'\n",
              "          + ' to learn more about interactive tables.';\n",
              "        element.innerHTML = '';\n",
              "        dataTable['output_type'] = 'display_data';\n",
              "        await google.colab.output.renderOutput(dataTable, element);\n",
              "        const docLink = document.createElement('div');\n",
              "        docLink.innerHTML = docLinkHtml;\n",
              "        element.appendChild(docLink);\n",
              "      }\n",
              "    </script>\n",
              "  </div>\n",
              "\n",
              "\n",
              "<div id=\"df-82ad3356-382f-478a-a9f5-a3b42b52acdd\">\n",
              "  <button class=\"colab-df-quickchart\" onclick=\"quickchart('df-82ad3356-382f-478a-a9f5-a3b42b52acdd')\"\n",
              "            title=\"Suggest charts\"\n",
              "            style=\"display:none;\">\n",
              "\n",
              "<svg xmlns=\"http://www.w3.org/2000/svg\" height=\"24px\"viewBox=\"0 0 24 24\"\n",
              "     width=\"24px\">\n",
              "    <g>\n",
              "        <path d=\"M19 3H5c-1.1 0-2 .9-2 2v14c0 1.1.9 2 2 2h14c1.1 0 2-.9 2-2V5c0-1.1-.9-2-2-2zM9 17H7v-7h2v7zm4 0h-2V7h2v10zm4 0h-2v-4h2v4z\"/>\n",
              "    </g>\n",
              "</svg>\n",
              "  </button>\n",
              "\n",
              "<style>\n",
              "  .colab-df-quickchart {\n",
              "      --bg-color: #E8F0FE;\n",
              "      --fill-color: #1967D2;\n",
              "      --hover-bg-color: #E2EBFA;\n",
              "      --hover-fill-color: #174EA6;\n",
              "      --disabled-fill-color: #AAA;\n",
              "      --disabled-bg-color: #DDD;\n",
              "  }\n",
              "\n",
              "  [theme=dark] .colab-df-quickchart {\n",
              "      --bg-color: #3B4455;\n",
              "      --fill-color: #D2E3FC;\n",
              "      --hover-bg-color: #434B5C;\n",
              "      --hover-fill-color: #FFFFFF;\n",
              "      --disabled-bg-color: #3B4455;\n",
              "      --disabled-fill-color: #666;\n",
              "  }\n",
              "\n",
              "  .colab-df-quickchart {\n",
              "    background-color: var(--bg-color);\n",
              "    border: none;\n",
              "    border-radius: 50%;\n",
              "    cursor: pointer;\n",
              "    display: none;\n",
              "    fill: var(--fill-color);\n",
              "    height: 32px;\n",
              "    padding: 0;\n",
              "    width: 32px;\n",
              "  }\n",
              "\n",
              "  .colab-df-quickchart:hover {\n",
              "    background-color: var(--hover-bg-color);\n",
              "    box-shadow: 0 1px 2px rgba(60, 64, 67, 0.3), 0 1px 3px 1px rgba(60, 64, 67, 0.15);\n",
              "    fill: var(--button-hover-fill-color);\n",
              "  }\n",
              "\n",
              "  .colab-df-quickchart-complete:disabled,\n",
              "  .colab-df-quickchart-complete:disabled:hover {\n",
              "    background-color: var(--disabled-bg-color);\n",
              "    fill: var(--disabled-fill-color);\n",
              "    box-shadow: none;\n",
              "  }\n",
              "\n",
              "  .colab-df-spinner {\n",
              "    border: 2px solid var(--fill-color);\n",
              "    border-color: transparent;\n",
              "    border-bottom-color: var(--fill-color);\n",
              "    animation:\n",
              "      spin 1s steps(1) infinite;\n",
              "  }\n",
              "\n",
              "  @keyframes spin {\n",
              "    0% {\n",
              "      border-color: transparent;\n",
              "      border-bottom-color: var(--fill-color);\n",
              "      border-left-color: var(--fill-color);\n",
              "    }\n",
              "    20% {\n",
              "      border-color: transparent;\n",
              "      border-left-color: var(--fill-color);\n",
              "      border-top-color: var(--fill-color);\n",
              "    }\n",
              "    30% {\n",
              "      border-color: transparent;\n",
              "      border-left-color: var(--fill-color);\n",
              "      border-top-color: var(--fill-color);\n",
              "      border-right-color: var(--fill-color);\n",
              "    }\n",
              "    40% {\n",
              "      border-color: transparent;\n",
              "      border-right-color: var(--fill-color);\n",
              "      border-top-color: var(--fill-color);\n",
              "    }\n",
              "    60% {\n",
              "      border-color: transparent;\n",
              "      border-right-color: var(--fill-color);\n",
              "    }\n",
              "    80% {\n",
              "      border-color: transparent;\n",
              "      border-right-color: var(--fill-color);\n",
              "      border-bottom-color: var(--fill-color);\n",
              "    }\n",
              "    90% {\n",
              "      border-color: transparent;\n",
              "      border-bottom-color: var(--fill-color);\n",
              "    }\n",
              "  }\n",
              "</style>\n",
              "\n",
              "  <script>\n",
              "    async function quickchart(key) {\n",
              "      const quickchartButtonEl =\n",
              "        document.querySelector('#' + key + ' button');\n",
              "      quickchartButtonEl.disabled = true;  // To prevent multiple clicks.\n",
              "      quickchartButtonEl.classList.add('colab-df-spinner');\n",
              "      try {\n",
              "        const charts = await google.colab.kernel.invokeFunction(\n",
              "            'suggestCharts', [key], {});\n",
              "      } catch (error) {\n",
              "        console.error('Error during call to suggestCharts:', error);\n",
              "      }\n",
              "      quickchartButtonEl.classList.remove('colab-df-spinner');\n",
              "      quickchartButtonEl.classList.add('colab-df-quickchart-complete');\n",
              "    }\n",
              "    (() => {\n",
              "      let quickchartButtonEl =\n",
              "        document.querySelector('#df-82ad3356-382f-478a-a9f5-a3b42b52acdd button');\n",
              "      quickchartButtonEl.style.display =\n",
              "        google.colab.kernel.accessAllowed ? 'block' : 'none';\n",
              "    })();\n",
              "  </script>\n",
              "</div>\n",
              "    </div>\n",
              "  </div>\n"
            ],
            "text/plain": [
              "        sentimen                                               text  \\\n",
              "0     |positive|  |@PrincessSuperC Hai Cici tersayang! Cuma mau ...   \n",
              "1     |positive|  |@Msdebramaye Saya mendengar tentang kontes it...   \n",
              "2     |positive|  |UNC!!! Pemenang NCAA!! Franklin St.: I ADA DI...   \n",
              "3     |positive|  |@DivHumas_Polri: Hoax dan Ujaran Kebencian da...   \n",
              "4     |positive|  |@DivHumas_Polri: Polri : Reuni 212 Berjalan K...   \n",
              "...          ...                                                ...   \n",
              "3704  |positive|                                              |yay|   \n",
              "3705  |positive|                                             |yeah|   \n",
              "3706  |positive|                                            |yihaa|   \n",
              "3707  |negative|                                            |dungu|   \n",
              "3708    |netral|                                            |islam|   \n",
              "\n",
              "                                         text_processed  label  \n",
              "0     hai cici sayang memberitaukan cinta kunjung ce...      2  \n",
              "1                           dengar kontes selamat teman      2  \n",
              "2          unc menang ncaa franklin st i sana seru baik      2  \n",
              "3     hoax ujar benci ancam satu lapor janban sebar ...      2  \n",
              "4                            polri reuni jalan kondusif      2  \n",
              "...                                                 ...    ...  \n",
              "3704                                                yay      2  \n",
              "3705                                               yeah      2  \n",
              "3706                                              yihaa      2  \n",
              "3707                                              dungu      0  \n",
              "3708                                              islam      1  \n",
              "\n",
              "[3709 rows x 4 columns]"
            ]
          },
          "execution_count": 44,
          "metadata": {},
          "output_type": "execute_result"
        }
      ],
      "source": [
        "data['label'] = data['sentimen'].replace({'|negative|' : 0, '|neutral|' : 1, '|netral|' : 1, '|positive|' : 2})\n",
        "data"
      ]
    },
    {
      "cell_type": "code",
      "execution_count": null,
      "metadata": {
        "colab": {
          "base_uri": "https://localhost:8080/"
        },
        "id": "fIkLdCOU8WYL",
        "outputId": "b6a956f4-d952-457a-a5c2-898e17d342e2"
      },
      "outputs": [
        {
          "data": {
            "text/plain": [
              "label\n",
              "0    2570\n",
              "2     982\n",
              "1     157\n",
              "Name: count, dtype: int64"
            ]
          },
          "execution_count": 45,
          "metadata": {},
          "output_type": "execute_result"
        }
      ],
      "source": [
        "data['label'].value_counts()"
      ]
    },
    {
      "cell_type": "markdown",
      "metadata": {
        "id": "wuxwlMqZSHsz"
      },
      "source": [
        "#Tokenization & Word Embedding"
      ]
    },
    {
      "cell_type": "markdown",
      "metadata": {
        "id": "2RyRJkaztqdU"
      },
      "source": [
        "## Traditional Machine Learning with Sklearn"
      ]
    },
    {
      "cell_type": "code",
      "execution_count": null,
      "metadata": {
        "id": "Nnz6DqN0tu_t"
      },
      "outputs": [],
      "source": [
        "from sklearn.model_selection import train_test_split\n",
        "from sklearn.feature_extraction.text import CountVectorizer, TfidfTransformer"
      ]
    },
    {
      "cell_type": "code",
      "execution_count": null,
      "metadata": {
        "id": "r5ABH8xlufLd"
      },
      "outputs": [],
      "source": [
        "X_train, X_test, y_train, y_test = train_test_split(data.text_processed, data.label, test_size=0.25, random_state=46, stratify=data.label)"
      ]
    },
    {
      "cell_type": "code",
      "execution_count": null,
      "metadata": {
        "colab": {
          "base_uri": "https://localhost:8080/"
        },
        "id": "_zOjfDDqwpmI",
        "outputId": "c03bc104-f4c7-49a0-c0e2-a0eb1fd1d671"
      },
      "outputs": [
        {
          "data": {
            "text/plain": [
              "<2781x2337 sparse matrix of type '<class 'numpy.int64'>'\n",
              "\twith 5599 stored elements in Compressed Sparse Row format>"
            ]
          },
          "execution_count": 48,
          "metadata": {},
          "output_type": "execute_result"
        }
      ],
      "source": [
        "Vectorize = CountVectorizer()\n",
        "X_train_vec = Vectorize.fit_transform(X_train)\n",
        "X_test_vec = Vectorize.transform(X_test)\n",
        "\n",
        "X_train_vec"
      ]
    },
    {
      "cell_type": "code",
      "execution_count": null,
      "metadata": {
        "colab": {
          "base_uri": "https://localhost:8080/"
        },
        "id": "1Do7KKtZx04m",
        "outputId": "2fca2f02-af2a-4773-ebfd-3b0afe8b77f8"
      },
      "outputs": [
        {
          "name": "stdout",
          "output_type": "stream",
          "text": [
            "  (0, 2165)\t1\n",
            "  (0, 1827)\t1\n",
            "  (0, 693)\t1\n",
            "  (0, 1795)\t1\n",
            "  (0, 444)\t1\n",
            "  (0, 2191)\t1\n",
            "  (0, 1719)\t1\n",
            "  (0, 1243)\t1\n",
            "  (0, 2323)\t1\n",
            "  (0, 2318)\t1\n",
            "  (1, 1253)\t1\n",
            "  (1, 1)\t1\n",
            "  (2, 1936)\t1\n",
            "  (2, 1272)\t1\n",
            "  (3, 1406)\t1\n",
            "  (3, 158)\t1\n",
            "  (4, 1326)\t1\n",
            "  (5, 2323)\t1\n",
            "  (5, 2318)\t1\n",
            "  (5, 52)\t1\n",
            "  (5, 283)\t1\n",
            "  (5, 267)\t1\n",
            "  (5, 1748)\t1\n",
            "  (5, 317)\t1\n",
            "  (5, 1384)\t2\n",
            "  :\t:\n",
            "  (2772, 92)\t1\n",
            "  (2772, 1582)\t1\n",
            "  (2772, 1355)\t1\n",
            "  (2772, 2317)\t1\n",
            "  (2772, 1634)\t1\n",
            "  (2772, 1637)\t1\n",
            "  (2772, 59)\t1\n",
            "  (2772, 1893)\t1\n",
            "  (2773, 313)\t1\n",
            "  (2773, 1998)\t1\n",
            "  (2774, 736)\t1\n",
            "  (2775, 2119)\t1\n",
            "  (2776, 2323)\t1\n",
            "  (2776, 2318)\t1\n",
            "  (2777, 1908)\t1\n",
            "  (2778, 6)\t1\n",
            "  (2779, 2193)\t1\n",
            "  (2779, 1663)\t1\n",
            "  (2779, 1544)\t1\n",
            "  (2779, 982)\t1\n",
            "  (2779, 2180)\t1\n",
            "  (2779, 168)\t1\n",
            "  (2779, 436)\t1\n",
            "  (2779, 1059)\t1\n",
            "  (2780, 331)\t1\n"
          ]
        }
      ],
      "source": [
        "print(X_train_vec)"
      ]
    },
    {
      "cell_type": "code",
      "execution_count": null,
      "metadata": {
        "colab": {
          "base_uri": "https://localhost:8080/",
          "height": 35
        },
        "id": "uI1IBCD_id0B",
        "outputId": "4afb0a8d-12ac-4069-e128-b10b833c1b9e"
      },
      "outputs": [
        {
          "data": {
            "application/vnd.google.colaboratory.intrinsic+json": {
              "type": "string"
            },
            "text/plain": [
              "'polri reuni jalan kondusif'"
            ]
          },
          "execution_count": 50,
          "metadata": {},
          "output_type": "execute_result"
        }
      ],
      "source": [
        "X_train.loc[4]"
      ]
    },
    {
      "cell_type": "code",
      "execution_count": null,
      "metadata": {
        "colab": {
          "base_uri": "https://localhost:8080/",
          "height": 35
        },
        "id": "Sxhv_mMwiJQ2",
        "outputId": "322263c6-41c9-4b5e-dd18-0c865b68550e"
      },
      "outputs": [
        {
          "data": {
            "application/vnd.google.colaboratory.intrinsic+json": {
              "type": "string"
            },
            "text/plain": [
              "'memar'"
            ]
          },
          "execution_count": 51,
          "metadata": {},
          "output_type": "execute_result"
        }
      ],
      "source": [
        "X_train.iloc[4]"
      ]
    },
    {
      "cell_type": "code",
      "execution_count": null,
      "metadata": {
        "colab": {
          "base_uri": "https://localhost:8080/"
        },
        "id": "X3Lq6GlGYm-l",
        "outputId": "538ccb67-2718-4c4d-f40d-88fdb9f10348"
      },
      "outputs": [
        {
          "data": {
            "text/plain": [
              "dict_keys(['tetap', 'sabar', 'hina', 'risau', 'dgn', 'tl', 'rakyat', 'lugu', 'xe', 'xa', 'ma', 'abat', 'sepe', 'malaikat', 'murah', 'banget', 'memar', 'alhamdulilah', 'brkat', 'bntuan', 'rekan', 'bwa', 'mrka', 'br', 'sdh', 'plg', 'krmh', 'msing', 'sy', 'mngucapkan', 'byk', 'trimakasih', 'kpda', 'yg', 'trlibat', 'utk', 'kplgn', 'tipu', 'ayo', 'polisi', 'dukung', 'cc', 'kasih', 'kendor', 'abnormal', 'negeri', 'beku', 'minim', 'resiko', 'tarik', 'mene', 'awa', 'panggil', 'terima', 'hadap', 'kamis', 'besok', 'jemput', 'paksa', 'masyhur', 'umur', 'pendek', 'rongga', 'ketidakmungkinan', 'fitnah', 'damai', 'destruktif', 'dupa', 'besar', 'tamak', 'hukum', 'timpal', 'tlg', 'kontol', 'hati', 'serba', 'cepat', 'terkadang', 'bingung', 'ahok', 'ratna', 'sarumpaet', 'buni', 'yani', 'timbun', 'nih', 'rekam', 'jejekanya', 'sila', 'simak', 'berkel', 'lambat', 'setia', 'tabung', 'amuk', 'keramat', 'pandang', 'bulu', 'nyawa', 'abur', 'gigih', 'sakit', 'salah', 'baca', 'jangkit', 'keluar', 'isi', 'perut', 'galak', 'enggan', 'hadir', 'paro', 'reuni', 'kamera', 'video', 'putih', 'kecokl', 'bekas', 'roda', 'kedip', 'ingat', 'dosa', 'antitesis', 'cacat', 'buta', 'brutal', 'salju', 'longsor', 'reseptif', 'perempuan', 'jahanam', 'bohong', 'nikmat', 'semrawut', 'saat', 'evakuasi', 'jenazah', 'jg', 'tembak', 'mampu', 'tni', 'densus', 'gimana', 'keburu', 'penuh', 'peristiwa', 'sampah', 'sayat', 'dengar', 'lupa', 'takzim', 'getar', 'plin', 'plan', 'perhati', 'selamat', 'papas', 'bersih', 'be', 'entangan', 'ga', 'karuan', 'gembira', 'ribut', 'menge', 'langgar', 'susila', 'ganti', 'lemah', 'mukjizat', 'ketidakakuratan', 'pasu', 'gabung', 'polri', 'warga', 'sipil', 'nduga', 'papua', 'via', 'timidness', 'rugi', 'muda', 'sengit', 'korek', 'api', 'lemas', 'te', 'ipu', 'basi', 'ulang', 'ngehoax', 'tangkap', 'latency', 'hangat', 'sok', 'laudably', 'marginal', 'huahuahuahua', 'ka', 'hoax', 'ujar', 'benci', 'ancam', 'satu', 'lapor', 'janban', 'sebar', 'wajar', 'garang', 'racun', 'masyakat', 'tiada', 'dua', 'tinggal', 'viral', 'kapitra', 'bilang', 'jamaah', 'uang', 'saku', 'ribu', 'kepala', 'gemes', 'bener', 'manusia', 'kembang', 'erimakasih', 'diam', 'jaga', 'sepenuh', 'hai', 'cici', 'sayang', 'memberitaukan', 'cinta', 'kunjung', 'fantasi', 'berkendari', 'mei', 'individualis', 'anugerah', 'tuhan', 'fasis', 'pe', 'engkaran', 'rendah', 'nilai', 'ketidakpantasan', 'reyot', 'palsu', 'tenang', 'buru', 'nafsu', 'bebal', 'desis', 'gairah', 'ubah', 'bahas', 'pa', 'tito', 'ad', 'lg', 'muncul', 'ahhh', 'sudahlh', 'cengking', 'arik', 'sedih', 'tegas', 'percaya', 'rajuk', 'batas', 'kenan', 'lirik', 'lancang', 'bani', 'kampret', 'ajar', 'viralkan', 'gaes', 'biar', 'laku', 'cyduk', 'pake', 'lemo', 'sisik', 'bebas', 'rajin', 'luka', 'miskin', 'ketus', 'masya', 'allah', 'copas', 'jam', 'minggu', 'pagi', 'kelompok', 'orang', 'jalan', 'bar', 'ikut', 'gelegar', 'sporadis', 'bosan', 'kritikus', 'ketidakkasihan', 'rewel', 'dewa', 'memutarbalikkan', 'sederhana', 'mutu', 'takut', 'lengkung', 'dalam', 'isap', 'fana', 'wow', 'keliru', 'preferensi', 'kelip', 'redup', 'fundamentalisme', 'rongrong', 'irasionalitas', 'lelah', 'buron', 'keji', 'jelek', 'iring', 'gak', 'kesana', 'kemari', 'tidur', 'mau', 'buih', 'nyaring', 'ya', 'merinding', 'lihat', 'nyanyi', 'nang', 'radikal', 'mengejuntukan', 'kaya', 'mah', 'ndan', 'cegah', 'buang', 'ketidakamanan', 'dorong', 'harap', 'malas', 'topang', 'gantung', 'bahaya', 'bajing', 'muram', 'rebus', 'melintir', 'nyata', 'manusiawi', 'radik', 'nahdhatul', 'ulama', 'terus', 'nkri', 'rapuh', 'hancur', 'kuatir', 'ngatur', 'derit', 'berontak', 'layak', 'master', 'satiris', 'henti', 'pesta', 'terrifically', 'pandai', 'bicara', 'sehat', 'pincang', 'konspirator', 'malam', 'am', 'subuh', 'rak', 'mewah', 'rusak', 'bentuk', 'seram', 'manis', 'sibuk', 'apa', 'sempat', 'diri', 'ibadah', 'sesuai', 'yakin', 'kikir', 'mari', 'ringan', 'kerja', 'jokowi', 'pro', 'berani', 'selaras', 'kencang', 'kisi', 'guling', 'luap', 'serbu', 'gerutu', 'kurang', 'umum', 'ketidakpedulian', 'serampang', 'lacur', 'picik', 'keluh', 'tindak', 'alat', 'main', 'jijik', 'ketidakmurnian', 'penyalahgunaan', 'konfirmasi', 'belakang', 'min', 'sia', 'potensi', 'anak', 'bangsa', 'pliiisss', 'kontraproduktif', 'pecah', 'dpw', 'pb', 'lbmn', 'supian', 'susanto', 'usut', 'walikota', 'lutfi', 'duga', 'otak', 'atur', 'proyek', 'jerawat', 'geliat', 'geliut', 'undur', 'cengang', 'lebih', 'gelora', 'musnah', 'kafir', 'cakap', 'mati', 'kompong', 'mungkir', 'kompak', 'pada', 'karya', 'manja', 'ering', 'jujur', 'tolong', 'milik', 'akun', 'rela', 'bui', 'penggal', 'leher', 'kh', 'muwafiq', 'non', 'keras', 'misinformasi', 'kandang', 'ganggu', 'wes', 'kampanye', 'bawa', 'agama', 'pakek', 'acara', 'reoni', 'sableng', 'serendah', 'it', 'perangkap', 'marah', 'disalahgunakan', 'senang', 'retorik', 'ambivalen', 'mulia', 'patah', 'lagu', 'kritik', 'ultra', 'garis', 'penting', 'hilang', 'cawapres', 'kualitas', 'kenal', 'bajar', 'kalo', 'knp', 'dubes', 'saing', 'aspirasi', 'ib', 'kete', 'iban', 'muas', 'ejek', 'batal', 'bawah', 'fanatisme', 'rangsang', 'super', 'dencus', 'mana', 'renung', 'ambigu', 'usak', 'bengah', 'emis', 'revolusioner', 'bangkang', 'cukup', 'berkat', 'baik', 'terimakasih', 'salam', 'motivasi', 'gaya', 'baru', 'selai', 'punggung', 'jempol', 'retak', 'intuitif', 'seret', 'remeh', 'temeh', 'menyalahgunakan', 'lembek', 'buruk', 'kecil', 'tusuk', 'haru', 'permai', 'gesa', 'terobos', 'iluminati', 'hak', 'negara', 'kibar', 'bendera', 'merah', 'plus', 'ken', 'lepas', 'makar', 'cenderung', 'jatuh', 'habib', 'mahdi', 'saksi', 'undang', 'bahar', 'ceramah', 'surat', 'titip', 'warung', 'rumah', 'geram', 'kue', 'panas', 'berat', 'caci', 'bandot', 'makan', 'sisih', 'untung', 'bocor', 'seringai', 'luluh', 'gerombol', 'suka', 'bikin', 'onar', 'apokaliptik', 'kalah', 'ruwet', 'bantai', 'terorisme', 'jengkel', 'bantah', 'kuat', 'miris', 'berangkat', 'personel', 'satbrimob', 'polda', 'jatim', 'bko', 'ops', 'amole', 'iii', 'kebiri', 'aneh', 'siuman', 'team', 'maling', 'kembali', 'les', 'anti', 'proliferasi', 'sindir', 'kata', 'cebong', 'aksi', 'hoaxnya', 'menfitnah', 'tanggap', 'janggal', 'sihir', 'intim', 'hibur', 'tandus', 'bunuh', 'gerenyet', 'bengkak', 'aktif', 'khianat', 'sopan', 'sara', 'genderuwo', 'senyum', 'pancing', 'tenggelam', 'caleg', 'cambuk', 'ampun', 'kotor', 'bongkar', 'ria', 'lalai', 'pulih', 'gerigi', 'buram', 'tumpas', 'terang', 'obat', 'bius', 'kompatibel', 'remang', 'kekang', 'hantu', 'uye', 'cari', 'prestasi', 'ham', 'zaman', 'larang', 'azazi', 'uu', 'tutup', 'tara', 'pemuda', 'milenial', 'wujud', 'pileg', 'pilpres', 'aman', 'sejuk', 'pisah', 'kelas', 'ubuh', 'dedengkot', 'hti', 'siksa', 'cuci', 'delusi', 'gerogot', 'divisi', 'humas', 'bese', 'staf', 'bhayangkari', 'ketua', 'haluan', 'kiri', 'burit', 'nekat', 'geming', 'muka', 'pedas', 'rambu', 'lintas', 'yaa', 'sobat', 'kadaluarsa', 'kecewa', 'tentu', 'pak', 'pasrah', 'lampau', 'tabah', 'coba', 'hub', 'barangkali', 'butuh', 'sewa', 'ngadepin', 'odoks', 'sesat', 'ribet', 'sub', 'malu', 'puji', 'lurus', 'hemat', 'rencana', 'alhamdulillah', 'tpi', 'kayak', 'pesimis', 'responnya', 'aparat', 'xf', 'tumbang', 'tuju', 'jauh', 'tekan', 'benjol', 'desak', 'piala', 'blunder', 'mudah', 'iman', 'berita', 'buat', 'pakai', 'ilmu', 'statistika', 'terap', 'dikit', 'napeh', 'bejibun', 'compang', 'camping', 'sembunyi', 'agresi', 'tampan', 'alergi', 'rintik', 'perdana', 'menteri', 'hrs', 'represif', 'riang', 'revitalisasi', 'acak', 'bayar', 'capai', 'realistis', 'lucu', 'alas', 'modis', 'serius', 'balik', 'pesona', 'tajam', 'heran', 'bantu', 'masyarakat', 'promoter', 'ht', 'nyiakan', 'dungu', 'permata', 'jelaga', 'nista', 'bubar', 'in', 'aji', 'perkusi', 'tuduh', 'ekstrem', 'mafia', 'idola', 'darah', 'gugah', 'sungguh', 'mohon', 'yaaa', 'dan', 'saran', 'mundur', 'tugas', 'basmi', 'fokus', 'dit', 'getah', 'ketidaksabaran', 'tawar', 'alarm', 'good', 'job', 'skeptis', 'tau', 'loh', 'pegawai', 'ojk', 'nyambi', 'tagih', 'hutang', 'xad', 'kilat', 'keroncong', 'kecoh', 'ulung', 'sendiri', 'hormat', 'reformasi', 'erosi', 'tindas', 'hapus', 'krisis', 'curiga', 'pintar', 'tabu', 'pahit', 'produktif', 'warna', 'warni', 'ih', 'ketidaksamaan', 'sarkasme', 'kecam', 'fundamentalis', 'otokrat', 'absurd', 'agung', 'bengkok', 'telanjang', 'otokratis', 'kena', 'suap', 'derak', 'sali', 'pesimistis', 'sedia', 'munafik', 'pasar', 'teknologi', 'sektor', 'ani', 'macet', 'lunak', 'cemburu', 'rampas', 'gores', 'simpan', 'ogah', 'om', 'anyaan', 'denisiregar', 'sesak', 'pura', 'komplementer', 'sukacita', 'maaf', 'prihatin', 'cuman', 'ko', 'nambahinya', 'gelisah', 'ilusi', 'bimbang', 'sahabat', 'reda', 'peduli', 'sinisme', 'multi', 'polarisasi', 'deteksi', 'nama', 'sisca', 'rumondor', 'suami', 'alex', 'muslim', 'nyaru', 'jilbab', 'ex', 'sma', 'jkt', 'angk', 'fikom', 'unpad', 'kapolri', 'jenderal', 'prof', 'muhammad', 'karnavian', 'ph', 'pamer', 'mobil', 'dana', 'harga', 'mahal', 'up', 'juang', 'tirani', 'kilau', 'mujarab', 'lancar', 'saudara', 'teguh', 'ramah', 'kontaminasi', 'susah', 'reputasi', 'jadah', 'insensitively', 'rusa', 'fobia', 'deklamasi', 'tinju', 'jamin', 'teroris', 'beneran', 'maksud', 'kkb', 'kriminal', 'senjata', 'kutuk', 'kes', 'me', 'pribadi', 'phk', 'kupas', 'lapang', 'larut', 'lengket', 'prabowo', 'hebat', 'diskriminasi', 'thd', 'umat', 'islam', 'eksplosif', 'susul', 'teliti', 'puncak', 'ledak', 'kontensius', 'segan', 'debat', 'dehumanisasi', 'tentang', 'klasik', 'rambut', 'rontok', 'kering', 'silau', 'jeruk', 'nipis', 'angkuh', 'sirep', 'korban', 'lio', 'air', 'jt', 'identifikasi', 'identitas', 'lion', 'pimpin', 'bentrok', 'kali', 'tegak', 'hu', 'dilema', 'gila', 'tunduk', 'kanan', 'cjiwa', 'raga', 'hut', 'polairud', 'tingkat', 'semangat', 'usung', 'tema', 'cdengan', 'jahat', 'hidung', 'belang', 'hambat', 'lemak', 'takjub', 'ketidakbijaksanaan', 'daya', 'silet', 'degenerasi', 'egomania', 'sengaja', 'beban', 'putus', 'megah', 'bukti', 'skandal', 'suci', 'bara', 'anjur', 'selokan', 'tunda', 'sangka', 'kawan', 'mapolres', 'banjir', 'karang', 'bunga', 'bayang', 'gk', 'ketidakefektifan', 'waduh', 'keduluan', 'iphone', 'lecet', 'unik', 'calo', 'suram', 'taat', 'kelupas', 'sim', 'keliling', 'bagus', 'nggak', 'sirine', 'jl', 'daan', 'mogo', 'jangkau', 'peka', 'ketidakjujuran', 'konsisten', 'ketidakcocokan', 'simpang', 'rekomendasi', 'terik', 'akhlak', 'keri', 'rajalela', 'susup', 'ketidakefisienan', 'sensasi', 'gasang', 'goda', 'denyut', 'gua', 'lawan', 'keputusasaan', 'muslihat', 'alergik', 'cik', 'demo', 'jilid', 'ceroboh', 'ngitungnya', 'pas', 'ba', 'da', 'ashar', 'jm', 'bual', 'korosi', 'curi', 'kutu', 'angriness', 'labu', 'hasut', 'endap', 'definisi', 'batu', 'kabur', 'deadline', 'lantik', 'letnan', 'andika', 'perkasa', 'angkat', 'darat', 'hang', 'ele', 'tele', 'responsif', 'jarah', 'dongkol', 'bolos', 'erima', 'maha', 'ingkar', 'korosif', 'busuk', 'resah', 'impoten', 'bengkeng', 'longo', 'hitung', 'tambah', 'bandel', 'jadi', 'mba', 'asyik', 'empa', 'uap', 'noda', 'takdir', 'selisih', 'jelu', 'ketidakmampuan', 'khayal', 'frustrasi', 'turun', 'bakar', 'demoralisasi', 'injak', 'statis', 'dasar', 'ketu', 'ah', 'sih', 'angan', 'banting', 'usir', 'trendi', 'sapa', 'candu', 'belaka', 'eksploitasi', 'jd', 'is', 'prodeo', 'lengking', 'imperialis', 'nyaman', 'miring', 'pasien', 'sanding', 'otoriter', 'sejajar', 'urus', 'tenar', 'ketidakstabilan', 'cela', 'pukul', 'patuh', 'igau', 'biadab', 'wajah', 'presiden', 'ri', 'jari', 'susun', 'sepele', 'ilegal', 'kemaren', 'juta', 'puluh', 'mikat', 'hasil', 'kagum', 'kiamat', 'heboh', 'melarat', 'isolasi', 'lembut', 'pahlawan', 'halang', 'nyengir', 'diktatoris', 'gagap', 'dogmatis', 'serah', 'inspirasional', 'putar', 'kejut', 'omong', 'kosong', 'pecat', 'terjun', 'kerubin', 'fatal', 'makmur', 'dukun', 'linglung', 'sesal', 'retas', 'cemas', 'enak', 'paradoksal', 'punah', 'cocok', 'reaksioner', 'sengat', 'padu', 'kompeten', 'tangan', 'ku', 'segar', 'pelit', 'ketidaktelitian', 'duka', 'iritasi', 'peras', 'khilaf', 'peluk', 'benar', 'jenius', 'ironis', 'kerepot', 'biasa', 'primitif', 'tulus', 'downgrade', 'boikot', 'dr', 'asih', 'abai', 'indah', 'paradoks', 'informasi', 'xba', 'xef', 'xb', 'netizen', 'sarin', 'kondusif', 'kuno', 'beda', 'bkn', 'selesai', 'tahu', 'telinga', 'variasi', 'anarkisme', 'sumbang', 'pidana', 'buas', 'kaum', 'kemenyan', 'kebanyakn', 'mitos', 'mampat', 'bom', 'irish', 'australia', 'minum', 'rockstars', 'drastis', 'barelang', 'batam', 'alhamdull', 'limbung', 'riuh', 'pawai', 'cemar', 'lenyap', 'konyol', 'asing', 'cengeng', 'patriotik', 'meleset', 'dengki', 'anugrah', 'beranta', 'masalah', 'sentak', 'tukang', 'jual', 'untk', 'atas', 'wilayah', 'tolak', 'metode', 'teknik', 'logis', 'amputasi', 'bera', 'oleh', 'selang', 'suara', 'teror', 'opm', 'tuntas', 'jaring', 'seling', 'samar', 'seoran', 'typo', 'isan', 'tahan', 'lanjut', 'efek', 'jera', 'maap', 'gugat', 'sempit', 'kain', 'kafan', 'rapi', 'mabuk', 'tetes', 'konspirasi', 'cantik', 'tantang', 'jompo', 'siput', 'tdnya', 'bw', 'ranah', 'politik', 'tp', 'gasak', 'hujat', 'sepakat', 'intai', 'optimis', 'adaptif', 'gejala', 'derita', 'susut', 'lapar', 'obrol', 'unjuk', 'kesal', 'pantas', 'jendral', 'forcasting', 'de', 'licik', 'mantap', 'awas', 'puitis', 'konfrontasi', 'yihaa', 'lumpur', 'lanjutin', 'porstitusi', 'kontribusi', 'jengah', 'nyonya', 'sadap', 'kaget', 'janji', 'adu', 'oceh', 'intelijen', 'personal', 'rasa', 'asa', 'geli', 'cerdas', 'kyk', 'junjung', 'nenek', 'tong', 'negatif', 'adil', 'gelap', 'baur', 'kesalahpahaman', 'silah', 'duduk', 'limpah', 'matang', 'bukit', 'parang', 'endong', 'wisata', 'jogja', 'suguh', 'sunset', 'lokasi', 'belah', 'murung', 'kesah', 'agresor', 'disproporsional', 'akal', 'barbuk', 'selingkuh', 'kian', 'haji', 'syams', 'lier', 'kasar', 'literasi', 'generasi', 'bodoh', 'praktis', 'menit', 'trus', 'ente', 'diskus', 'campur', 'usil', 'colok', 'pengaruh', 'tolol', 'antipati', 'balas', 'raya', 'anarki', 'tengkar', 'andingi', 'buka', 'malang', 'golak', 'propaganda', 'jawa', 'selubung', 'twitter', 'please', 'do', 'your', 'magic', 'motor', 'bapak', 'temen', 'lamar', 'usaha', 'tinggi', 'macan', 'aja', 'ajak', 'negosiasi', 'hadeeh', 'ahli', 'taurat', 'imam', 'farisi', 'sel', 'tamah', 'ketidakcakapan', 'ugal', 'ugalan', 'tegang', 'diskriminatif', 'perkosa', 'sindroma', 'sembrono', 'saji', 'rb', 'gyu', 'pk', 'timbul', 'rebut', 'overakting', 'paria', 'sera', 'jiwa', 'sangsi', 'salur', 'ntah', 'bib', 'ucapn', 'posting', 'group', 'oposisi', 'td', 'inbox', 'wanita', 'apek', 'melodramatis', 'kuasa', 'dapat', 'egosentris', 'konstruktif', 'embara', 'murid', 'sekolah', 'naung', 'sugik', 'nur', 'banser', 'rezim', 'berhian', 'komndan', 'bukn', 'tanyakn', 'tahi', 'daging', 'kesan', 'egois', 'koheren', 'bersebrangan', 'si', 'ade', 'armando', 'sisi', 'guna', 'ngawur', 'derajat', 'teman', 'muntah', 'lesu', 'letak', 'off', 'kere', 'efisien', 'utuh', 'alonk', 'nya', 'ling', 'hihihi', 'omel', 'serong', 'remaja', 'tsb', 'perang', 'astaga', 'tauhid', 'dunia', 'leceh', 'murka', 'gendut', 'goyang', 'fragmentasi', 'gosip', 'konflik', 'ukur', 'dpr', 'akar', 'ragu', 'luah', 'beri', 'cubit', 'tabir', 'asap', 'israel', 'sambut', 'unggul', 'kerangka', 'kuning', 'kendara', 'wiwiwiiiwii', 'diem', 'bae', 'tuh', 'anggung', 'helm', 'cacing', 'masuk', 'kawasan', 'hutan', 'lindung', 'wna', 'nambang', 'era', 'stnk', 'sikap', 'edan', 'lha', 'iya', 'kapolsek', 'sebutin', 'daerah', 'ti', 'intimidasi', 'spektakuler', 'lantar', 'buntu', 'pukau', 'ngobrol', 'repet', 'libat', 'moralitas', 'aniaya', 'alam', 'letus', 'syarat', 'labuh', 'banding', 'favorit', 'dancok', 'gusar', 'penalti', 'akurat', 'gegas', 'antagonisme', 'karat', 'kepayang', 'sama', 'lekuk', 'protes', 'garut', 'kesima', 'provokasi', 'acuh', 'kurus', 'kolot', 'ketidakpercayaan', 'ganjil', 'misteri', 'pilot', 'cap', 'limbah', 'musuh', 'jelas', 'cabut', 'surga', 'nasib', 'anarkis', 'salip', 'tilang', 'denda', 'rp', 'panjang', 'sebal', 'cemooh', 'optimal', 'paham', 'kambuh', 'pikir', 'kompetitif', 'tepuk', 'sorak', 'andal', 'sukar', 'puas', 'tegur', 'babi', 'bid', 'konsesi', 'po', 'abel', 'kira', 'pedih', 'legendaris', 'kapolres', 'jaya', 'serang', 'anggota', 'tingginambut', 'ngeles', 'skrg', 'inggi', 'top', 'umpat', 'pikun', 'komplot', 'peot', 'labil', 'cekcok', 'nakal', 'ekstrimis', 'interupsi', 'sombong', 'istirahat', 'langka', 'habis', 'ultimatum', 'astaghfirlloh', 'manipulatif', 'rasisme', 'kadung', 'kios', 'singkat', 'sarkastik', 'iri', 'megat', 'sigap', 'shamelessness', 'umpahan', 'inferioritas', 'kendali', 'kenang', 'kejam', 'bising', 'lumpuh', 'fiksi', 'inkonsistensi', 'debu', 'gugur', 'tabrak', 'sandera', 'berang', 'simpatisan', 'gelombang', 'konspiratif', 'mubazir', 'ganas', 'depan', 'obsesi', 'kontes', 'celah', 'kental', 'licin', 'penjara', 'gerak', 'tunggul', 'rupiah', 'biaya', 'halau', 'merosot', 'inkompeten', 'ayam', 'proses', 'selektif', 'ruam', 'aku', 'resmi', 'tonjol', 'inggal', 'wajib', 'inkonstitusionil', 'ampas', 'sensasional', 'tokoh', 'kikuk', 'canggung', 'dendam', 'histeria', 'murni', 'dipe', 'anyak', 'ajaib', 'ramai', 'mapan', 'cundang', 'hadiah', 'keranjingan', 'anggap', 'fanatik', 'subsidi', 'dominasi', 'manjur', 'rata', 'kolusi', 'mengge', 'ak', 'riah', 'booomm', 'cuit', 'empuran', 'muji', 'gaib', 'runtuh', 'relevan', 'binasa', 'solok', 'genit', 'budak', 'siang', 'cerca', 'maju', 'patriot', 'didik', 'tanah', 'cpolisi', 'pi', 'satgas', 'binmas', 'noken', 'timika', 'gereja', 'populer', 'lincah', 'khusus', 'pedar', 'sampe', 'share', 'detail', 'oknum', 'moga', 'lacak', 'montok', 'puja', 'rokok', 'sblum', 'repot', 'giat', 'bujuk', 'cerdik', 'lamun', 'lapak', 'sepi', 'wkwkwk', 'bengis', 'pese', 'akbar', 'personil', 'kusut', 'sinis', 'semit', 'kaca', 'ketidakcukupan', 'longgar', 'rusuh', 'pasti', 'pilah', 'asu', 'egaliter', 'tunggu', 'kompleks', 'jerit', 'diskredit', 'sergap', 'gencar', 'timpang', 'ibkan', 'asam', 'masam', 'whooa', 'ketidaklogisan', 'komunikasi', 'rumor', 'dewasa', 'umpan', 'senin', 'mangkir', 'sebaikn', 'lapis', 'gula', 'napas', 'yay', 'represi', 'efektif', 'mawas', 'lelucon', 'hiruk', 'pikuk', 'wastafel', 'kacau', 'polemik', 'patung', 'sanjung', 'banci', 'astaghfirullah', 'nalar', 'normal', 'konotasi', 'polituk', 'cerah', 'histeris', 'lapuk', 'suar', 'monyet', 'baju', 'bes', 'komentar', 'respon', 'manfaat', 'fasisme', 'impulsif', 'waspada', 'tualang', 'keputusasan', 'mungil', 'ahhhh', 'apar', 'tikung', 'tenaga', 'ketidaktulusan', 'ketidaksopanan', 'emu', 'friksi', 'tampar', 'kejar', 'setan', 'terjang', 'halus', 'pemutarbalikan', 'katastropi', 'mandek', 'jancuk', 'carut', 'marut', 'iyaa', 'mustahil', 'ronta', 'ketidakseimbangan', 'lengah', 'sumbat', 'rongsok', 'stagnasi', 'gemuk', 'ini', 'udah', 'eh', 'hmmm', 'kalau', 'amp', 'hakekatnya', 'robek', 'ban', 'tangki', 'sedak', 'tumpul', 'antisosial', 'optimisme', 'kerdil', 'risiko', 'rujuk', 'curang', 'lekir', 'siar', 'pers', 'pati', 'paslon', 'najis', 'sulit', 'volatil', 'jelatang', 'loyalitas', 'saleh', 'kontroversial', 'landas', 'neraka', 'siram', 'padat', 'durja', 'kucing', 'bangkrut', 'panorama', 'disalahpahami', 'parno', 'bisa', 'sembarang', 'boneka', 'man', 'besut', 'usia', 'tua', 'lucut', 'pelihara', 'gambar', 'inflamasi', 'silaturahmi', 'pintu', 'rezeki', 'taji', 'rumit', 'segera', 'jgn', 'toleransi', 'tuk', 'disintegrasi', 'lezat', 'terompet', 'berahi', 'kudung', 'imbang', 'gelepar', 'mhn', 'ank', 'prgi', 'tdk', 'dketahau', 'olh', 'dlm', 'chat', 'fb', 'dangkal', 'kontradiktif', 'gadungan', 'goyah', 'agenda', 'nasional', 'bela', 'bahagia', 'ayuk', 'orak', 'ketidakteraturan', 'emang', 'diskusi', 'kapolseknya', 'bang', 'mimpi', 'proaktif', 'kekurangpekaan', 'eriak', 'mubahalah', 'luas', 'indonesia', 'buzzer', 'pol', 'lengkap', 'sensasionil', 'sembur', 'apatis', 'kontroversi', 'botak', 'adab', 'hedonistik', 'steal', 'lepuh', 'gugup', 'intrik', 'mu', 'anam', 'doa', 'berantas', 'kksb', 'seg', 'kantong', 'provokatif', 'obsesif', 'lambang', 'seharusny', 'tebus', 'jelang', 'mod', 'kukuh', 'belas', 'kasihan', 'langgan', 'imut', 'bau', 'pajak', 'tahun', 'wenang', 'sita', 'xac', 'kekuatiran', 'gerah', 'infeksi', 'tanam', 'buar', 'teladan', 'pergola', 'depresi', 'bombardir', 'sandung', 'stabil', 'jerat', 'menang', 'senandung', 'tohok', 'celaka', 'hindar', 'turut', 'pilih', 'bobol', 'awan', 'duri', 'gemar', 'rang', 'kaku', 'punk', 'dimenge', 'ketidakbahagiaan', 'sengketa', 'perkara', 'tragedi', 'agih', 'cekung', 'paranoia', 'oyak', 'keriput', 'pisau', 'agresif', 'gurun', 'singgung', 'juara', 'sambil', 'indoktrinasi', 'ketidaksenangan', 'kontradiksi', 'akibat', 'islami', 'kualat', 'lidah', 'mencong', 'hulaihu', 'kejang', 'gempar', 'terampil', 'boros', 'klik', 'knalpot', 'maki', 'hegemoni', 'kecut', 'demam', 'curam', 'apati', 'kontinuitas', 'trauma', 'coreng', 'tubuh', 'dur', 'cedera', 'ulet', 'romantis', 'pantesan', 'gue', 'kagak', 'sinyal', 'korup', 'gigit', 'stabilitas', 'mencampuradukkan', 'pingsan', 'ketidakjelasan', 'bubuh', 'kisah', 'live', 'repo', 'kondisi', 'sabotase', 'belit', 'ilham', 'ciut', 'was', 'dalih', 'ketat', 'dengung', 'luwes', 'bin', 'smith', 'maserati', 'mercedes', 'class', 'pkai', 'plat', 'keduan', 'bias', 'kendur', 'spo', 'lebam', 'pesimisme', 'zalim', 'merana', 'elak', 'olok', 'nyebutnya', 'betina', 'ekonomis', 'terjal', 'pucat', 'tai', 'kanibal', 'gagal', 'dusta', 'ketidaksempurnaan', 'saraf', 'huruf', 'minyak', 'inovatif', 'perfidity', 'ngambek', 'menyelesasikan', 'lari', 'mi', 'nike', 'gps', 'realisasi', 'irasional', 'dumping', 'anyar', 'stres', 'etis', 'inspirasi', 'betul', 'sisa', 'sial', 'bro', 'gentar', 'distorsi', 'kreatif', 'naif', 'gigil', 'retoris', 'langsung', 'hidup', 'sangkal', 'gesek', 'ngomel', 'komitmen', 'jemu', 'moral', 'khawatir', 'innalillahi', 'wainna', 'ilaihi', 'radjiun', 'membetantas', 'jawab', 'rohani', 'eksploitatif', 'restrukturisasi', 'lampias', 'radikalisasi', 'intip', 'degradasi', 'sa', 'bangga', 'ahankan', 'bangkit', 'info', 'pabrik', 'jepara', 'kemarin', 'beg', 'bhakti', 'kampung', 'arab', 'manado', 'sobek', 'tegar', 'kanker', 'asem', 'kritis', 'ringkas', 'inya', 'mencla', 'mencle', 'genang', 'timpa', 'duniawi', 'egoisme', 'koperasi', 'ketidaksenonohan', 'instrumental', 'keping', 'terorirs', 'subhanallah', 'lendir', 'intrusi', 'lembab', 'mode', 'kereta', 'vulgar', 'rancang', 'umbuhan', 'ketidaksetaraan', 'serakah', 'kooperatif', 'dominan', 'sangkut', 'catat', 'mampus', 'sampa', 'liris', 'genosida', 'neurotik', 'mamberikan', 'edukasi', 'picketed', 'kepung', 'subur', 'supremasi', 'inkompetensi', 'sembuh', 'pagar', 'detak', 'tuli', 'model', 'ce', 'muak', 'substantif', 'gesper', 'resesi', 'darurat', 'istimewa', 'kota', 'menghimbau', 'rukun', 'salut', 'parah', 'kepalang', 'bahu', 'sengsara', 'ekstremis', 'takluk', 'kontras', 'nasihat', 'swasembada', 'polusi', 'dwimakna', 'rokstar', 'khayali', 'dakwa', 'ular', 'payudara', 'tebal', 'terinfestasi', 'tawan', 'ama', 'rayap', 'integral', 'tampil', 'whooooa', 'visioner', 'surgawi', 'panik', 'wabah', 'nyinyir', 'saru', 'manipulasi', 'kucam', 'rasional', 'indak', 'inti', 'no', 'melayu', 'suam', 'tanda', 'bunyi', 'indon', 'sumpah', 'pelan', 'dusun', 'amat', 'sundal', 'mata', 'picek', 'ngga', 'liat', 'km', 'sempurna', 'bijaksana', 'giling', 'periksa', 'perawan', 'komisi'])"
            ]
          },
          "execution_count": 52,
          "metadata": {},
          "output_type": "execute_result"
        }
      ],
      "source": [
        "Vectorize.vocabulary_.keys()"
      ]
    },
    {
      "cell_type": "code",
      "execution_count": null,
      "metadata": {
        "colab": {
          "base_uri": "https://localhost:8080/",
          "height": 35
        },
        "id": "0ciyB8o6OkAs",
        "outputId": "f7016355-402f-4089-b689-ca9dd365b438"
      },
      "outputs": [
        {
          "data": {
            "application/vnd.google.colaboratory.intrinsic+json": {
              "type": "string"
            },
            "text/plain": [
              "'memar'"
            ]
          },
          "execution_count": 53,
          "metadata": {},
          "output_type": "execute_result"
        }
      ],
      "source": [
        "Vectorize.get_feature_names_out()[1326]"
      ]
    },
    {
      "cell_type": "code",
      "execution_count": null,
      "metadata": {
        "colab": {
          "base_uri": "https://localhost:8080/"
        },
        "id": "WB8F-Ag-w0nQ",
        "outputId": "96f42aeb-9a46-41df-ffff-203de1742303"
      },
      "outputs": [
        {
          "data": {
            "text/plain": [
              "<2781x2337 sparse matrix of type '<class 'numpy.float64'>'\n",
              "\twith 5599 stored elements in Compressed Sparse Row format>"
            ]
          },
          "execution_count": 54,
          "metadata": {},
          "output_type": "execute_result"
        }
      ],
      "source": [
        "Transformer = TfidfTransformer()\n",
        "\n",
        "X_train_tfidf = Transformer.fit_transform(X_train_vec)\n",
        "X_test_tfidf = Transformer.transform(X_test_vec)\n",
        "\n",
        "X_train_tfidf"
      ]
    },
    {
      "cell_type": "code",
      "execution_count": null,
      "metadata": {
        "colab": {
          "base_uri": "https://localhost:8080/"
        },
        "id": "yYL08iycyLtB",
        "outputId": "e3330b82-c6ad-492c-d64c-5a57e2bcf161"
      },
      "outputs": [
        {
          "name": "stdout",
          "output_type": "stream",
          "text": [
            "  (0, 2323)\t0.1722715094291341\n",
            "  (0, 2318)\t0.17206980281540352\n",
            "  (0, 2191)\t0.3607237742431507\n",
            "  (0, 2165)\t0.3607237742431507\n",
            "  (0, 1827)\t0.34618793569237843\n",
            "  (0, 1795)\t0.3607237742431507\n",
            "  (0, 1719)\t0.3402366604678577\n",
            "  (0, 1243)\t0.3699360156987826\n",
            "  (0, 693)\t0.28111595587729016\n",
            "  (0, 444)\t0.31442594959742437\n",
            "  (1, 1253)\t0.7071067811865475\n",
            "  (1, 1)\t0.7071067811865475\n",
            "  (2, 1936)\t0.6584071722849192\n",
            "  (2, 1272)\t0.7526619397071815\n",
            "  (3, 1406)\t0.665873969180043\n",
            "  (3, 158)\t0.7460642446655751\n",
            "  (4, 1326)\t1.0\n",
            "  (5, 2332)\t0.14292361367605502\n",
            "  (5, 2323)\t0.0933985014997463\n",
            "  (5, 2318)\t0.09328914449969763\n",
            "  (5, 2280)\t0.20667680810538533\n",
            "  (5, 2210)\t0.21455753976660558\n",
            "  (5, 2209)\t0.21455753976660558\n",
            "  (5, 2067)\t0.20056403773060377\n",
            "  (5, 1877)\t0.20667680810538533\n",
            "  :\t:\n",
            "  (2772, 1634)\t0.30354156790863146\n",
            "  (2772, 1582)\t0.30354156790863146\n",
            "  (2772, 1355)\t0.30354156790863146\n",
            "  (2772, 1300)\t0.29832342127075434\n",
            "  (2772, 700)\t0.2728330400664316\n",
            "  (2772, 396)\t0.2894330992561211\n",
            "  (2772, 92)\t0.2728330400664316\n",
            "  (2772, 59)\t0.29365563004359657\n",
            "  (2773, 1998)\t0.7582851452938267\n",
            "  (2773, 313)\t0.6519230310602011\n",
            "  (2774, 736)\t1.0\n",
            "  (2775, 2119)\t1.0\n",
            "  (2776, 2323)\t0.7075208654420251\n",
            "  (2776, 2318)\t0.7066924542997245\n",
            "  (2777, 1908)\t1.0\n",
            "  (2778, 6)\t1.0\n",
            "  (2779, 2193)\t0.3197484635361883\n",
            "  (2779, 2180)\t0.3320041555826598\n",
            "  (2779, 1663)\t0.2761734247201807\n",
            "  (2779, 1544)\t0.33684775423160707\n",
            "  (2779, 1059)\t0.41863829658746804\n",
            "  (2779, 982)\t0.3422021041272882\n",
            "  (2779, 436)\t0.39803283498976727\n",
            "  (2779, 168)\t0.3834130273226898\n",
            "  (2780, 331)\t1.0\n"
          ]
        }
      ],
      "source": [
        "print(X_train_tfidf)"
      ]
    },
    {
      "cell_type": "markdown",
      "metadata": {
        "id": "Buec2ZOkyq6a"
      },
      "source": [
        "## Embedding Layer in Deep Learning with Tensorflow"
      ]
    },
    {
      "cell_type": "code",
      "execution_count": null,
      "metadata": {
        "id": "3Ttg_iz6zKtX"
      },
      "outputs": [],
      "source": [
        "import tensorflow as tf\n",
        "from tensorflow.keras.layers import TextVectorization, Embedding"
      ]
    },
    {
      "cell_type": "code",
      "execution_count": null,
      "metadata": {
        "colab": {
          "base_uri": "https://localhost:8080/"
        },
        "id": "rxkZmU2Qz67x",
        "outputId": "bc3d8109-1296-4b0c-f221-4257cfe9e1bc"
      },
      "outputs": [
        {
          "name": "stdout",
          "output_type": "stream",
          "text": [
            "Jumlah vocab: 2337\n",
            "Panjang maksimum kalimat: 33 kata\n"
          ]
        }
      ],
      "source": [
        "jml_vocab = len(Vectorize.vocabulary_.keys())\n",
        "max_sen_len = max([len(i.split(\" \")) for i in X_train])\n",
        "\n",
        "print(\"Jumlah vocab:\",jml_vocab)\n",
        "print(\"Panjang maksimum kalimat:\",max_sen_len,\"kata\")"
      ]
    },
    {
      "cell_type": "code",
      "execution_count": null,
      "metadata": {
        "id": "JVAVi5eo1z-6"
      },
      "outputs": [],
      "source": [
        "text_vectorization = TextVectorization(max_tokens=jml_vocab,\n",
        "                                       standardize=\"lower_and_strip_punctuation\",\n",
        "                                       split=\"whitespace\",\n",
        "                                       ngrams=None,\n",
        "                                       output_mode=\"int\",\n",
        "                                       output_sequence_length=max_sen_len,\n",
        "                                       input_shape=(1,) # jika ingin menggunakan sequential API\n",
        "                                       )\n",
        "\n",
        "text_vectorization.adapt(X_train) #adapt seperti fit"
      ]
    },
    {
      "cell_type": "code",
      "execution_count": null,
      "metadata": {
        "colab": {
          "base_uri": "https://localhost:8080/",
          "height": 35
        },
        "id": "i6t6Mvc_2ei3",
        "outputId": "3980f5c6-a919-40b1-e6ff-559d20c13974"
      },
      "outputs": [
        {
          "data": {
            "application/vnd.google.colaboratory.intrinsic+json": {
              "type": "string"
            },
            "text/plain": [
              "'hai cici sayang memberitaukan cinta kunjung cepat fantasi berkendari mei'"
            ]
          },
          "execution_count": 59,
          "metadata": {},
          "output_type": "execute_result"
        }
      ],
      "source": [
        "data.text_processed[0]"
      ]
    },
    {
      "cell_type": "code",
      "execution_count": null,
      "metadata": {
        "colab": {
          "base_uri": "https://localhost:8080/"
        },
        "id": "W857cQo22mhh",
        "outputId": "6034bba8-2f7d-49c5-fc39-5c4dd94081d4"
      },
      "outputs": [
        {
          "data": {
            "text/plain": [
              "<tf.Tensor: shape=(1, 33), dtype=int64, numpy=\n",
              "array([[1971, 2165,   87, 1574,  520, 1679,   29, 2043, 2235, 1581,    0,\n",
              "           0,    0,    0,    0,    0,    0,    0,    0,    0,    0,    0,\n",
              "           0,    0,    0,    0,    0,    0,    0,    0,    0,    0,    0]])>"
            ]
          },
          "execution_count": 60,
          "metadata": {},
          "output_type": "execute_result"
        }
      ],
      "source": [
        "text_vectorization([data.text_processed[0]])"
      ]
    },
    {
      "cell_type": "code",
      "execution_count": null,
      "metadata": {
        "colab": {
          "base_uri": "https://localhost:8080/"
        },
        "id": "eeXoudt4c7OO",
        "outputId": "65f961f8-1607-4ef4-f3dd-47e8c410722f"
      },
      "outputs": [
        {
          "data": {
            "text/plain": [
              "<tf.Tensor: shape=(1, 33), dtype=int64, numpy=\n",
              "array([[  26,    1,    1, 1494,    1,    1,    0,    0,    0,    0,    0,\n",
              "           0,    0,    0,    0,    0,    0,    0,    0,    0,    0,    0,\n",
              "           0,    0,    0,    0,    0,    0,    0,    0,    0,    0,    0]])>"
            ]
          },
          "execution_count": 61,
          "metadata": {},
          "output_type": "execute_result"
        }
      ],
      "source": [
        "text_vectorization(['i love you no matter what'])"
      ]
    },
    {
      "cell_type": "code",
      "execution_count": null,
      "metadata": {
        "colab": {
          "base_uri": "https://localhost:8080/",
          "height": 35
        },
        "id": "qzeBc_Sv2yeF",
        "outputId": "00c3c3c2-1119-40b9-b03e-57f513b9947e"
      },
      "outputs": [
        {
          "data": {
            "application/vnd.google.colaboratory.intrinsic+json": {
              "type": "string"
            },
            "text/plain": [
              "'[UNK]'"
            ]
          },
          "execution_count": 62,
          "metadata": {},
          "output_type": "execute_result"
        }
      ],
      "source": [
        "text_vectorization.get_vocabulary()[1]"
      ]
    },
    {
      "cell_type": "code",
      "execution_count": null,
      "metadata": {
        "id": "ZQXjk9FU229o"
      },
      "outputs": [],
      "source": [
        "embedding = Embedding(input_dim=jml_vocab,\n",
        "                      output_dim=128,\n",
        "                      embeddings_initializer=\"uniform\",\n",
        "                      input_length=max_sen_len\n",
        "                      )"
      ]
    },
    {
      "cell_type": "code",
      "execution_count": null,
      "metadata": {
        "colab": {
          "base_uri": "https://localhost:8080/",
          "height": 35
        },
        "id": "pnYrl-RDq1Ly",
        "outputId": "85b62aae-c624-452e-c8de-69ec532512b3"
      },
      "outputs": [
        {
          "data": {
            "application/vnd.google.colaboratory.intrinsic+json": {
              "type": "string"
            },
            "text/plain": [
              "'hai cici sayang memberitaukan cinta kunjung cepat fantasi berkendari mei'"
            ]
          },
          "execution_count": 64,
          "metadata": {},
          "output_type": "execute_result"
        }
      ],
      "source": [
        "data.text_processed[0]"
      ]
    },
    {
      "cell_type": "code",
      "execution_count": null,
      "metadata": {
        "colab": {
          "base_uri": "https://localhost:8080/"
        },
        "id": "ONsLMPUhq5Zn",
        "outputId": "c37ed026-4ebf-46ab-9cc2-49dc1f713d6c"
      },
      "outputs": [
        {
          "data": {
            "text/plain": [
              "<tf.Tensor: shape=(1, 33), dtype=int64, numpy=\n",
              "array([[1971, 2165,   87, 1574,  520, 1679,   29, 2043, 2235, 1581,    0,\n",
              "           0,    0,    0,    0,    0,    0,    0,    0,    0,    0,    0,\n",
              "           0,    0,    0,    0,    0,    0,    0,    0,    0,    0,    0]])>"
            ]
          },
          "execution_count": 65,
          "metadata": {},
          "output_type": "execute_result"
        }
      ],
      "source": [
        "text_vectorization([data.text_processed[0]])"
      ]
    },
    {
      "cell_type": "code",
      "execution_count": null,
      "metadata": {
        "colab": {
          "base_uri": "https://localhost:8080/"
        },
        "id": "ZIgAe0pn3ARr",
        "outputId": "654342d6-29e7-4f5b-8590-b4fb5cbd7ca3"
      },
      "outputs": [
        {
          "data": {
            "text/plain": [
              "<tf.Tensor: shape=(1, 33, 128), dtype=float32, numpy=\n",
              "array([[[-0.01672595, -0.00189681, -0.02991526, ..., -0.03998153,\n",
              "         -0.00624397,  0.00326812],\n",
              "        [ 0.0348036 , -0.04415594, -0.02872524, ...,  0.02350538,\n",
              "          0.02987958, -0.01696335],\n",
              "        [-0.00126517, -0.00779136, -0.02428019, ...,  0.02608306,\n",
              "         -0.02722759,  0.01466446],\n",
              "        ...,\n",
              "        [-0.01664593, -0.04380894,  0.04143948, ..., -0.00993607,\n",
              "         -0.02395709, -0.04503101],\n",
              "        [-0.01664593, -0.04380894,  0.04143948, ..., -0.00993607,\n",
              "         -0.02395709, -0.04503101],\n",
              "        [-0.01664593, -0.04380894,  0.04143948, ..., -0.00993607,\n",
              "         -0.02395709, -0.04503101]]], dtype=float32)>"
            ]
          },
          "execution_count": 66,
          "metadata": {},
          "output_type": "execute_result"
        }
      ],
      "source": [
        "emb_res = embedding(text_vectorization([data.text_processed[0]]))\n",
        "emb_res"
      ]
    },
    {
      "cell_type": "code",
      "execution_count": null,
      "metadata": {
        "colab": {
          "base_uri": "https://localhost:8080/"
        },
        "id": "xKK3R_rbeamN",
        "outputId": "de5993d9-faec-48f5-c355-cae07468057e"
      },
      "outputs": [
        {
          "data": {
            "text/plain": [
              "<tf.Tensor: shape=(128,), dtype=float32, numpy=\n",
              "array([-0.01672595, -0.00189681, -0.02991526, -0.01923413,  0.00146195,\n",
              "        0.03118703, -0.04017546, -0.01733918, -0.01913751, -0.04662701,\n",
              "        0.02896674,  0.02932059,  0.0489308 , -0.00806852, -0.03297716,\n",
              "       -0.04132888, -0.01963257,  0.04784304, -0.04216186,  0.00427972,\n",
              "       -0.04919861, -0.04963357, -0.01084508,  0.01663199,  0.04692099,\n",
              "        0.02521223, -0.00881303,  0.04069403, -0.01495882,  0.04089076,\n",
              "        0.02702891,  0.03880658, -0.02466956,  0.01385557, -0.00416442,\n",
              "       -0.00438427,  0.01012237, -0.03791196,  0.04361929, -0.00411034,\n",
              "       -0.04327673,  0.04005693,  0.00851918, -0.04089205,  0.00945039,\n",
              "        0.03303755,  0.03169117,  0.01233489,  0.04107812,  0.00725484,\n",
              "       -0.00418253,  0.00340276,  0.01935387,  0.02688005, -0.03562368,\n",
              "        0.03543222, -0.03955223,  0.04543582, -0.01361078, -0.03439382,\n",
              "        0.02197199, -0.01580064, -0.01674648,  0.00919007, -0.04406532,\n",
              "       -0.02916191, -0.04515354,  0.02447775,  0.04992114,  0.02984066,\n",
              "        0.01339927, -0.04244492, -0.03038429,  0.0088523 ,  0.0383164 ,\n",
              "        0.04227474,  0.00575159, -0.00519141,  0.02762748, -0.00661083,\n",
              "       -0.00229134, -0.04640193,  0.01482352,  0.0490726 , -0.02263051,\n",
              "        0.04593304, -0.03219404,  0.00192931, -0.02130909, -0.00642554,\n",
              "       -0.02441411,  0.03269214,  0.01829148,  0.01231559,  0.02502343,\n",
              "       -0.0496016 ,  0.02458115,  0.01662619,  0.01318754,  0.02771192,\n",
              "       -0.04198942,  0.0051165 ,  0.04799919, -0.02674131,  0.04981471,\n",
              "        0.04220753,  0.04434158,  0.02241314, -0.01372766,  0.0024276 ,\n",
              "        0.01733891,  0.04174748,  0.02211443,  0.02460977,  0.0488099 ,\n",
              "       -0.01454515,  0.01258403, -0.01088017, -0.04346817,  0.00948136,\n",
              "       -0.01029704, -0.00130181, -0.02123491,  0.00030652, -0.02647488,\n",
              "       -0.03998153, -0.00624397,  0.00326812], dtype=float32)>"
            ]
          },
          "execution_count": 67,
          "metadata": {},
          "output_type": "execute_result"
        }
      ],
      "source": [
        "emb_res[0][0] #hai"
      ]
    },
    {
      "cell_type": "markdown",
      "metadata": {
        "id": "gA6U7y6aSX70"
      },
      "source": [
        "# Modeling"
      ]
    },
    {
      "cell_type": "markdown",
      "metadata": {
        "id": "OYSyPshI7t8_"
      },
      "source": [
        "## Traditional Machine Learning"
      ]
    },
    {
      "cell_type": "code",
      "execution_count": null,
      "metadata": {
        "colab": {
          "base_uri": "https://localhost:8080/"
        },
        "id": "Jvz1vH1s7xMu",
        "outputId": "22978f19-1cc1-4c94-d4cd-bc34f93c42dd"
      },
      "outputs": [
        {
          "name": "stdout",
          "output_type": "stream",
          "text": [
            "              precision    recall  f1-score   support\n",
            "\n",
            "           0       0.75      0.94      0.83       643\n",
            "           1       1.00      0.05      0.10        39\n",
            "           2       0.57      0.26      0.36       246\n",
            "\n",
            "    accuracy                           0.72       928\n",
            "   macro avg       0.77      0.42      0.43       928\n",
            "weighted avg       0.71      0.72      0.68       928\n",
            "\n"
          ]
        }
      ],
      "source": [
        "from sklearn.naive_bayes import MultinomialNB\n",
        "from sklearn.metrics import classification_report\n",
        "\n",
        "nb = MultinomialNB()\n",
        "nb.fit(X_train_tfidf, y_train)\n",
        "\n",
        "y_pred = nb.predict(X_test_tfidf)\n",
        "print(classification_report(y_test, y_pred))"
      ]
    },
    {
      "cell_type": "markdown",
      "metadata": {
        "id": "9S2sQSWv9f78"
      },
      "source": [
        "## Deep Learning - Fully Connected Layer"
      ]
    },
    {
      "cell_type": "code",
      "execution_count": null,
      "metadata": {
        "id": "X2F3UP8Q9kFm"
      },
      "outputs": [],
      "source": [
        "from tensorflow.keras.utils import to_categorical\n",
        "\n",
        "y_train_ohe = to_categorical(y_train)\n",
        "y_test_ohe = to_categorical(y_test)"
      ]
    },
    {
      "cell_type": "code",
      "execution_count": null,
      "metadata": {
        "colab": {
          "base_uri": "https://localhost:8080/"
        },
        "id": "7l2nYkmbi5FI",
        "outputId": "ad76a840-59af-4c6a-b919-22b69cd5d50a"
      },
      "outputs": [
        {
          "data": {
            "text/plain": [
              "array([[0., 0., 1.],\n",
              "       [0., 0., 1.],\n",
              "       [0., 0., 1.],\n",
              "       ...,\n",
              "       [1., 0., 0.],\n",
              "       [0., 0., 1.],\n",
              "       [0., 0., 1.]], dtype=float32)"
            ]
          },
          "execution_count": 70,
          "metadata": {},
          "output_type": "execute_result"
        }
      ],
      "source": [
        "y_train_ohe"
      ]
    },
    {
      "cell_type": "code",
      "execution_count": null,
      "metadata": {
        "colab": {
          "base_uri": "https://localhost:8080/",
          "height": 424
        },
        "id": "Z_txHruZi6fE",
        "outputId": "e40ddba0-81bb-4e4d-82b6-e437940e291a"
      },
      "outputs": [
        {
          "data": {
            "application/vnd.google.colaboratory.intrinsic+json": {
              "summary": "{\n  \"name\": \"pd\",\n  \"rows\": 2781,\n  \"fields\": [\n    {\n      \"column\": 0,\n      \"properties\": {\n        \"dtype\": \"boolean\",\n        \"num_unique_values\": 2,\n        \"samples\": [\n          true,\n          false\n        ],\n        \"semantic_type\": \"\",\n        \"description\": \"\"\n      }\n    },\n    {\n      \"column\": 1,\n      \"properties\": {\n        \"dtype\": \"boolean\",\n        \"num_unique_values\": 2,\n        \"samples\": [\n          true,\n          false\n        ],\n        \"semantic_type\": \"\",\n        \"description\": \"\"\n      }\n    },\n    {\n      \"column\": 2,\n      \"properties\": {\n        \"dtype\": \"boolean\",\n        \"num_unique_values\": 2,\n        \"samples\": [\n          false,\n          true\n        ],\n        \"semantic_type\": \"\",\n        \"description\": \"\"\n      }\n    }\n  ]\n}",
              "type": "dataframe"
            },
            "text/html": [
              "\n",
              "  <div id=\"df-df5093ec-37d8-416d-a357-a59fbb94fd3c\" class=\"colab-df-container\">\n",
              "    <div>\n",
              "<style scoped>\n",
              "    .dataframe tbody tr th:only-of-type {\n",
              "        vertical-align: middle;\n",
              "    }\n",
              "\n",
              "    .dataframe tbody tr th {\n",
              "        vertical-align: top;\n",
              "    }\n",
              "\n",
              "    .dataframe thead th {\n",
              "        text-align: right;\n",
              "    }\n",
              "</style>\n",
              "<table border=\"1\" class=\"dataframe\">\n",
              "  <thead>\n",
              "    <tr style=\"text-align: right;\">\n",
              "      <th></th>\n",
              "      <th>0</th>\n",
              "      <th>1</th>\n",
              "      <th>2</th>\n",
              "    </tr>\n",
              "  </thead>\n",
              "  <tbody>\n",
              "    <tr>\n",
              "      <th>368</th>\n",
              "      <td>False</td>\n",
              "      <td>False</td>\n",
              "      <td>True</td>\n",
              "    </tr>\n",
              "    <tr>\n",
              "      <th>3089</th>\n",
              "      <td>False</td>\n",
              "      <td>False</td>\n",
              "      <td>True</td>\n",
              "    </tr>\n",
              "    <tr>\n",
              "      <th>3508</th>\n",
              "      <td>False</td>\n",
              "      <td>False</td>\n",
              "      <td>True</td>\n",
              "    </tr>\n",
              "    <tr>\n",
              "      <th>3289</th>\n",
              "      <td>False</td>\n",
              "      <td>False</td>\n",
              "      <td>True</td>\n",
              "    </tr>\n",
              "    <tr>\n",
              "      <th>1611</th>\n",
              "      <td>True</td>\n",
              "      <td>False</td>\n",
              "      <td>False</td>\n",
              "    </tr>\n",
              "    <tr>\n",
              "      <th>...</th>\n",
              "      <td>...</td>\n",
              "      <td>...</td>\n",
              "      <td>...</td>\n",
              "    </tr>\n",
              "    <tr>\n",
              "      <th>246</th>\n",
              "      <td>False</td>\n",
              "      <td>True</td>\n",
              "      <td>False</td>\n",
              "    </tr>\n",
              "    <tr>\n",
              "      <th>712</th>\n",
              "      <td>True</td>\n",
              "      <td>False</td>\n",
              "      <td>False</td>\n",
              "    </tr>\n",
              "    <tr>\n",
              "      <th>502</th>\n",
              "      <td>True</td>\n",
              "      <td>False</td>\n",
              "      <td>False</td>\n",
              "    </tr>\n",
              "    <tr>\n",
              "      <th>326</th>\n",
              "      <td>False</td>\n",
              "      <td>False</td>\n",
              "      <td>True</td>\n",
              "    </tr>\n",
              "    <tr>\n",
              "      <th>3134</th>\n",
              "      <td>False</td>\n",
              "      <td>False</td>\n",
              "      <td>True</td>\n",
              "    </tr>\n",
              "  </tbody>\n",
              "</table>\n",
              "<p>2781 rows × 3 columns</p>\n",
              "</div>\n",
              "    <div class=\"colab-df-buttons\">\n",
              "\n",
              "  <div class=\"colab-df-container\">\n",
              "    <button class=\"colab-df-convert\" onclick=\"convertToInteractive('df-df5093ec-37d8-416d-a357-a59fbb94fd3c')\"\n",
              "            title=\"Convert this dataframe to an interactive table.\"\n",
              "            style=\"display:none;\">\n",
              "\n",
              "  <svg xmlns=\"http://www.w3.org/2000/svg\" height=\"24px\" viewBox=\"0 -960 960 960\">\n",
              "    <path d=\"M120-120v-720h720v720H120Zm60-500h600v-160H180v160Zm220 220h160v-160H400v160Zm0 220h160v-160H400v160ZM180-400h160v-160H180v160Zm440 0h160v-160H620v160ZM180-180h160v-160H180v160Zm440 0h160v-160H620v160Z\"/>\n",
              "  </svg>\n",
              "    </button>\n",
              "\n",
              "  <style>\n",
              "    .colab-df-container {\n",
              "      display:flex;\n",
              "      gap: 12px;\n",
              "    }\n",
              "\n",
              "    .colab-df-convert {\n",
              "      background-color: #E8F0FE;\n",
              "      border: none;\n",
              "      border-radius: 50%;\n",
              "      cursor: pointer;\n",
              "      display: none;\n",
              "      fill: #1967D2;\n",
              "      height: 32px;\n",
              "      padding: 0 0 0 0;\n",
              "      width: 32px;\n",
              "    }\n",
              "\n",
              "    .colab-df-convert:hover {\n",
              "      background-color: #E2EBFA;\n",
              "      box-shadow: 0px 1px 2px rgba(60, 64, 67, 0.3), 0px 1px 3px 1px rgba(60, 64, 67, 0.15);\n",
              "      fill: #174EA6;\n",
              "    }\n",
              "\n",
              "    .colab-df-buttons div {\n",
              "      margin-bottom: 4px;\n",
              "    }\n",
              "\n",
              "    [theme=dark] .colab-df-convert {\n",
              "      background-color: #3B4455;\n",
              "      fill: #D2E3FC;\n",
              "    }\n",
              "\n",
              "    [theme=dark] .colab-df-convert:hover {\n",
              "      background-color: #434B5C;\n",
              "      box-shadow: 0px 1px 3px 1px rgba(0, 0, 0, 0.15);\n",
              "      filter: drop-shadow(0px 1px 2px rgba(0, 0, 0, 0.3));\n",
              "      fill: #FFFFFF;\n",
              "    }\n",
              "  </style>\n",
              "\n",
              "    <script>\n",
              "      const buttonEl =\n",
              "        document.querySelector('#df-df5093ec-37d8-416d-a357-a59fbb94fd3c button.colab-df-convert');\n",
              "      buttonEl.style.display =\n",
              "        google.colab.kernel.accessAllowed ? 'block' : 'none';\n",
              "\n",
              "      async function convertToInteractive(key) {\n",
              "        const element = document.querySelector('#df-df5093ec-37d8-416d-a357-a59fbb94fd3c');\n",
              "        const dataTable =\n",
              "          await google.colab.kernel.invokeFunction('convertToInteractive',\n",
              "                                                    [key], {});\n",
              "        if (!dataTable) return;\n",
              "\n",
              "        const docLinkHtml = 'Like what you see? Visit the ' +\n",
              "          '<a target=\"_blank\" href=https://colab.research.google.com/notebooks/data_table.ipynb>data table notebook</a>'\n",
              "          + ' to learn more about interactive tables.';\n",
              "        element.innerHTML = '';\n",
              "        dataTable['output_type'] = 'display_data';\n",
              "        await google.colab.output.renderOutput(dataTable, element);\n",
              "        const docLink = document.createElement('div');\n",
              "        docLink.innerHTML = docLinkHtml;\n",
              "        element.appendChild(docLink);\n",
              "      }\n",
              "    </script>\n",
              "  </div>\n",
              "\n",
              "\n",
              "<div id=\"df-ab115a3e-ebd3-4d91-b21a-8d968d32289f\">\n",
              "  <button class=\"colab-df-quickchart\" onclick=\"quickchart('df-ab115a3e-ebd3-4d91-b21a-8d968d32289f')\"\n",
              "            title=\"Suggest charts\"\n",
              "            style=\"display:none;\">\n",
              "\n",
              "<svg xmlns=\"http://www.w3.org/2000/svg\" height=\"24px\"viewBox=\"0 0 24 24\"\n",
              "     width=\"24px\">\n",
              "    <g>\n",
              "        <path d=\"M19 3H5c-1.1 0-2 .9-2 2v14c0 1.1.9 2 2 2h14c1.1 0 2-.9 2-2V5c0-1.1-.9-2-2-2zM9 17H7v-7h2v7zm4 0h-2V7h2v10zm4 0h-2v-4h2v4z\"/>\n",
              "    </g>\n",
              "</svg>\n",
              "  </button>\n",
              "\n",
              "<style>\n",
              "  .colab-df-quickchart {\n",
              "      --bg-color: #E8F0FE;\n",
              "      --fill-color: #1967D2;\n",
              "      --hover-bg-color: #E2EBFA;\n",
              "      --hover-fill-color: #174EA6;\n",
              "      --disabled-fill-color: #AAA;\n",
              "      --disabled-bg-color: #DDD;\n",
              "  }\n",
              "\n",
              "  [theme=dark] .colab-df-quickchart {\n",
              "      --bg-color: #3B4455;\n",
              "      --fill-color: #D2E3FC;\n",
              "      --hover-bg-color: #434B5C;\n",
              "      --hover-fill-color: #FFFFFF;\n",
              "      --disabled-bg-color: #3B4455;\n",
              "      --disabled-fill-color: #666;\n",
              "  }\n",
              "\n",
              "  .colab-df-quickchart {\n",
              "    background-color: var(--bg-color);\n",
              "    border: none;\n",
              "    border-radius: 50%;\n",
              "    cursor: pointer;\n",
              "    display: none;\n",
              "    fill: var(--fill-color);\n",
              "    height: 32px;\n",
              "    padding: 0;\n",
              "    width: 32px;\n",
              "  }\n",
              "\n",
              "  .colab-df-quickchart:hover {\n",
              "    background-color: var(--hover-bg-color);\n",
              "    box-shadow: 0 1px 2px rgba(60, 64, 67, 0.3), 0 1px 3px 1px rgba(60, 64, 67, 0.15);\n",
              "    fill: var(--button-hover-fill-color);\n",
              "  }\n",
              "\n",
              "  .colab-df-quickchart-complete:disabled,\n",
              "  .colab-df-quickchart-complete:disabled:hover {\n",
              "    background-color: var(--disabled-bg-color);\n",
              "    fill: var(--disabled-fill-color);\n",
              "    box-shadow: none;\n",
              "  }\n",
              "\n",
              "  .colab-df-spinner {\n",
              "    border: 2px solid var(--fill-color);\n",
              "    border-color: transparent;\n",
              "    border-bottom-color: var(--fill-color);\n",
              "    animation:\n",
              "      spin 1s steps(1) infinite;\n",
              "  }\n",
              "\n",
              "  @keyframes spin {\n",
              "    0% {\n",
              "      border-color: transparent;\n",
              "      border-bottom-color: var(--fill-color);\n",
              "      border-left-color: var(--fill-color);\n",
              "    }\n",
              "    20% {\n",
              "      border-color: transparent;\n",
              "      border-left-color: var(--fill-color);\n",
              "      border-top-color: var(--fill-color);\n",
              "    }\n",
              "    30% {\n",
              "      border-color: transparent;\n",
              "      border-left-color: var(--fill-color);\n",
              "      border-top-color: var(--fill-color);\n",
              "      border-right-color: var(--fill-color);\n",
              "    }\n",
              "    40% {\n",
              "      border-color: transparent;\n",
              "      border-right-color: var(--fill-color);\n",
              "      border-top-color: var(--fill-color);\n",
              "    }\n",
              "    60% {\n",
              "      border-color: transparent;\n",
              "      border-right-color: var(--fill-color);\n",
              "    }\n",
              "    80% {\n",
              "      border-color: transparent;\n",
              "      border-right-color: var(--fill-color);\n",
              "      border-bottom-color: var(--fill-color);\n",
              "    }\n",
              "    90% {\n",
              "      border-color: transparent;\n",
              "      border-bottom-color: var(--fill-color);\n",
              "    }\n",
              "  }\n",
              "</style>\n",
              "\n",
              "  <script>\n",
              "    async function quickchart(key) {\n",
              "      const quickchartButtonEl =\n",
              "        document.querySelector('#' + key + ' button');\n",
              "      quickchartButtonEl.disabled = true;  // To prevent multiple clicks.\n",
              "      quickchartButtonEl.classList.add('colab-df-spinner');\n",
              "      try {\n",
              "        const charts = await google.colab.kernel.invokeFunction(\n",
              "            'suggestCharts', [key], {});\n",
              "      } catch (error) {\n",
              "        console.error('Error during call to suggestCharts:', error);\n",
              "      }\n",
              "      quickchartButtonEl.classList.remove('colab-df-spinner');\n",
              "      quickchartButtonEl.classList.add('colab-df-quickchart-complete');\n",
              "    }\n",
              "    (() => {\n",
              "      let quickchartButtonEl =\n",
              "        document.querySelector('#df-ab115a3e-ebd3-4d91-b21a-8d968d32289f button');\n",
              "      quickchartButtonEl.style.display =\n",
              "        google.colab.kernel.accessAllowed ? 'block' : 'none';\n",
              "    })();\n",
              "  </script>\n",
              "</div>\n",
              "    </div>\n",
              "  </div>\n"
            ],
            "text/plain": [
              "          0      1      2\n",
              "368   False  False   True\n",
              "3089  False  False   True\n",
              "3508  False  False   True\n",
              "3289  False  False   True\n",
              "1611   True  False  False\n",
              "...     ...    ...    ...\n",
              "246   False   True  False\n",
              "712    True  False  False\n",
              "502    True  False  False\n",
              "326   False  False   True\n",
              "3134  False  False   True\n",
              "\n",
              "[2781 rows x 3 columns]"
            ]
          },
          "execution_count": 71,
          "metadata": {},
          "output_type": "execute_result"
        }
      ],
      "source": [
        "pd.get_dummies(y_train)"
      ]
    },
    {
      "cell_type": "code",
      "execution_count": null,
      "metadata": {
        "id": "ZOGoybxH946H"
      },
      "outputs": [],
      "source": [
        "from tensorflow.keras.layers import Dense, GlobalAveragePooling1D, Input, LSTM, GRU\n",
        "from tensorflow.keras.models import Model, Sequential"
      ]
    },
    {
      "cell_type": "markdown",
      "metadata": {
        "id": "LD-2SAlu-D9t"
      },
      "source": [
        "### DNN"
      ]
    },
    {
      "cell_type": "markdown",
      "metadata": {
        "id": "UOaZ_3JQ-12G"
      },
      "source": [
        "**Cara Word Embedding 1**"
      ]
    },
    {
      "cell_type": "code",
      "execution_count": null,
      "metadata": {
        "id": "WbUgQKDdjbbj"
      },
      "outputs": [],
      "source": [
        "# [ [128], [128], [...], [128], [128]] 2000 x 33 x 128\n",
        "# [ avg_token1, avg_token2, ...., avg_token33]"
      ]
    },
    {
      "cell_type": "code",
      "execution_count": null,
      "metadata": {
        "colab": {
          "base_uri": "https://localhost:8080/"
        },
        "id": "TURLgwUj-B8Z",
        "outputId": "0c706854-a98a-42a6-83e5-a16286e6f8d9"
      },
      "outputs": [
        {
          "name": "stdout",
          "output_type": "stream",
          "text": [
            "Epoch 1/50\n",
            "87/87 [==============================] - 7s 62ms/step - loss: 0.8314 - accuracy: 0.6857 - val_loss: 0.7257 - val_accuracy: 0.6929\n",
            "Epoch 2/50\n",
            "87/87 [==============================] - 1s 15ms/step - loss: 0.7128 - accuracy: 0.6947 - val_loss: 0.7086 - val_accuracy: 0.6972\n",
            "Epoch 3/50\n",
            "87/87 [==============================] - 1s 9ms/step - loss: 0.6944 - accuracy: 0.7001 - val_loss: 0.6923 - val_accuracy: 0.7015\n",
            "Epoch 4/50\n",
            "87/87 [==============================] - 1s 8ms/step - loss: 0.6627 - accuracy: 0.7138 - val_loss: 0.6654 - val_accuracy: 0.7112\n",
            "Epoch 5/50\n",
            "87/87 [==============================] - 1s 9ms/step - loss: 0.6175 - accuracy: 0.7217 - val_loss: 0.6358 - val_accuracy: 0.7166\n",
            "Epoch 6/50\n",
            "87/87 [==============================] - 0s 6ms/step - loss: 0.5527 - accuracy: 0.7361 - val_loss: 0.6218 - val_accuracy: 0.7166\n",
            "Epoch 7/50\n",
            "87/87 [==============================] - 0s 4ms/step - loss: 0.4811 - accuracy: 0.7706 - val_loss: 0.5960 - val_accuracy: 0.7209\n",
            "Epoch 8/50\n",
            "87/87 [==============================] - 0s 6ms/step - loss: 0.4056 - accuracy: 0.8083 - val_loss: 0.6127 - val_accuracy: 0.7306\n",
            "Epoch 9/50\n",
            "87/87 [==============================] - 0s 6ms/step - loss: 0.3395 - accuracy: 0.8759 - val_loss: 0.5864 - val_accuracy: 0.7371\n",
            "Epoch 10/50\n",
            "87/87 [==============================] - 0s 6ms/step - loss: 0.2966 - accuracy: 0.8882 - val_loss: 0.6349 - val_accuracy: 0.7425\n",
            "Epoch 11/50\n",
            "87/87 [==============================] - 1s 8ms/step - loss: 0.2745 - accuracy: 0.8896 - val_loss: 0.6101 - val_accuracy: 0.7457\n",
            "Epoch 12/50\n",
            "87/87 [==============================] - 0s 6ms/step - loss: 0.2355 - accuracy: 0.9072 - val_loss: 0.6415 - val_accuracy: 0.7468\n",
            "Epoch 13/50\n",
            "87/87 [==============================] - 1s 8ms/step - loss: 0.2216 - accuracy: 0.9058 - val_loss: 0.6502 - val_accuracy: 0.7478\n",
            "Epoch 14/50\n",
            "87/87 [==============================] - 0s 5ms/step - loss: 0.2104 - accuracy: 0.9087 - val_loss: 0.6928 - val_accuracy: 0.7468\n",
            "Epoch 15/50\n",
            "87/87 [==============================] - 0s 5ms/step - loss: 0.1993 - accuracy: 0.9162 - val_loss: 0.6817 - val_accuracy: 0.7457\n",
            "Epoch 16/50\n",
            "87/87 [==============================] - 1s 7ms/step - loss: 0.1914 - accuracy: 0.9126 - val_loss: 0.6931 - val_accuracy: 0.7554\n",
            "Epoch 17/50\n",
            "87/87 [==============================] - 0s 5ms/step - loss: 0.1845 - accuracy: 0.9169 - val_loss: 0.7389 - val_accuracy: 0.7446\n",
            "Epoch 18/50\n",
            "87/87 [==============================] - 0s 5ms/step - loss: 0.1805 - accuracy: 0.9119 - val_loss: 0.7409 - val_accuracy: 0.7522\n",
            "Epoch 19/50\n",
            "87/87 [==============================] - 1s 8ms/step - loss: 0.1790 - accuracy: 0.9137 - val_loss: 0.7332 - val_accuracy: 0.7457\n",
            "Epoch 20/50\n",
            "87/87 [==============================] - 1s 7ms/step - loss: 0.1729 - accuracy: 0.9144 - val_loss: 0.7442 - val_accuracy: 0.7554\n",
            "Epoch 21/50\n",
            "87/87 [==============================] - 1s 7ms/step - loss: 0.1739 - accuracy: 0.9184 - val_loss: 0.7573 - val_accuracy: 0.7511\n",
            "Epoch 22/50\n",
            "87/87 [==============================] - 0s 5ms/step - loss: 0.1728 - accuracy: 0.9162 - val_loss: 0.7929 - val_accuracy: 0.7500\n",
            "Epoch 23/50\n",
            "87/87 [==============================] - 0s 4ms/step - loss: 0.1700 - accuracy: 0.9148 - val_loss: 0.7686 - val_accuracy: 0.7532\n",
            "Epoch 24/50\n",
            "87/87 [==============================] - 0s 5ms/step - loss: 0.1669 - accuracy: 0.9159 - val_loss: 0.8265 - val_accuracy: 0.7446\n",
            "Epoch 25/50\n",
            "87/87 [==============================] - 0s 5ms/step - loss: 0.1645 - accuracy: 0.9173 - val_loss: 0.8265 - val_accuracy: 0.7435\n",
            "Epoch 26/50\n",
            "87/87 [==============================] - 0s 6ms/step - loss: 0.1611 - accuracy: 0.9137 - val_loss: 0.7962 - val_accuracy: 0.7425\n",
            "Epoch 27/50\n",
            "87/87 [==============================] - 1s 6ms/step - loss: 0.1627 - accuracy: 0.9155 - val_loss: 0.8459 - val_accuracy: 0.7446\n",
            "Epoch 28/50\n",
            "87/87 [==============================] - 1s 6ms/step - loss: 0.1610 - accuracy: 0.9177 - val_loss: 0.8257 - val_accuracy: 0.7446\n",
            "Epoch 29/50\n",
            "87/87 [==============================] - 0s 5ms/step - loss: 0.1691 - accuracy: 0.9148 - val_loss: 0.8325 - val_accuracy: 0.7457\n",
            "Epoch 30/50\n",
            "87/87 [==============================] - 0s 6ms/step - loss: 0.1625 - accuracy: 0.9166 - val_loss: 0.8383 - val_accuracy: 0.7457\n",
            "Epoch 31/50\n",
            "87/87 [==============================] - 1s 6ms/step - loss: 0.1680 - accuracy: 0.9130 - val_loss: 0.9226 - val_accuracy: 0.5744\n",
            "Epoch 32/50\n",
            "87/87 [==============================] - 0s 6ms/step - loss: 0.1600 - accuracy: 0.9187 - val_loss: 0.8250 - val_accuracy: 0.7435\n",
            "Epoch 33/50\n",
            "87/87 [==============================] - 1s 6ms/step - loss: 0.1617 - accuracy: 0.9155 - val_loss: 0.8307 - val_accuracy: 0.7457\n",
            "Epoch 34/50\n",
            "87/87 [==============================] - 0s 5ms/step - loss: 0.1591 - accuracy: 0.9119 - val_loss: 0.8862 - val_accuracy: 0.7414\n",
            "Epoch 35/50\n",
            "87/87 [==============================] - 1s 6ms/step - loss: 0.1574 - accuracy: 0.9187 - val_loss: 0.8790 - val_accuracy: 0.7425\n",
            "Epoch 36/50\n",
            "87/87 [==============================] - 0s 5ms/step - loss: 0.1586 - accuracy: 0.9159 - val_loss: 0.8465 - val_accuracy: 0.7435\n",
            "Epoch 37/50\n",
            "87/87 [==============================] - 0s 6ms/step - loss: 0.1611 - accuracy: 0.9155 - val_loss: 0.9218 - val_accuracy: 0.7392\n",
            "Epoch 38/50\n",
            "87/87 [==============================] - 0s 5ms/step - loss: 0.1546 - accuracy: 0.9151 - val_loss: 0.8517 - val_accuracy: 0.7500\n",
            "Epoch 39/50\n",
            "87/87 [==============================] - 0s 6ms/step - loss: 0.1529 - accuracy: 0.9162 - val_loss: 0.8734 - val_accuracy: 0.7478\n",
            "Epoch 40/50\n",
            "87/87 [==============================] - 0s 5ms/step - loss: 0.1537 - accuracy: 0.9173 - val_loss: 0.8630 - val_accuracy: 0.7435\n",
            "Epoch 41/50\n",
            "87/87 [==============================] - 0s 5ms/step - loss: 0.1544 - accuracy: 0.9198 - val_loss: 0.8731 - val_accuracy: 0.7522\n",
            "Epoch 42/50\n",
            "87/87 [==============================] - 0s 5ms/step - loss: 0.1548 - accuracy: 0.9187 - val_loss: 0.8867 - val_accuracy: 0.7500\n",
            "Epoch 43/50\n",
            "87/87 [==============================] - 0s 5ms/step - loss: 0.1512 - accuracy: 0.9180 - val_loss: 0.8861 - val_accuracy: 0.7478\n",
            "Epoch 44/50\n",
            "87/87 [==============================] - 1s 7ms/step - loss: 0.1596 - accuracy: 0.9155 - val_loss: 0.8858 - val_accuracy: 0.7425\n",
            "Epoch 45/50\n",
            "87/87 [==============================] - 1s 8ms/step - loss: 0.1592 - accuracy: 0.9141 - val_loss: 0.8799 - val_accuracy: 0.7457\n",
            "Epoch 46/50\n",
            "87/87 [==============================] - 1s 7ms/step - loss: 0.1524 - accuracy: 0.9137 - val_loss: 0.9126 - val_accuracy: 0.7457\n",
            "Epoch 47/50\n",
            "87/87 [==============================] - 0s 5ms/step - loss: 0.1534 - accuracy: 0.9151 - val_loss: 0.9227 - val_accuracy: 0.7446\n",
            "Epoch 48/50\n",
            "87/87 [==============================] - 0s 5ms/step - loss: 0.1628 - accuracy: 0.9079 - val_loss: 0.8823 - val_accuracy: 0.7435\n",
            "Epoch 49/50\n",
            "87/87 [==============================] - 0s 5ms/step - loss: 0.1487 - accuracy: 0.9195 - val_loss: 0.8908 - val_accuracy: 0.7489\n",
            "Epoch 50/50\n",
            "87/87 [==============================] - 0s 5ms/step - loss: 0.1501 - accuracy: 0.9187 - val_loss: 0.8927 - val_accuracy: 0.7414\n"
          ]
        }
      ],
      "source": [
        "model = Sequential()\n",
        "model.add(text_vectorization)\n",
        "model.add(embedding)\n",
        "model.add(GlobalAveragePooling1D())\n",
        "model.add(Dense(32,activation='relu'))\n",
        "model.add(Dense(3,activation='softmax'))\n",
        "\n",
        "model.compile(loss='categorical_crossentropy',optimizer='adam',metrics='accuracy')\n",
        "\n",
        "model_dnn_hist_1 = model.fit(X_train,\n",
        "                         y_train_ohe,\n",
        "                         epochs=50,\n",
        "                         validation_data=(X_test, y_test_ohe))"
      ]
    },
    {
      "cell_type": "code",
      "execution_count": null,
      "metadata": {
        "colab": {
          "base_uri": "https://localhost:8080/",
          "height": 448
        },
        "id": "1qx-ceOC_M51",
        "outputId": "daaf16dd-ebaa-458b-98ab-a0a0e98bd7b6"
      },
      "outputs": [
        {
          "data": {
            "text/plain": [
              "<Axes: >"
            ]
          },
          "execution_count": 79,
          "metadata": {},
          "output_type": "execute_result"
        },
        {
          "data": {
            "image/png": "[encoded data removed]",
            "text/plain": [
              "<Figure size 640x480 with 1 Axes>"
            ]
          },
          "metadata": {},
          "output_type": "display_data"
        }
      ],
      "source": [
        "metrics = pd.DataFrame(model_dnn_hist_1.history)\n",
        "metrics[['loss', 'val_loss']].plot()"
      ]
    },
    {
      "cell_type": "markdown",
      "metadata": {
        "id": "2P8c0nvcE1k4"
      },
      "source": [
        "**Cara Word Embedding 2**"
      ]
    },
    {
      "cell_type": "code",
      "execution_count": null,
      "metadata": {
        "colab": {
          "base_uri": "https://localhost:8080/"
        },
        "id": "G-jtN0sOE6ZM",
        "outputId": "ddf72f8f-3795-4e8e-c49d-0eeb106c8712"
      },
      "outputs": [
        {
          "name": "stdout",
          "output_type": "stream",
          "text": [
            "Epoch 1/50\n",
            "87/87 [==============================] - 3s 14ms/step - loss: 0.9044 - accuracy: 0.6764 - val_loss: 0.7471 - val_accuracy: 0.6929\n",
            "Epoch 2/50\n",
            "87/87 [==============================] - 1s 12ms/step - loss: 0.7428 - accuracy: 0.6929 - val_loss: 0.7401 - val_accuracy: 0.6929\n",
            "Epoch 3/50\n",
            "87/87 [==============================] - 1s 14ms/step - loss: 0.7409 - accuracy: 0.6929 - val_loss: 0.7444 - val_accuracy: 0.6929\n",
            "Epoch 4/50\n",
            "87/87 [==============================] - 1s 17ms/step - loss: 0.7414 - accuracy: 0.6929 - val_loss: 0.7394 - val_accuracy: 0.6929\n",
            "Epoch 5/50\n",
            "87/87 [==============================] - 1s 15ms/step - loss: 0.7413 - accuracy: 0.6929 - val_loss: 0.7396 - val_accuracy: 0.6929\n",
            "Epoch 6/50\n",
            "87/87 [==============================] - 1s 15ms/step - loss: 0.7410 - accuracy: 0.6929 - val_loss: 0.7398 - val_accuracy: 0.6929\n",
            "Epoch 7/50\n",
            "87/87 [==============================] - 1s 10ms/step - loss: 0.7410 - accuracy: 0.6929 - val_loss: 0.7393 - val_accuracy: 0.6929\n",
            "Epoch 8/50\n",
            "87/87 [==============================] - 1s 10ms/step - loss: 0.7409 - accuracy: 0.6929 - val_loss: 0.7418 - val_accuracy: 0.6929\n",
            "Epoch 9/50\n",
            "87/87 [==============================] - 1s 13ms/step - loss: 0.7411 - accuracy: 0.6929 - val_loss: 0.7398 - val_accuracy: 0.6929\n",
            "Epoch 10/50\n",
            "87/87 [==============================] - 1s 11ms/step - loss: 0.7418 - accuracy: 0.6929 - val_loss: 0.7397 - val_accuracy: 0.6929\n",
            "Epoch 11/50\n",
            "87/87 [==============================] - 1s 11ms/step - loss: 0.7409 - accuracy: 0.6929 - val_loss: 0.7397 - val_accuracy: 0.6929\n",
            "Epoch 12/50\n",
            "87/87 [==============================] - 1s 9ms/step - loss: 0.7402 - accuracy: 0.6929 - val_loss: 0.7402 - val_accuracy: 0.6929\n",
            "Epoch 13/50\n",
            "87/87 [==============================] - 1s 11ms/step - loss: 0.7409 - accuracy: 0.6929 - val_loss: 0.7395 - val_accuracy: 0.6929\n",
            "Epoch 14/50\n",
            "87/87 [==============================] - 1s 11ms/step - loss: 0.7414 - accuracy: 0.6929 - val_loss: 0.7393 - val_accuracy: 0.6929\n",
            "Epoch 15/50\n",
            "87/87 [==============================] - 1s 14ms/step - loss: 0.7407 - accuracy: 0.6929 - val_loss: 0.7411 - val_accuracy: 0.6929\n",
            "Epoch 16/50\n",
            "87/87 [==============================] - 2s 18ms/step - loss: 0.7408 - accuracy: 0.6929 - val_loss: 0.7392 - val_accuracy: 0.6929\n",
            "Epoch 17/50\n",
            "87/87 [==============================] - 1s 15ms/step - loss: 0.7406 - accuracy: 0.6929 - val_loss: 0.7392 - val_accuracy: 0.6929\n",
            "Epoch 18/50\n",
            "87/87 [==============================] - 1s 10ms/step - loss: 0.7408 - accuracy: 0.6929 - val_loss: 0.7394 - val_accuracy: 0.6929\n",
            "Epoch 19/50\n",
            "87/87 [==============================] - 1s 11ms/step - loss: 0.7401 - accuracy: 0.6929 - val_loss: 0.7423 - val_accuracy: 0.6929\n",
            "Epoch 20/50\n",
            "87/87 [==============================] - 1s 6ms/step - loss: 0.7421 - accuracy: 0.6929 - val_loss: 0.7394 - val_accuracy: 0.6929\n",
            "Epoch 21/50\n",
            "87/87 [==============================] - 1s 6ms/step - loss: 0.7408 - accuracy: 0.6929 - val_loss: 0.7392 - val_accuracy: 0.6929\n",
            "Epoch 22/50\n",
            "87/87 [==============================] - 0s 6ms/step - loss: 0.7402 - accuracy: 0.6929 - val_loss: 0.7398 - val_accuracy: 0.6929\n",
            "Epoch 23/50\n",
            "87/87 [==============================] - 0s 6ms/step - loss: 0.7405 - accuracy: 0.6929 - val_loss: 0.7398 - val_accuracy: 0.6929\n",
            "Epoch 24/50\n",
            "87/87 [==============================] - 0s 6ms/step - loss: 0.7410 - accuracy: 0.6929 - val_loss: 0.7396 - val_accuracy: 0.6929\n",
            "Epoch 25/50\n",
            "87/87 [==============================] - 0s 6ms/step - loss: 0.7406 - accuracy: 0.6929 - val_loss: 0.7398 - val_accuracy: 0.6929\n",
            "Epoch 26/50\n",
            "87/87 [==============================] - 1s 6ms/step - loss: 0.7404 - accuracy: 0.6929 - val_loss: 0.7411 - val_accuracy: 0.6929\n",
            "Epoch 27/50\n",
            "87/87 [==============================] - 1s 6ms/step - loss: 0.7411 - accuracy: 0.6929 - val_loss: 0.7396 - val_accuracy: 0.6929\n",
            "Epoch 28/50\n",
            "87/87 [==============================] - 1s 6ms/step - loss: 0.7410 - accuracy: 0.6929 - val_loss: 0.7392 - val_accuracy: 0.6929\n",
            "Epoch 29/50\n",
            "87/87 [==============================] - 0s 6ms/step - loss: 0.7405 - accuracy: 0.6929 - val_loss: 0.7394 - val_accuracy: 0.6929\n",
            "Epoch 30/50\n",
            "87/87 [==============================] - 1s 7ms/step - loss: 0.7402 - accuracy: 0.6929 - val_loss: 0.7392 - val_accuracy: 0.6929\n",
            "Epoch 31/50\n",
            "87/87 [==============================] - 0s 6ms/step - loss: 0.7404 - accuracy: 0.6929 - val_loss: 0.7392 - val_accuracy: 0.6929\n",
            "Epoch 32/50\n",
            "87/87 [==============================] - 0s 6ms/step - loss: 0.7397 - accuracy: 0.6929 - val_loss: 0.7392 - val_accuracy: 0.6929\n",
            "Epoch 33/50\n",
            "87/87 [==============================] - 0s 6ms/step - loss: 0.7403 - accuracy: 0.6929 - val_loss: 0.7389 - val_accuracy: 0.6929\n",
            "Epoch 34/50\n",
            "87/87 [==============================] - 1s 7ms/step - loss: 0.7409 - accuracy: 0.6929 - val_loss: 0.7392 - val_accuracy: 0.6929\n",
            "Epoch 35/50\n",
            "87/87 [==============================] - 1s 8ms/step - loss: 0.7406 - accuracy: 0.6929 - val_loss: 0.7393 - val_accuracy: 0.6929\n",
            "Epoch 36/50\n",
            "87/87 [==============================] - 1s 8ms/step - loss: 0.7397 - accuracy: 0.6929 - val_loss: 0.7388 - val_accuracy: 0.6929\n",
            "Epoch 37/50\n",
            "87/87 [==============================] - 1s 7ms/step - loss: 0.7399 - accuracy: 0.6929 - val_loss: 0.7389 - val_accuracy: 0.6929\n",
            "Epoch 38/50\n",
            "87/87 [==============================] - 0s 6ms/step - loss: 0.7408 - accuracy: 0.6929 - val_loss: 0.7391 - val_accuracy: 0.6929\n",
            "Epoch 39/50\n",
            "87/87 [==============================] - 0s 6ms/step - loss: 0.7399 - accuracy: 0.6929 - val_loss: 0.7398 - val_accuracy: 0.6929\n",
            "Epoch 40/50\n",
            "87/87 [==============================] - 0s 6ms/step - loss: 0.7405 - accuracy: 0.6929 - val_loss: 0.7406 - val_accuracy: 0.6929\n",
            "Epoch 41/50\n",
            "87/87 [==============================] - 1s 7ms/step - loss: 0.7395 - accuracy: 0.6929 - val_loss: 0.7395 - val_accuracy: 0.6929\n",
            "Epoch 42/50\n",
            "87/87 [==============================] - 0s 6ms/step - loss: 0.7399 - accuracy: 0.6929 - val_loss: 0.7388 - val_accuracy: 0.6929\n",
            "Epoch 43/50\n",
            "87/87 [==============================] - 0s 6ms/step - loss: 0.7404 - accuracy: 0.6929 - val_loss: 0.7392 - val_accuracy: 0.6929\n",
            "Epoch 44/50\n",
            "87/87 [==============================] - 1s 6ms/step - loss: 0.7399 - accuracy: 0.6929 - val_loss: 0.7393 - val_accuracy: 0.6929\n",
            "Epoch 45/50\n",
            "87/87 [==============================] - 1s 6ms/step - loss: 0.7401 - accuracy: 0.6929 - val_loss: 0.7386 - val_accuracy: 0.6929\n",
            "Epoch 46/50\n",
            "87/87 [==============================] - 1s 6ms/step - loss: 0.7395 - accuracy: 0.6929 - val_loss: 0.7389 - val_accuracy: 0.6929\n",
            "Epoch 47/50\n",
            "87/87 [==============================] - 0s 6ms/step - loss: 0.7398 - accuracy: 0.6929 - val_loss: 0.7391 - val_accuracy: 0.6929\n",
            "Epoch 48/50\n",
            "87/87 [==============================] - 0s 6ms/step - loss: 0.7388 - accuracy: 0.6929 - val_loss: 0.7429 - val_accuracy: 0.6929\n",
            "Epoch 49/50\n",
            "87/87 [==============================] - 0s 6ms/step - loss: 0.7400 - accuracy: 0.6929 - val_loss: 0.7385 - val_accuracy: 0.6929\n",
            "Epoch 50/50\n",
            "87/87 [==============================] - 0s 6ms/step - loss: 0.7401 - accuracy: 0.6929 - val_loss: 0.7388 - val_accuracy: 0.6929\n"
          ]
        }
      ],
      "source": [
        "embedding = Embedding(input_dim=jml_vocab,\n",
        "                      output_dim=128,\n",
        "                      embeddings_initializer=\"uniform\",\n",
        "                      input_length=jml_vocab\n",
        "                      )\n",
        "\n",
        "model = Sequential()\n",
        "model.add(embedding)\n",
        "model.add(GlobalAveragePooling1D())\n",
        "model.add(Dense(32,activation='relu'))\n",
        "model.add(Dense(3,activation='softmax'))\n",
        "\n",
        "model.compile(loss='categorical_crossentropy',optimizer='adam',metrics='accuracy')\n",
        "\n",
        "model_dnn_hist_2 = model.fit(X_train_tfidf.todense(),\n",
        "                         y_train_ohe,\n",
        "                         epochs=50,\n",
        "                         validation_data=(X_test_tfidf.todense(), y_test_ohe))"
      ]
    },
    {
      "cell_type": "code",
      "execution_count": null,
      "metadata": {
        "id": "hJtIV1XYkvo8"
      },
      "outputs": [],
      "source": [
        "print(jml_vocab)\n",
        "print(X_train_tfidf.shape)"
      ]
    },
    {
      "cell_type": "code",
      "execution_count": null,
      "metadata": {
        "colab": {
          "base_uri": "https://localhost:8080/",
          "height": 448
        },
        "id": "45Zzehi7Fdsm",
        "outputId": "0b4cdd2d-5455-4197-96cf-1c60cd8abc6e"
      },
      "outputs": [
        {
          "data": {
            "text/plain": [
              "<Axes: >"
            ]
          },
          "execution_count": 83,
          "metadata": {},
          "output_type": "execute_result"
        },
        {
          "data": {
            "image/png": "[encoded data removed]",
            "text/plain": [
              "<Figure size 640x480 with 1 Axes>"
            ]
          },
          "metadata": {},
          "output_type": "display_data"
        }
      ],
      "source": [
        "metrics = pd.DataFrame(model_dnn_hist_2.history)\n",
        "metrics[['loss', 'val_loss']].plot()"
      ]
    },
    {
      "cell_type": "markdown",
      "metadata": {
        "id": "V_mwAah0HOKg"
      },
      "source": [
        "### LSTM"
      ]
    },
    {
      "cell_type": "markdown",
      "metadata": {
        "id": "3znBSucpHank"
      },
      "source": [
        "**Cara Word Embedding 1**"
      ]
    },
    {
      "cell_type": "code",
      "execution_count": null,
      "metadata": {
        "colab": {
          "base_uri": "https://localhost:8080/"
        },
        "id": "sS6hu4jIHano",
        "outputId": "5addcc7b-eb70-49c1-ef1a-5734196228cb"
      },
      "outputs": [
        {
          "name": "stdout",
          "output_type": "stream",
          "text": [
            "Epoch 1/50\n",
            "87/87 [==============================] - 10s 64ms/step - loss: 0.7746 - accuracy: 0.6753 - val_loss: 0.7440 - val_accuracy: 0.6929\n",
            "Epoch 2/50\n",
            "87/87 [==============================] - 3s 29ms/step - loss: 0.7251 - accuracy: 0.6951 - val_loss: 0.6916 - val_accuracy: 0.6972\n",
            "Epoch 3/50\n",
            "87/87 [==============================] - 1s 16ms/step - loss: 0.6395 - accuracy: 0.7174 - val_loss: 0.6879 - val_accuracy: 0.7101\n",
            "Epoch 4/50\n",
            "87/87 [==============================] - 1s 13ms/step - loss: 0.6202 - accuracy: 0.7242 - val_loss: 0.6912 - val_accuracy: 0.7123\n",
            "Epoch 5/50\n",
            "87/87 [==============================] - 1s 9ms/step - loss: 0.6086 - accuracy: 0.7386 - val_loss: 0.6926 - val_accuracy: 0.7101\n",
            "Epoch 6/50\n",
            "87/87 [==============================] - 1s 15ms/step - loss: 0.6247 - accuracy: 0.7256 - val_loss: 0.6987 - val_accuracy: 0.7112\n",
            "Epoch 7/50\n",
            "87/87 [==============================] - 1s 11ms/step - loss: 0.6105 - accuracy: 0.7318 - val_loss: 0.6880 - val_accuracy: 0.7144\n",
            "Epoch 8/50\n",
            "87/87 [==============================] - 1s 9ms/step - loss: 0.5868 - accuracy: 0.7501 - val_loss: 0.6913 - val_accuracy: 0.7134\n",
            "Epoch 9/50\n",
            "87/87 [==============================] - 1s 11ms/step - loss: 0.5684 - accuracy: 0.7594 - val_loss: 0.6981 - val_accuracy: 0.7134\n",
            "Epoch 10/50\n",
            "87/87 [==============================] - 1s 10ms/step - loss: 0.4758 - accuracy: 0.8198 - val_loss: 0.7418 - val_accuracy: 0.7220\n",
            "Epoch 11/50\n",
            "87/87 [==============================] - 1s 10ms/step - loss: 0.4020 - accuracy: 0.8483 - val_loss: 0.7456 - val_accuracy: 0.7231\n",
            "Epoch 12/50\n",
            "87/87 [==============================] - 1s 14ms/step - loss: 0.3265 - accuracy: 0.8637 - val_loss: 0.7284 - val_accuracy: 0.7155\n",
            "Epoch 13/50\n",
            "87/87 [==============================] - 1s 13ms/step - loss: 0.2988 - accuracy: 0.8688 - val_loss: 0.8895 - val_accuracy: 0.7231\n",
            "Epoch 14/50\n",
            "87/87 [==============================] - 1s 10ms/step - loss: 0.2861 - accuracy: 0.8752 - val_loss: 0.8771 - val_accuracy: 0.7252\n",
            "Epoch 15/50\n",
            "87/87 [==============================] - 1s 9ms/step - loss: 0.2690 - accuracy: 0.8752 - val_loss: 0.7925 - val_accuracy: 0.7295\n",
            "Epoch 16/50\n",
            "87/87 [==============================] - 1s 9ms/step - loss: 0.2540 - accuracy: 0.8849 - val_loss: 0.7738 - val_accuracy: 0.7209\n",
            "Epoch 17/50\n",
            "87/87 [==============================] - 1s 10ms/step - loss: 0.2405 - accuracy: 0.8885 - val_loss: 0.7644 - val_accuracy: 0.7220\n",
            "Epoch 18/50\n",
            "87/87 [==============================] - 1s 10ms/step - loss: 0.2363 - accuracy: 0.8882 - val_loss: 0.7928 - val_accuracy: 0.7263\n",
            "Epoch 19/50\n",
            "87/87 [==============================] - 1s 9ms/step - loss: 0.2316 - accuracy: 0.8860 - val_loss: 0.8115 - val_accuracy: 0.7284\n",
            "Epoch 20/50\n",
            "87/87 [==============================] - 1s 10ms/step - loss: 0.2252 - accuracy: 0.8907 - val_loss: 0.7967 - val_accuracy: 0.7231\n",
            "Epoch 21/50\n",
            "87/87 [==============================] - 1s 9ms/step - loss: 0.2274 - accuracy: 0.8896 - val_loss: 0.8336 - val_accuracy: 0.7274\n",
            "Epoch 22/50\n",
            "87/87 [==============================] - 1s 9ms/step - loss: 0.2331 - accuracy: 0.8885 - val_loss: 0.8308 - val_accuracy: 0.7231\n",
            "Epoch 23/50\n",
            "87/87 [==============================] - 1s 9ms/step - loss: 0.2296 - accuracy: 0.8849 - val_loss: 0.8503 - val_accuracy: 0.7263\n",
            "Epoch 24/50\n",
            "87/87 [==============================] - 1s 9ms/step - loss: 0.2239 - accuracy: 0.8954 - val_loss: 0.8563 - val_accuracy: 0.7177\n",
            "Epoch 25/50\n",
            "87/87 [==============================] - 1s 15ms/step - loss: 0.2334 - accuracy: 0.8864 - val_loss: 0.8368 - val_accuracy: 0.7220\n",
            "Epoch 26/50\n",
            "87/87 [==============================] - 1s 13ms/step - loss: 0.2537 - accuracy: 0.8792 - val_loss: 0.8267 - val_accuracy: 0.7144\n",
            "Epoch 27/50\n",
            "87/87 [==============================] - 1s 9ms/step - loss: 0.2307 - accuracy: 0.8842 - val_loss: 1.0073 - val_accuracy: 0.7155\n",
            "Epoch 28/50\n",
            "87/87 [==============================] - 1s 10ms/step - loss: 0.2327 - accuracy: 0.8875 - val_loss: 0.8838 - val_accuracy: 0.7166\n",
            "Epoch 29/50\n",
            "87/87 [==============================] - 1s 9ms/step - loss: 0.2232 - accuracy: 0.8903 - val_loss: 0.8865 - val_accuracy: 0.7188\n",
            "Epoch 30/50\n",
            "87/87 [==============================] - 1s 9ms/step - loss: 0.2268 - accuracy: 0.8792 - val_loss: 0.8604 - val_accuracy: 0.7198\n",
            "Epoch 31/50\n",
            "87/87 [==============================] - 1s 9ms/step - loss: 0.2251 - accuracy: 0.8882 - val_loss: 0.8491 - val_accuracy: 0.7231\n",
            "Epoch 32/50\n",
            "87/87 [==============================] - 1s 9ms/step - loss: 0.2169 - accuracy: 0.8882 - val_loss: 0.8935 - val_accuracy: 0.7220\n",
            "Epoch 33/50\n",
            "87/87 [==============================] - 1s 9ms/step - loss: 0.2157 - accuracy: 0.8903 - val_loss: 1.0442 - val_accuracy: 0.7188\n",
            "Epoch 34/50\n",
            "87/87 [==============================] - 1s 9ms/step - loss: 0.2228 - accuracy: 0.8752 - val_loss: 0.9078 - val_accuracy: 0.7188\n",
            "Epoch 35/50\n",
            "87/87 [==============================] - 1s 9ms/step - loss: 0.2209 - accuracy: 0.8741 - val_loss: 0.9083 - val_accuracy: 0.7220\n",
            "Epoch 36/50\n",
            "87/87 [==============================] - 1s 9ms/step - loss: 0.2240 - accuracy: 0.8831 - val_loss: 0.8863 - val_accuracy: 0.7220\n",
            "Epoch 37/50\n",
            "87/87 [==============================] - 1s 10ms/step - loss: 0.2213 - accuracy: 0.8882 - val_loss: 0.9177 - val_accuracy: 0.7144\n",
            "Epoch 38/50\n",
            "87/87 [==============================] - 1s 9ms/step - loss: 0.2179 - accuracy: 0.9011 - val_loss: 0.8851 - val_accuracy: 0.7241\n",
            "Epoch 39/50\n",
            "87/87 [==============================] - 1s 13ms/step - loss: 0.2070 - accuracy: 0.9094 - val_loss: 0.9151 - val_accuracy: 0.7295\n",
            "Epoch 40/50\n",
            "87/87 [==============================] - 1s 15ms/step - loss: 0.2067 - accuracy: 0.9101 - val_loss: 0.8658 - val_accuracy: 0.7263\n",
            "Epoch 41/50\n",
            "87/87 [==============================] - 1s 10ms/step - loss: 0.1955 - accuracy: 0.9130 - val_loss: 0.8971 - val_accuracy: 0.7295\n",
            "Epoch 42/50\n",
            "87/87 [==============================] - 1s 9ms/step - loss: 0.2009 - accuracy: 0.9094 - val_loss: 0.9410 - val_accuracy: 0.7252\n",
            "Epoch 43/50\n",
            "87/87 [==============================] - 1s 9ms/step - loss: 0.2141 - accuracy: 0.8990 - val_loss: 0.9448 - val_accuracy: 0.7317\n",
            "Epoch 44/50\n",
            "87/87 [==============================] - 1s 9ms/step - loss: 0.1996 - accuracy: 0.9069 - val_loss: 0.9873 - val_accuracy: 0.7231\n",
            "Epoch 45/50\n",
            "87/87 [==============================] - 1s 9ms/step - loss: 0.2097 - accuracy: 0.9026 - val_loss: 0.9812 - val_accuracy: 0.7306\n",
            "Epoch 46/50\n",
            "87/87 [==============================] - 1s 9ms/step - loss: 0.2064 - accuracy: 0.9087 - val_loss: 0.9256 - val_accuracy: 0.7252\n",
            "Epoch 47/50\n",
            "87/87 [==============================] - 1s 9ms/step - loss: 0.2049 - accuracy: 0.9036 - val_loss: 0.9534 - val_accuracy: 0.7317\n",
            "Epoch 48/50\n",
            "87/87 [==============================] - 1s 9ms/step - loss: 0.2040 - accuracy: 0.9072 - val_loss: 0.9467 - val_accuracy: 0.7295\n",
            "Epoch 49/50\n",
            "87/87 [==============================] - 1s 10ms/step - loss: 0.1981 - accuracy: 0.9044 - val_loss: 0.9624 - val_accuracy: 0.7263\n",
            "Epoch 50/50\n",
            "87/87 [==============================] - 1s 9ms/step - loss: 0.2017 - accuracy: 0.9097 - val_loss: 0.9743 - val_accuracy: 0.7263\n"
          ]
        }
      ],
      "source": [
        "model = Sequential()\n",
        "model.add(text_vectorization)\n",
        "model.add(embedding)\n",
        "model.add(LSTM(32, return_sequences=True))\n",
        "model.add(LSTM(32))\n",
        "model.add(Dense(3,activation='softmax'))\n",
        "\n",
        "model.compile(loss='categorical_crossentropy',optimizer='adam',metrics='accuracy')\n",
        "\n",
        "model_lstm_hist_1 = model.fit(X_train,\n",
        "                         y_train_ohe,\n",
        "                         epochs=50,\n",
        "                         validation_data=(X_test, y_test_ohe))"
      ]
    },
    {
      "cell_type": "code",
      "execution_count": null,
      "metadata": {
        "colab": {
          "base_uri": "https://localhost:8080/",
          "height": 448
        },
        "id": "gKtV9wjPHanq",
        "outputId": "32f1d2e9-54cf-45a7-8803-856dd5cdbebc"
      },
      "outputs": [
        {
          "data": {
            "text/plain": [
              "<Axes: >"
            ]
          },
          "execution_count": 85,
          "metadata": {},
          "output_type": "execute_result"
        },
        {
          "data": {
            "image/png": "[encoded data removed]",
            "text/plain": [
              "<Figure size 640x480 with 1 Axes>"
            ]
          },
          "metadata": {},
          "output_type": "display_data"
        }
      ],
      "source": [
        "metrics = pd.DataFrame(model_lstm_hist_1.history)\n",
        "metrics[['loss', 'val_loss']].plot()"
      ]
    },
    {
      "cell_type": "markdown",
      "metadata": {
        "id": "-kFAAULvHanr"
      },
      "source": [
        "**Cara Word Embedding 2**"
      ]
    },
    {
      "cell_type": "code",
      "execution_count": null,
      "metadata": {
        "colab": {
          "base_uri": "https://localhost:8080/"
        },
        "id": "ROXmif_2Hanr",
        "outputId": "bff52f61-ea77-4ea9-c3bf-feafb77dd082"
      },
      "outputs": [
        {
          "name": "stdout",
          "output_type": "stream",
          "text": [
            "Epoch 1/50\n",
            "87/87 [==============================] - 9s 76ms/step - loss: 0.7922 - accuracy: 0.6886 - val_loss: 0.7412 - val_accuracy: 0.6929\n",
            "Epoch 2/50\n",
            "87/87 [==============================] - 6s 73ms/step - loss: 0.7443 - accuracy: 0.6929 - val_loss: 0.7395 - val_accuracy: 0.6929\n",
            "Epoch 3/50\n",
            "87/87 [==============================] - 7s 77ms/step - loss: 0.7421 - accuracy: 0.6929 - val_loss: 0.7413 - val_accuracy: 0.6929\n",
            "Epoch 4/50\n",
            "87/87 [==============================] - 6s 72ms/step - loss: 0.7420 - accuracy: 0.6929 - val_loss: 0.7401 - val_accuracy: 0.6929\n",
            "Epoch 5/50\n",
            "87/87 [==============================] - 6s 65ms/step - loss: 0.7419 - accuracy: 0.6929 - val_loss: 0.7401 - val_accuracy: 0.6929\n",
            "Epoch 6/50\n",
            "87/87 [==============================] - 6s 72ms/step - loss: 0.7413 - accuracy: 0.6929 - val_loss: 0.7403 - val_accuracy: 0.6929\n",
            "Epoch 7/50\n",
            "87/87 [==============================] - 6s 65ms/step - loss: 0.7415 - accuracy: 0.6929 - val_loss: 0.7404 - val_accuracy: 0.6929\n",
            "Epoch 8/50\n",
            "87/87 [==============================] - 7s 78ms/step - loss: 0.7426 - accuracy: 0.6929 - val_loss: 0.7395 - val_accuracy: 0.6929\n",
            "Epoch 9/50\n",
            "87/87 [==============================] - 6s 71ms/step - loss: 0.7421 - accuracy: 0.6929 - val_loss: 0.7410 - val_accuracy: 0.6929\n",
            "Epoch 10/50\n",
            "87/87 [==============================] - 6s 72ms/step - loss: 0.7412 - accuracy: 0.6929 - val_loss: 0.7447 - val_accuracy: 0.6929\n",
            "Epoch 11/50\n",
            "87/87 [==============================] - 6s 65ms/step - loss: 0.7404 - accuracy: 0.6929 - val_loss: 0.7447 - val_accuracy: 0.6929\n",
            "Epoch 12/50\n",
            "87/87 [==============================] - 6s 72ms/step - loss: 0.7419 - accuracy: 0.6929 - val_loss: 0.7397 - val_accuracy: 0.6929\n",
            "Epoch 13/50\n",
            "87/87 [==============================] - 6s 68ms/step - loss: 0.7418 - accuracy: 0.6929 - val_loss: 0.7403 - val_accuracy: 0.6929\n",
            "Epoch 14/50\n",
            "87/87 [==============================] - 6s 74ms/step - loss: 0.7416 - accuracy: 0.6929 - val_loss: 0.7398 - val_accuracy: 0.6929\n",
            "Epoch 15/50\n",
            "87/87 [==============================] - 6s 66ms/step - loss: 0.7415 - accuracy: 0.6929 - val_loss: 0.7397 - val_accuracy: 0.6929\n",
            "Epoch 16/50\n",
            "87/87 [==============================] - 7s 79ms/step - loss: 0.7410 - accuracy: 0.6929 - val_loss: 0.7424 - val_accuracy: 0.6929\n",
            "Epoch 17/50\n",
            "87/87 [==============================] - 6s 73ms/step - loss: 0.7422 - accuracy: 0.6929 - val_loss: 0.7395 - val_accuracy: 0.6929\n",
            "Epoch 18/50\n",
            "87/87 [==============================] - 6s 73ms/step - loss: 0.7418 - accuracy: 0.6929 - val_loss: 0.7394 - val_accuracy: 0.6929\n",
            "Epoch 19/50\n",
            "87/87 [==============================] - 6s 71ms/step - loss: 0.7419 - accuracy: 0.6929 - val_loss: 0.7430 - val_accuracy: 0.6929\n",
            "Epoch 20/50\n",
            "87/87 [==============================] - 6s 71ms/step - loss: 0.7415 - accuracy: 0.6929 - val_loss: 0.7398 - val_accuracy: 0.6929\n",
            "Epoch 21/50\n",
            "87/87 [==============================] - 6s 72ms/step - loss: 0.7412 - accuracy: 0.6929 - val_loss: 0.7418 - val_accuracy: 0.6929\n",
            "Epoch 22/50\n",
            "87/87 [==============================] - 7s 76ms/step - loss: 0.7405 - accuracy: 0.6929 - val_loss: 0.7395 - val_accuracy: 0.6929\n",
            "Epoch 23/50\n",
            "87/87 [==============================] - 7s 77ms/step - loss: 0.7413 - accuracy: 0.6929 - val_loss: 0.7397 - val_accuracy: 0.6929\n",
            "Epoch 24/50\n",
            "87/87 [==============================] - 6s 72ms/step - loss: 0.7412 - accuracy: 0.6929 - val_loss: 0.7402 - val_accuracy: 0.6929\n",
            "Epoch 25/50\n",
            "87/87 [==============================] - 7s 79ms/step - loss: 0.7410 - accuracy: 0.6929 - val_loss: 0.7394 - val_accuracy: 0.6929\n",
            "Epoch 26/50\n",
            "87/87 [==============================] - 6s 65ms/step - loss: 0.7413 - accuracy: 0.6929 - val_loss: 0.7400 - val_accuracy: 0.6929\n",
            "Epoch 27/50\n",
            "87/87 [==============================] - 6s 72ms/step - loss: 0.7408 - accuracy: 0.6929 - val_loss: 0.7400 - val_accuracy: 0.6929\n",
            "Epoch 28/50\n",
            "87/87 [==============================] - 6s 65ms/step - loss: 0.7409 - accuracy: 0.6929 - val_loss: 0.7398 - val_accuracy: 0.6929\n",
            "Epoch 29/50\n",
            "87/87 [==============================] - 6s 72ms/step - loss: 0.7414 - accuracy: 0.6929 - val_loss: 0.7395 - val_accuracy: 0.6929\n",
            "Epoch 30/50\n",
            "87/87 [==============================] - 6s 66ms/step - loss: 0.7414 - accuracy: 0.6929 - val_loss: 0.7402 - val_accuracy: 0.6929\n",
            "Epoch 31/50\n",
            "87/87 [==============================] - 6s 72ms/step - loss: 0.7406 - accuracy: 0.6929 - val_loss: 0.7395 - val_accuracy: 0.6929\n",
            "Epoch 32/50\n",
            "87/87 [==============================] - 6s 66ms/step - loss: 0.7409 - accuracy: 0.6929 - val_loss: 0.7408 - val_accuracy: 0.6929\n",
            "Epoch 33/50\n",
            "87/87 [==============================] - 6s 73ms/step - loss: 0.7412 - accuracy: 0.6929 - val_loss: 0.7395 - val_accuracy: 0.6929\n",
            "Epoch 34/50\n",
            "87/87 [==============================] - 6s 65ms/step - loss: 0.7405 - accuracy: 0.6929 - val_loss: 0.7394 - val_accuracy: 0.6929\n",
            "Epoch 35/50\n",
            "87/87 [==============================] - 6s 72ms/step - loss: 0.7406 - accuracy: 0.6929 - val_loss: 0.7401 - val_accuracy: 0.6929\n",
            "Epoch 36/50\n",
            "87/87 [==============================] - 6s 65ms/step - loss: 0.7412 - accuracy: 0.6929 - val_loss: 0.7395 - val_accuracy: 0.6929\n",
            "Epoch 37/50\n",
            "87/87 [==============================] - 7s 80ms/step - loss: 0.7413 - accuracy: 0.6929 - val_loss: 0.7397 - val_accuracy: 0.6929\n",
            "Epoch 38/50\n",
            "87/87 [==============================] - 6s 67ms/step - loss: 0.7420 - accuracy: 0.6929 - val_loss: 0.7400 - val_accuracy: 0.6929\n",
            "Epoch 39/50\n",
            "87/87 [==============================] - 6s 72ms/step - loss: 0.7411 - accuracy: 0.6929 - val_loss: 0.7397 - val_accuracy: 0.6929\n",
            "Epoch 40/50\n",
            "87/87 [==============================] - 6s 72ms/step - loss: 0.7411 - accuracy: 0.6929 - val_loss: 0.7396 - val_accuracy: 0.6929\n",
            "Epoch 41/50\n",
            "87/87 [==============================] - 6s 71ms/step - loss: 0.7416 - accuracy: 0.6933 - val_loss: 0.7401 - val_accuracy: 0.6929\n",
            "Epoch 42/50\n",
            "87/87 [==============================] - 6s 65ms/step - loss: 0.7404 - accuracy: 0.6940 - val_loss: 0.7396 - val_accuracy: 0.6929\n",
            "Epoch 43/50\n",
            "87/87 [==============================] - 6s 72ms/step - loss: 0.7407 - accuracy: 0.6936 - val_loss: 0.7394 - val_accuracy: 0.6929\n",
            "Epoch 44/50\n",
            "87/87 [==============================] - 6s 66ms/step - loss: 0.7397 - accuracy: 0.6940 - val_loss: 0.7413 - val_accuracy: 0.6929\n",
            "Epoch 45/50\n",
            "87/87 [==============================] - 6s 72ms/step - loss: 0.7402 - accuracy: 0.6940 - val_loss: 0.7394 - val_accuracy: 0.6929\n",
            "Epoch 46/50\n",
            "87/87 [==============================] - 6s 65ms/step - loss: 0.7401 - accuracy: 0.6940 - val_loss: 0.7396 - val_accuracy: 0.6929\n",
            "Epoch 47/50\n",
            "87/87 [==============================] - 6s 71ms/step - loss: 0.7397 - accuracy: 0.6944 - val_loss: 0.7376 - val_accuracy: 0.6929\n",
            "Epoch 48/50\n",
            "87/87 [==============================] - 6s 66ms/step - loss: 0.7456 - accuracy: 0.6936 - val_loss: 0.7404 - val_accuracy: 0.6929\n",
            "Epoch 49/50\n",
            "87/87 [==============================] - 6s 71ms/step - loss: 0.7409 - accuracy: 0.6940 - val_loss: 0.7395 - val_accuracy: 0.6929\n",
            "Epoch 50/50\n",
            "87/87 [==============================] - 6s 66ms/step - loss: 0.7389 - accuracy: 0.6940 - val_loss: 0.7419 - val_accuracy: 0.6929\n"
          ]
        }
      ],
      "source": [
        "embedding = Embedding(input_dim=jml_vocab,\n",
        "                      output_dim=128,\n",
        "                      embeddings_initializer=\"uniform\",\n",
        "                      input_length=jml_vocab\n",
        "                      )\n",
        "\n",
        "model = Sequential()\n",
        "model.add(embedding)\n",
        "model.add(LSTM(32))\n",
        "model.add(Dense(3,activation='softmax'))\n",
        "\n",
        "model.compile(loss='categorical_crossentropy',optimizer='adam',metrics='accuracy')\n",
        "\n",
        "model_lstm_hist_2 = model.fit(X_train_tfidf.todense(),\n",
        "                         y_train_ohe,\n",
        "                         epochs=50,\n",
        "                         validation_data=(X_test_tfidf.todense(), y_test_ohe))"
      ]
    },
    {
      "cell_type": "code",
      "execution_count": null,
      "metadata": {
        "colab": {
          "base_uri": "https://localhost:8080/",
          "height": 448
        },
        "id": "K7CAXROtHans",
        "outputId": "86ca807c-7792-4d7c-9ba1-b7c52870a9b1"
      },
      "outputs": [
        {
          "data": {
            "text/plain": [
              "<Axes: >"
            ]
          },
          "execution_count": 87,
          "metadata": {},
          "output_type": "execute_result"
        },
        {
          "data": {
            "image/png": "[encoded data removed]",
            "text/plain": [
              "<Figure size 640x480 with 1 Axes>"
            ]
          },
          "metadata": {},
          "output_type": "display_data"
        }
      ],
      "source": [
        "metrics = pd.DataFrame(model_lstm_hist_2.history)\n",
        "metrics[['loss', 'val_loss']].plot()"
      ]
    },
    {
      "cell_type": "markdown",
      "metadata": {
        "id": "5CXuoBkJHc4a"
      },
      "source": [
        "### GRU"
      ]
    },
    {
      "cell_type": "markdown",
      "metadata": {
        "id": "dRipiVUHHfPa"
      },
      "source": [
        "**Cara Word Embedding 1**"
      ]
    },
    {
      "cell_type": "code",
      "execution_count": null,
      "metadata": {
        "colab": {
          "base_uri": "https://localhost:8080/"
        },
        "id": "r8t1ZbkJHfPg",
        "outputId": "ca5bb379-7eaf-44a6-ef53-9b5ed8404fb0"
      },
      "outputs": [
        {
          "name": "stdout",
          "output_type": "stream",
          "text": [
            "Epoch 1/50\n",
            "87/87 [==============================] - 9s 67ms/step - loss: 0.7832 - accuracy: 0.6886 - val_loss: 0.7421 - val_accuracy: 0.6929\n",
            "Epoch 2/50\n",
            "87/87 [==============================] - 2s 27ms/step - loss: 0.7411 - accuracy: 0.6929 - val_loss: 0.7342 - val_accuracy: 0.6929\n",
            "Epoch 3/50\n",
            "87/87 [==============================] - 1s 14ms/step - loss: 0.7170 - accuracy: 0.6954 - val_loss: 0.6794 - val_accuracy: 0.6994\n",
            "Epoch 4/50\n",
            "87/87 [==============================] - 1s 13ms/step - loss: 0.4653 - accuracy: 0.8019 - val_loss: 0.6917 - val_accuracy: 0.7241\n",
            "Epoch 5/50\n",
            "87/87 [==============================] - 1s 10ms/step - loss: 0.3014 - accuracy: 0.8806 - val_loss: 0.8541 - val_accuracy: 0.7231\n",
            "Epoch 6/50\n",
            "87/87 [==============================] - 1s 8ms/step - loss: 0.2460 - accuracy: 0.9022 - val_loss: 0.7372 - val_accuracy: 0.7338\n",
            "Epoch 7/50\n",
            "87/87 [==============================] - 1s 10ms/step - loss: 0.2129 - accuracy: 0.9076 - val_loss: 0.9449 - val_accuracy: 0.7328\n",
            "Epoch 8/50\n",
            "87/87 [==============================] - 1s 9ms/step - loss: 0.1961 - accuracy: 0.9169 - val_loss: 0.8034 - val_accuracy: 0.7349\n",
            "Epoch 9/50\n",
            "87/87 [==============================] - 1s 10ms/step - loss: 0.1912 - accuracy: 0.9072 - val_loss: 0.8457 - val_accuracy: 0.7381\n",
            "Epoch 10/50\n",
            "87/87 [==============================] - 1s 9ms/step - loss: 0.1773 - accuracy: 0.9133 - val_loss: 0.8627 - val_accuracy: 0.7295\n",
            "Epoch 11/50\n",
            "87/87 [==============================] - 1s 11ms/step - loss: 0.1740 - accuracy: 0.9159 - val_loss: 0.8281 - val_accuracy: 0.7317\n",
            "Epoch 12/50\n",
            "87/87 [==============================] - 1s 8ms/step - loss: 0.1651 - accuracy: 0.9177 - val_loss: 0.9276 - val_accuracy: 0.7338\n",
            "Epoch 13/50\n",
            "87/87 [==============================] - 1s 14ms/step - loss: 0.1652 - accuracy: 0.9159 - val_loss: 0.8973 - val_accuracy: 0.7360\n",
            "Epoch 14/50\n",
            "87/87 [==============================] - 1s 13ms/step - loss: 0.1611 - accuracy: 0.9169 - val_loss: 0.9080 - val_accuracy: 0.7328\n",
            "Epoch 15/50\n",
            "87/87 [==============================] - 1s 8ms/step - loss: 0.1594 - accuracy: 0.9155 - val_loss: 0.9681 - val_accuracy: 0.7317\n",
            "Epoch 16/50\n",
            "87/87 [==============================] - 1s 9ms/step - loss: 0.1582 - accuracy: 0.9213 - val_loss: 0.8907 - val_accuracy: 0.7381\n",
            "Epoch 17/50\n",
            "87/87 [==============================] - 1s 8ms/step - loss: 0.1553 - accuracy: 0.9241 - val_loss: 0.9148 - val_accuracy: 0.7349\n",
            "Epoch 18/50\n",
            "87/87 [==============================] - 1s 8ms/step - loss: 0.1567 - accuracy: 0.9202 - val_loss: 0.9266 - val_accuracy: 0.7360\n",
            "Epoch 19/50\n",
            "87/87 [==============================] - 1s 9ms/step - loss: 0.1515 - accuracy: 0.9205 - val_loss: 0.9596 - val_accuracy: 0.7371\n",
            "Epoch 20/50\n",
            "87/87 [==============================] - 1s 8ms/step - loss: 0.1510 - accuracy: 0.9162 - val_loss: 0.9684 - val_accuracy: 0.7349\n",
            "Epoch 21/50\n",
            "87/87 [==============================] - 1s 8ms/step - loss: 0.1548 - accuracy: 0.9166 - val_loss: 0.9695 - val_accuracy: 0.7338\n",
            "Epoch 22/50\n",
            "87/87 [==============================] - 1s 9ms/step - loss: 0.1552 - accuracy: 0.9230 - val_loss: 0.9766 - val_accuracy: 0.7328\n",
            "Epoch 23/50\n",
            "87/87 [==============================] - 1s 10ms/step - loss: 0.1494 - accuracy: 0.9198 - val_loss: 0.9988 - val_accuracy: 0.7317\n",
            "Epoch 24/50\n",
            "87/87 [==============================] - 1s 8ms/step - loss: 0.1493 - accuracy: 0.9238 - val_loss: 1.0369 - val_accuracy: 0.7338\n",
            "Epoch 25/50\n",
            "87/87 [==============================] - 1s 8ms/step - loss: 0.1594 - accuracy: 0.9159 - val_loss: 1.0155 - val_accuracy: 0.7371\n",
            "Epoch 26/50\n",
            "87/87 [==============================] - 1s 9ms/step - loss: 0.1546 - accuracy: 0.9238 - val_loss: 0.9865 - val_accuracy: 0.7381\n",
            "Epoch 27/50\n",
            "87/87 [==============================] - 1s 9ms/step - loss: 0.1536 - accuracy: 0.9213 - val_loss: 1.0281 - val_accuracy: 0.7381\n",
            "Epoch 28/50\n",
            "87/87 [==============================] - 1s 15ms/step - loss: 0.1481 - accuracy: 0.9234 - val_loss: 1.0287 - val_accuracy: 0.7360\n",
            "Epoch 29/50\n",
            "87/87 [==============================] - 1s 10ms/step - loss: 0.1491 - accuracy: 0.9213 - val_loss: 1.0599 - val_accuracy: 0.7371\n",
            "Epoch 30/50\n",
            "87/87 [==============================] - 1s 8ms/step - loss: 0.1461 - accuracy: 0.9238 - val_loss: 1.0819 - val_accuracy: 0.7349\n",
            "Epoch 31/50\n",
            "87/87 [==============================] - 1s 8ms/step - loss: 0.1487 - accuracy: 0.9227 - val_loss: 1.0896 - val_accuracy: 0.7349\n",
            "Epoch 32/50\n",
            "87/87 [==============================] - 1s 8ms/step - loss: 0.1446 - accuracy: 0.9202 - val_loss: 1.0978 - val_accuracy: 0.7371\n",
            "Epoch 33/50\n",
            "87/87 [==============================] - 1s 9ms/step - loss: 0.1453 - accuracy: 0.9220 - val_loss: 1.0704 - val_accuracy: 0.7306\n",
            "Epoch 34/50\n",
            "87/87 [==============================] - 1s 8ms/step - loss: 0.1428 - accuracy: 0.9234 - val_loss: 1.1162 - val_accuracy: 0.7349\n",
            "Epoch 35/50\n",
            "87/87 [==============================] - 1s 9ms/step - loss: 0.1419 - accuracy: 0.9241 - val_loss: 1.1220 - val_accuracy: 0.7360\n",
            "Epoch 36/50\n",
            "87/87 [==============================] - 1s 10ms/step - loss: 0.1423 - accuracy: 0.9195 - val_loss: 1.1427 - val_accuracy: 0.7392\n",
            "Epoch 37/50\n",
            "87/87 [==============================] - 1s 8ms/step - loss: 0.1397 - accuracy: 0.9288 - val_loss: 1.1877 - val_accuracy: 0.7306\n",
            "Epoch 38/50\n",
            "87/87 [==============================] - 1s 8ms/step - loss: 0.1417 - accuracy: 0.9223 - val_loss: 1.1839 - val_accuracy: 0.7338\n",
            "Epoch 39/50\n",
            "87/87 [==============================] - 1s 8ms/step - loss: 0.1391 - accuracy: 0.9227 - val_loss: 1.1722 - val_accuracy: 0.7349\n",
            "Epoch 40/50\n",
            "87/87 [==============================] - 1s 9ms/step - loss: 0.1377 - accuracy: 0.9245 - val_loss: 1.1840 - val_accuracy: 0.7328\n",
            "Epoch 41/50\n",
            "87/87 [==============================] - 1s 8ms/step - loss: 0.1394 - accuracy: 0.9234 - val_loss: 1.0936 - val_accuracy: 0.7328\n",
            "Epoch 42/50\n",
            "87/87 [==============================] - 1s 11ms/step - loss: 0.1483 - accuracy: 0.9227 - val_loss: 1.0977 - val_accuracy: 0.7349\n",
            "Epoch 43/50\n",
            "87/87 [==============================] - 1s 15ms/step - loss: 0.1395 - accuracy: 0.9245 - val_loss: 1.1239 - val_accuracy: 0.7371\n",
            "Epoch 44/50\n",
            "87/87 [==============================] - 1s 8ms/step - loss: 0.1392 - accuracy: 0.9256 - val_loss: 1.1297 - val_accuracy: 0.7328\n",
            "Epoch 45/50\n",
            "87/87 [==============================] - 1s 8ms/step - loss: 0.1382 - accuracy: 0.9230 - val_loss: 1.1565 - val_accuracy: 0.7338\n",
            "Epoch 46/50\n",
            "87/87 [==============================] - 1s 9ms/step - loss: 0.1352 - accuracy: 0.9241 - val_loss: 1.1821 - val_accuracy: 0.7328\n",
            "Epoch 47/50\n",
            "87/87 [==============================] - 1s 8ms/step - loss: 0.1363 - accuracy: 0.9256 - val_loss: 1.1652 - val_accuracy: 0.7317\n",
            "Epoch 48/50\n",
            "87/87 [==============================] - 1s 8ms/step - loss: 0.1361 - accuracy: 0.9241 - val_loss: 1.1766 - val_accuracy: 0.7328\n",
            "Epoch 49/50\n",
            "87/87 [==============================] - 1s 8ms/step - loss: 0.1372 - accuracy: 0.9256 - val_loss: 1.2358 - val_accuracy: 0.7284\n",
            "Epoch 50/50\n",
            "87/87 [==============================] - 1s 8ms/step - loss: 0.1359 - accuracy: 0.9245 - val_loss: 1.2253 - val_accuracy: 0.7317\n"
          ]
        }
      ],
      "source": [
        "model = Sequential()\n",
        "model.add(text_vectorization)\n",
        "model.add(embedding)\n",
        "model.add(GRU(32, return_sequences=True))\n",
        "model.add(GRU(32))\n",
        "model.add(Dense(3,activation='softmax'))\n",
        "\n",
        "model.compile(loss='categorical_crossentropy',optimizer='adam',metrics='accuracy')\n",
        "\n",
        "model_gru_hist_1 = model.fit(X_train,\n",
        "                         y_train_ohe,\n",
        "                         epochs=50,\n",
        "                         validation_data=(X_test, y_test_ohe))"
      ]
    },
    {
      "cell_type": "code",
      "execution_count": null,
      "metadata": {
        "colab": {
          "base_uri": "https://localhost:8080/",
          "height": 448
        },
        "id": "9tdn-a0CHfPl",
        "outputId": "e62b4047-5753-4566-c46e-6ca8c4ebf486"
      },
      "outputs": [
        {
          "data": {
            "text/plain": [
              "<Axes: >"
            ]
          },
          "execution_count": 89,
          "metadata": {},
          "output_type": "execute_result"
        },
        {
          "data": {
            "image/png": "[encoded data removed]",
            "text/plain": [
              "<Figure size 640x480 with 1 Axes>"
            ]
          },
          "metadata": {},
          "output_type": "display_data"
        }
      ],
      "source": [
        "metrics = pd.DataFrame(model_gru_hist_1.history)\n",
        "metrics[['loss', 'val_loss']].plot()"
      ]
    },
    {
      "cell_type": "markdown",
      "metadata": {
        "id": "2GvCpQsfHfPm"
      },
      "source": [
        "**Cara Word Embedding 2**"
      ]
    },
    {
      "cell_type": "code",
      "execution_count": null,
      "metadata": {
        "colab": {
          "background_save": true,
          "base_uri": "https://localhost:8080/"
        },
        "id": "lh6rO2w-HfPn",
        "outputId": "361f6905-0d98-4b7e-9a08-ecc3fa2890e1"
      },
      "outputs": [
        {
          "name": "stdout",
          "output_type": "stream",
          "text": [
            "Epoch 1/50\n",
            "87/87 [==============================] - 8s 76ms/step - loss: 0.7784 - accuracy: 0.6929 - val_loss: 0.7423 - val_accuracy: 0.6929\n",
            "Epoch 2/50\n",
            "87/87 [==============================] - 6s 66ms/step - loss: 0.7429 - accuracy: 0.6929 - val_loss: 0.7464 - val_accuracy: 0.6929\n",
            "Epoch 3/50\n",
            "87/87 [==============================] - 6s 71ms/step - loss: 0.7428 - accuracy: 0.6929 - val_loss: 0.7425 - val_accuracy: 0.6929\n",
            "Epoch 4/50\n",
            "87/87 [==============================] - 6s 65ms/step - loss: 0.7447 - accuracy: 0.6929 - val_loss: 0.7411 - val_accuracy: 0.6929\n",
            "Epoch 5/50\n",
            "87/87 [==============================] - 7s 78ms/step - loss: 0.7440 - accuracy: 0.6929 - val_loss: 0.7402 - val_accuracy: 0.6929\n",
            "Epoch 6/50\n",
            "87/87 [==============================] - 6s 72ms/step - loss: 0.7422 - accuracy: 0.6929 - val_loss: 0.7397 - val_accuracy: 0.6929\n",
            "Epoch 7/50\n",
            "87/87 [==============================] - 6s 71ms/step - loss: 0.7434 - accuracy: 0.6929 - val_loss: 0.7465 - val_accuracy: 0.6929\n",
            "Epoch 8/50\n",
            "87/87 [==============================] - 6s 65ms/step - loss: 0.7418 - accuracy: 0.6929 - val_loss: 0.7396 - val_accuracy: 0.6929\n",
            "Epoch 9/50\n",
            "87/87 [==============================] - 6s 73ms/step - loss: 0.7416 - accuracy: 0.6929 - val_loss: 0.7400 - val_accuracy: 0.6929\n",
            "Epoch 10/50\n",
            "87/87 [==============================] - 6s 71ms/step - loss: 0.7410 - accuracy: 0.6929 - val_loss: 0.7397 - val_accuracy: 0.6929\n",
            "Epoch 11/50\n",
            "87/87 [==============================] - 7s 84ms/step - loss: 0.7410 - accuracy: 0.6929 - val_loss: 0.7395 - val_accuracy: 0.6929\n",
            "Epoch 12/50\n",
            "87/87 [==============================] - 6s 65ms/step - loss: 0.7406 - accuracy: 0.6926 - val_loss: 0.7409 - val_accuracy: 0.6929\n",
            "Epoch 13/50\n",
            "87/87 [==============================] - 6s 72ms/step - loss: 0.7403 - accuracy: 0.6936 - val_loss: 0.7377 - val_accuracy: 0.6929\n",
            "Epoch 14/50\n",
            "87/87 [==============================] - 6s 65ms/step - loss: 0.7393 - accuracy: 0.6944 - val_loss: 0.7317 - val_accuracy: 0.6940\n",
            "Epoch 15/50\n",
            "87/87 [==============================] - 7s 78ms/step - loss: 0.7257 - accuracy: 0.6936 - val_loss: 0.7136 - val_accuracy: 0.6940\n",
            "Epoch 16/50\n",
            "87/87 [==============================] - 6s 71ms/step - loss: 0.6885 - accuracy: 0.6929 - val_loss: 0.7308 - val_accuracy: 0.6929\n",
            "Epoch 17/50\n",
            "87/87 [==============================] - 7s 76ms/step - loss: 0.6840 - accuracy: 0.6951 - val_loss: 0.7109 - val_accuracy: 0.6929\n",
            "Epoch 18/50\n",
            "87/87 [==============================] - 7s 77ms/step - loss: 0.6820 - accuracy: 0.6940 - val_loss: 0.7251 - val_accuracy: 0.6929\n",
            "Epoch 19/50\n",
            "87/87 [==============================] - 6s 65ms/step - loss: 0.6821 - accuracy: 0.6944 - val_loss: 0.7138 - val_accuracy: 0.6929\n",
            "Epoch 20/50\n",
            "87/87 [==============================] - 6s 71ms/step - loss: 0.6826 - accuracy: 0.6940 - val_loss: 0.7255 - val_accuracy: 0.6929\n",
            "Epoch 21/50\n",
            "87/87 [==============================] - 6s 72ms/step - loss: 0.6821 - accuracy: 0.6944 - val_loss: 0.7338 - val_accuracy: 0.6929\n",
            "Epoch 22/50\n",
            "87/87 [==============================] - 6s 71ms/step - loss: 0.6815 - accuracy: 0.6947 - val_loss: 0.7164 - val_accuracy: 0.6929\n",
            "Epoch 23/50\n",
            "87/87 [==============================] - 6s 65ms/step - loss: 0.6803 - accuracy: 0.6944 - val_loss: 0.7183 - val_accuracy: 0.6929\n",
            "Epoch 24/50\n",
            "87/87 [==============================] - 7s 78ms/step - loss: 0.6793 - accuracy: 0.6947 - val_loss: 0.7401 - val_accuracy: 0.6940\n",
            "Epoch 25/50\n",
            "87/87 [==============================] - 6s 65ms/step - loss: 0.6808 - accuracy: 0.6944 - val_loss: 0.7216 - val_accuracy: 0.6929\n",
            "Epoch 26/50\n",
            "87/87 [==============================] - 7s 79ms/step - loss: 0.6788 - accuracy: 0.6944 - val_loss: 0.7122 - val_accuracy: 0.6929\n",
            "Epoch 27/50\n",
            "87/87 [==============================] - 6s 66ms/step - loss: 0.6801 - accuracy: 0.6947 - val_loss: 0.7163 - val_accuracy: 0.6929\n",
            "Epoch 28/50\n",
            "87/87 [==============================] - 6s 71ms/step - loss: 0.6823 - accuracy: 0.6944 - val_loss: 0.7288 - val_accuracy: 0.6929\n",
            "Epoch 29/50\n",
            "87/87 [==============================] - 6s 65ms/step - loss: 0.6812 - accuracy: 0.6944 - val_loss: 0.7135 - val_accuracy: 0.6929\n",
            "Epoch 30/50\n",
            "87/87 [==============================] - 6s 71ms/step - loss: 0.6820 - accuracy: 0.6954 - val_loss: 0.7354 - val_accuracy: 0.6940\n",
            "Epoch 31/50\n",
            "87/87 [==============================] - 6s 66ms/step - loss: 0.6799 - accuracy: 0.6951 - val_loss: 0.7314 - val_accuracy: 0.6929\n",
            "Epoch 32/50\n",
            "87/87 [==============================] - 6s 72ms/step - loss: 0.6794 - accuracy: 0.6951 - val_loss: 0.7232 - val_accuracy: 0.6929\n",
            "Epoch 33/50\n",
            "87/87 [==============================] - 6s 65ms/step - loss: 0.6794 - accuracy: 0.6951 - val_loss: 0.7178 - val_accuracy: 0.6929\n",
            "Epoch 34/50\n",
            "87/87 [==============================] - 6s 70ms/step - loss: 0.6807 - accuracy: 0.6947 - val_loss: 0.7175 - val_accuracy: 0.6929\n",
            "Epoch 35/50\n",
            "87/87 [==============================] - 6s 65ms/step - loss: 0.6794 - accuracy: 0.6951 - val_loss: 0.7222 - val_accuracy: 0.6929\n",
            "Epoch 36/50\n",
            "87/87 [==============================] - 6s 72ms/step - loss: 0.6786 - accuracy: 0.6944 - val_loss: 0.7319 - val_accuracy: 0.6929\n",
            "Epoch 37/50\n",
            "87/87 [==============================] - 6s 65ms/step - loss: 0.6808 - accuracy: 0.6954 - val_loss: 0.7223 - val_accuracy: 0.6929\n",
            "Epoch 38/50\n",
            "87/87 [==============================] - 6s 71ms/step - loss: 0.6796 - accuracy: 0.6947 - val_loss: 0.7307 - val_accuracy: 0.6940\n",
            "Epoch 39/50\n",
            "87/87 [==============================] - 6s 65ms/step - loss: 0.6794 - accuracy: 0.6940 - val_loss: 0.7205 - val_accuracy: 0.6940\n",
            "Epoch 40/50\n",
            "87/87 [==============================] - 6s 70ms/step - loss: 0.6823 - accuracy: 0.6954 - val_loss: 0.7315 - val_accuracy: 0.6929\n",
            "Epoch 41/50\n",
            "87/87 [==============================] - 6s 66ms/step - loss: 0.6790 - accuracy: 0.6951 - val_loss: 0.7164 - val_accuracy: 0.6929\n",
            "Epoch 42/50\n",
            "87/87 [==============================] - 7s 77ms/step - loss: 0.6798 - accuracy: 0.6947 - val_loss: 0.7227 - val_accuracy: 0.6940\n",
            "Epoch 43/50\n",
            "87/87 [==============================] - 6s 65ms/step - loss: 0.6781 - accuracy: 0.6954 - val_loss: 0.7318 - val_accuracy: 0.6940\n",
            "Epoch 44/50\n",
            "87/87 [==============================] - 7s 77ms/step - loss: 0.6781 - accuracy: 0.6944 - val_loss: 0.7176 - val_accuracy: 0.6940\n",
            "Epoch 45/50\n",
            "87/87 [==============================] - 6s 65ms/step - loss: 0.6788 - accuracy: 0.6940 - val_loss: 0.7209 - val_accuracy: 0.6940\n",
            "Epoch 46/50\n",
            "87/87 [==============================] - 6s 71ms/step - loss: 0.6793 - accuracy: 0.6951 - val_loss: 0.7185 - val_accuracy: 0.6940\n",
            "Epoch 47/50\n",
            "87/87 [==============================] - 6s 71ms/step - loss: 0.6792 - accuracy: 0.6958 - val_loss: 0.7215 - val_accuracy: 0.6940\n",
            "Epoch 48/50\n",
            "87/87 [==============================] - 6s 70ms/step - loss: 0.6804 - accuracy: 0.6951 - val_loss: 0.7283 - val_accuracy: 0.6940\n",
            "Epoch 49/50\n",
            "87/87 [==============================] - 6s 71ms/step - loss: 0.6799 - accuracy: 0.6936 - val_loss: 0.7251 - val_accuracy: 0.6940\n",
            "Epoch 50/50\n",
            "87/87 [==============================] - 6s 73ms/step - loss: 0.6792 - accuracy: 0.6947 - val_loss: 0.7243 - val_accuracy: 0.6940\n"
          ]
        }
      ],
      "source": [
        "embedding = Embedding(input_dim=jml_vocab,\n",
        "                      output_dim=128,\n",
        "                      embeddings_initializer=\"uniform\",\n",
        "                      input_length=jml_vocab\n",
        "                      )\n",
        "\n",
        "model = Sequential()\n",
        "model.add(embedding)\n",
        "model.add(GRU(32))\n",
        "model.add(Dense(3,activation='softmax'))\n",
        "\n",
        "model.compile(loss='categorical_crossentropy',optimizer='adam',metrics='accuracy')\n",
        "\n",
        "model_gru_hist_2 = model.fit(X_train_tfidf.todense(),\n",
        "                         y_train_ohe,\n",
        "                         epochs=50,\n",
        "                         validation_data=(X_test_tfidf.todense(), y_test_ohe))"
      ]
    },
    {
      "cell_type": "code",
      "execution_count": null,
      "metadata": {
        "colab": {
          "background_save": true
        },
        "id": "sSxfC27dHfPn",
        "outputId": "47125ac5-427e-41d3-a434-6f1358d8aa5b"
      },
      "outputs": [
        {
          "data": {
            "text/plain": [
              "<Axes: >"
            ]
          },
          "execution_count": 91,
          "metadata": {},
          "output_type": "execute_result"
        },
        {
          "data": {
            "image/png": "[encoded data removed]",
            "text/plain": [
              "<Figure size 640x480 with 1 Axes>"
            ]
          },
          "metadata": {},
          "output_type": "display_data"
        }
      ],
      "source": [
        "metrics = pd.DataFrame(model_gru_hist_2.history)\n",
        "metrics[['loss', 'val_loss']].plot()"
      ]
    }
  ],
  "metadata": {
    "accelerator": "GPU",
    "colab": {
      "provenance": [],
      "include_colab_link": true
    },
    "gpuClass": "standard",
    "kernelspec": {
      "display_name": "Python 3",
      "name": "python3"
    },
    "language_info": {
      "name": "python"
    }
  },
  "nbformat": 4,
  "nbformat_minor": 0
}